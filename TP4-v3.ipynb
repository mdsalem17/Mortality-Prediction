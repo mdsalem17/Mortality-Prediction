{
 "cells": [
  {
   "cell_type": "markdown",
   "metadata": {},
   "source": [
    "<table>\n",
    "<tr>\n",
    "    <td width=10%><img src=\"./img/logo_lri.jpg\"></td>\n",
    "    <td width=30%><img src=\"./img/medi-chal_logo.png\" height=15%></img></td>\n",
    "</tr>\n",
    "\n",
    "</table>"
   ]
  },
  {
   "cell_type": "markdown",
   "metadata": {},
   "source": [
    "<br/><br/><div id=\"top\"></div>\n",
    "\n",
    "<center><a style=\"font-size: 40pt; font-weight: bold\">To be or not to be?</a></center>\n",
    "<br/>\n",
    "<center><a style=\"font-size: 22pt; font-weight: bold\">Binary Classification on Artificial Medical Data</a></center>\n",
    "<br/>\n",
    "\n",
    "---"
   ]
  },
  {
   "cell_type": "markdown",
   "metadata": {},
   "source": [
    "# TP1 Instructions\n",
    "\n",
    "\n",
    "The goal of this TP is to work on a mortality prediction problem and to participate into the \"To be or not to be?\" challenge.\n",
    "\n",
    "A fresh instance of the challenge can be found here: https://competitions.codalab.org/competitions/27605\n"
   ]
  },
  {
   "cell_type": "markdown",
   "metadata": {},
   "source": [
    "<b><font size=\"5\">Outline</font></b><br/><br/>\n",
    "&emsp;&emsp;&emsp; I) <a href=\"#data\"> Load data</a><br/>\n",
    "&emsp;&emsp;&emsp; II) <a href=\"#exploratory\"> Exploratory analysis </a><br/>\n",
    "&emsp;&emsp;&emsp; III) <a href=\"#preprocessing\"> Preprocessing </a><br/>\n",
    "&emsp;&emsp;&emsp; IV) <a href=\"#processing\"> Processing </a><br/>\n",
    "&emsp;&emsp;&emsp; V) <a href=\"#model\"> Predictive model </a><br/>\n",
    "&emsp;&emsp;&emsp; VI) <a href=\"#save\"> Save predictions </a><br/>"
   ]
  },
  {
   "cell_type": "markdown",
   "metadata": {},
   "source": [
    "# Codalab username and group member:\n",
    "Mohammed Salem MESSOUD : mdsalem17  \n",
    "Phan Anh VU : phanav"
   ]
  },
  {
   "cell_type": "code",
   "execution_count": 60,
   "metadata": {},
   "outputs": [],
   "source": [
    "%matplotlib inline\n",
    "%reload_ext autoreload\n",
    "%autoreload 2\n",
    "\n",
    "import time\n",
    "from zipfile import ZipFile\n",
    "\n",
    "import matplotlib.pyplot as plt\n",
    "import numpy as np\n",
    "import seaborn as sns\n",
    "\n",
    "import sklearn\n",
    "\n",
    "# IMPORTS\n",
    "import pandas as pd\n",
    "import seaborn as sns\n",
    "from sklearn.ensemble import RandomForestClassifier\n",
    "from sklearn.metrics import (\n",
    "    accuracy_score,\n",
    "    balanced_accuracy_score,\n",
    "    roc_auc_score,\n",
    "    plot_confusion_matrix\n",
    ")\n",
    "from sklearn.model_selection import train_test_split\n",
    "from sklearn.preprocessing import OneHotEncoder, OrdinalEncoder\n",
    "\n",
    "from sklearn.svm import LinearSVC\n",
    "\n",
    "import os\n",
    "from pathlib import Path\n",
    "\n",
    "from IPython.display import display\n",
    "from pprint import pprint"
   ]
  },
  {
   "cell_type": "markdown",
   "metadata": {},
   "source": [
    "### Question 1: Briefly explain the task."
   ]
  },
  {
   "cell_type": "markdown",
   "metadata": {},
   "source": [
    "This is a binary classification of tabular data.  \n",
    "From information about patients, we need to predict whether the patients will die during their stay in the hospital.  \n",
    "A target value of 0 means survival, and 1 means death."
   ]
  },
  {
   "cell_type": "markdown",
   "metadata": {},
   "source": [
    "### Question 2: What is the metric used in the challenge?"
   ]
  },
  {
   "cell_type": "markdown",
   "metadata": {},
   "source": [
    "Balanced accuracy: average of accuracy for each class  \n",
    "\n",
    "<table>\n",
    "    <tr>\n",
    "        <td>\n",
    "            <img src=\"https://statisticaloddsandends.files.wordpress.com/2020/01/metrics1.png?w=600&h=434\" width=\"250\">\n",
    "        </td>\n",
    "        <td>\n",
    "            <img src=\"https://statisticaloddsandends.files.wordpress.com/2020/01/metrics2.png?w=768&h=352\" width=\"450\">\n",
    "        </td>\n",
    "    </tr>\n",
    "</table>\n",
    "    \n",
    "$$ \n",
    "\\texttt{Recall = Sensitivity = True Positive Rate} \\\\\n",
    "= \\frac{True Positive}{True Positive + False Negative} = \\frac{True Positive}{All Actual Positive}\n",
    "\\\\\n",
    "$$\n",
    "\n",
    "$$\n",
    "\\texttt{Specificity = True Negative Rate = 1- False Positive Rate} \\\\\n",
    "= \\frac{True Negative}{True Negative + False Positive} = \\frac{True Negative}{All Actual Negative}\n",
    "\\\\\n",
    "$$   \n",
    "\n",
    "$$\n",
    "\\texttt{balanced-accuracy} = \\frac 1 2 (\\texttt{True Positive Rate} + \\texttt{True Negative Rate})\n",
    "= \\frac{1}{2}\\left( \\frac{TP}{TP + FN} + \\frac{TN}{TN + FP}\\right )\n",
    "\\\\\n",
    "$$\n",
    "\n",
    "Reference:  \n",
    "https://scikit-learn.org/stable/modules/model_evaluation.html#balanced-accuracy-score  \n",
    "https://mvpa.blogspot.com/2015/12/balanced-accuracy-what-and-why.html  \n",
    "\n",
    "\n",
    "Example:  \n",
    "https://statisticaloddsandends.wordpress.com/2020/01/23/what-is-balanced-accuracy/  \n"
   ]
  },
  {
   "cell_type": "markdown",
   "metadata": {},
   "source": [
    "## <a id=\"data\"> I) Load data</a>  "
   ]
  },
  {
   "cell_type": "code",
   "execution_count": 4,
   "metadata": {},
   "outputs": [],
   "source": [
    "features = pd.read_csv(\n",
    "    \"public_data/mimic_synthetic_feat.name\", header=None\n",
    ").values.flatten()\n",
    "labels = pd.read_csv(\n",
    "    \"public_data/mimic_synthetic_label.name\", header=None\n",
    ").values.flatten()\n",
    "X = pd.read_csv(\n",
    "    \"public_data/mimic_synthetic_train.data\",\n",
    "    header=None,\n",
    "    names=features,\n",
    "    sep=\" \",\n",
    ")\n",
    "y = pd.Series(\n",
    "    pd.read_csv(\n",
    "        \"public_data/mimic_synthetic_train.solution\",\n",
    "        header=None,\n",
    "        names=labels,\n",
    "        sep=\" \",\n",
    "    ).values.flatten()\n",
    ")"
   ]
  },
  {
   "cell_type": "code",
   "execution_count": 5,
   "metadata": {},
   "outputs": [
    {
     "name": "stdout",
     "output_type": "stream",
     "text": [
      "(79999, 341)\n"
     ]
    },
    {
     "data": {
      "text/html": [
       "<div>\n",
       "<style scoped>\n",
       "    .dataframe tbody tr th:only-of-type {\n",
       "        vertical-align: middle;\n",
       "    }\n",
       "\n",
       "    .dataframe tbody tr th {\n",
       "        vertical-align: top;\n",
       "    }\n",
       "\n",
       "    .dataframe thead th {\n",
       "        text-align: right;\n",
       "    }\n",
       "</style>\n",
       "<table border=\"1\" class=\"dataframe\">\n",
       "  <thead>\n",
       "    <tr style=\"text-align: right;\">\n",
       "      <th></th>\n",
       "      <th>SUBJECT_ID</th>\n",
       "      <th>HADM_ID</th>\n",
       "      <th>ADMITTIME</th>\n",
       "      <th>DISCHTIME</th>\n",
       "      <th>INSURANCE</th>\n",
       "      <th>LANGUAGE</th>\n",
       "      <th>RELIGION</th>\n",
       "      <th>MARITAL_STATUS</th>\n",
       "      <th>ETHNICITY</th>\n",
       "      <th>GENDER</th>\n",
       "      <th>...</th>\n",
       "      <th>Eyeinfectn</th>\n",
       "      <th>Othereyedx</th>\n",
       "      <th>Otitismedia</th>\n",
       "      <th>Dizziness</th>\n",
       "      <th>Othereardx</th>\n",
       "      <th>Othnervdx</th>\n",
       "      <th>Hrtvalvedx</th>\n",
       "      <th>Carditis</th>\n",
       "      <th>HTN</th>\n",
       "      <th>Htncomplicn</th>\n",
       "    </tr>\n",
       "  </thead>\n",
       "  <tbody>\n",
       "    <tr>\n",
       "      <th>61029</th>\n",
       "      <td>51985</td>\n",
       "      <td>163004</td>\n",
       "      <td>2179-01-31_23:00:00</td>\n",
       "      <td>2188-04-29_17:15:00</td>\n",
       "      <td>Government</td>\n",
       "      <td>ENGL</td>\n",
       "      <td>PROTESTANT_QUAKER</td>\n",
       "      <td>MARRIED</td>\n",
       "      <td>WHITE</td>\n",
       "      <td>M</td>\n",
       "      <td>...</td>\n",
       "      <td>0</td>\n",
       "      <td>0</td>\n",
       "      <td>0</td>\n",
       "      <td>0</td>\n",
       "      <td>0</td>\n",
       "      <td>0.0</td>\n",
       "      <td>0</td>\n",
       "      <td>0</td>\n",
       "      <td>0</td>\n",
       "      <td>0</td>\n",
       "    </tr>\n",
       "    <tr>\n",
       "      <th>55490</th>\n",
       "      <td>12921</td>\n",
       "      <td>140536</td>\n",
       "      <td>2190-01-29_22:21:00</td>\n",
       "      <td>2134-01-30_13:26:00</td>\n",
       "      <td>Private</td>\n",
       "      <td>ENGL</td>\n",
       "      <td>CATHOLIC</td>\n",
       "      <td>UNKNOWN_(DEFAULT)</td>\n",
       "      <td>OTHER</td>\n",
       "      <td>M</td>\n",
       "      <td>...</td>\n",
       "      <td>0</td>\n",
       "      <td>0</td>\n",
       "      <td>0</td>\n",
       "      <td>0</td>\n",
       "      <td>0</td>\n",
       "      <td>0.0</td>\n",
       "      <td>1</td>\n",
       "      <td>0</td>\n",
       "      <td>0</td>\n",
       "      <td>0</td>\n",
       "    </tr>\n",
       "    <tr>\n",
       "      <th>27869</th>\n",
       "      <td>43056</td>\n",
       "      <td>139750</td>\n",
       "      <td>2157-09-19_20:00:00</td>\n",
       "      <td>2191-09-14_12:00:00</td>\n",
       "      <td>Medicare</td>\n",
       "      <td>ENGL</td>\n",
       "      <td>NOT_SPECIFIED</td>\n",
       "      <td>SINGLE</td>\n",
       "      <td>OTHER</td>\n",
       "      <td>F</td>\n",
       "      <td>...</td>\n",
       "      <td>0</td>\n",
       "      <td>0</td>\n",
       "      <td>0</td>\n",
       "      <td>0</td>\n",
       "      <td>0</td>\n",
       "      <td>0.0</td>\n",
       "      <td>1</td>\n",
       "      <td>0</td>\n",
       "      <td>1</td>\n",
       "      <td>0</td>\n",
       "    </tr>\n",
       "    <tr>\n",
       "      <th>23615</th>\n",
       "      <td>30966</td>\n",
       "      <td>191028</td>\n",
       "      <td>2163-04-05_07:15:00</td>\n",
       "      <td>2104-03-27_10:10:00</td>\n",
       "      <td>Private</td>\n",
       "      <td>ENGL</td>\n",
       "      <td>NOT_SPECIFIED</td>\n",
       "      <td>MARRIED</td>\n",
       "      <td>WHITE</td>\n",
       "      <td>M</td>\n",
       "      <td>...</td>\n",
       "      <td>0</td>\n",
       "      <td>0</td>\n",
       "      <td>0</td>\n",
       "      <td>0</td>\n",
       "      <td>0</td>\n",
       "      <td>0.0</td>\n",
       "      <td>0</td>\n",
       "      <td>0</td>\n",
       "      <td>0</td>\n",
       "      <td>0</td>\n",
       "    </tr>\n",
       "    <tr>\n",
       "      <th>77211</th>\n",
       "      <td>25137</td>\n",
       "      <td>104678</td>\n",
       "      <td>2188-08-19_22:44:00</td>\n",
       "      <td>2118-09-16_15:00:00</td>\n",
       "      <td>Private</td>\n",
       "      <td>ENGL</td>\n",
       "      <td>NOT_SPECIFIED</td>\n",
       "      <td>SINGLE</td>\n",
       "      <td>WHITE</td>\n",
       "      <td>F</td>\n",
       "      <td>...</td>\n",
       "      <td>0</td>\n",
       "      <td>0</td>\n",
       "      <td>0</td>\n",
       "      <td>0</td>\n",
       "      <td>0</td>\n",
       "      <td>0.0</td>\n",
       "      <td>0</td>\n",
       "      <td>0</td>\n",
       "      <td>0</td>\n",
       "      <td>1</td>\n",
       "    </tr>\n",
       "  </tbody>\n",
       "</table>\n",
       "<p>5 rows × 341 columns</p>\n",
       "</div>"
      ],
      "text/plain": [
       "       SUBJECT_ID  HADM_ID            ADMITTIME            DISCHTIME  \\\n",
       "61029       51985   163004  2179-01-31_23:00:00  2188-04-29_17:15:00   \n",
       "55490       12921   140536  2190-01-29_22:21:00  2134-01-30_13:26:00   \n",
       "27869       43056   139750  2157-09-19_20:00:00  2191-09-14_12:00:00   \n",
       "23615       30966   191028  2163-04-05_07:15:00  2104-03-27_10:10:00   \n",
       "77211       25137   104678  2188-08-19_22:44:00  2118-09-16_15:00:00   \n",
       "\n",
       "        INSURANCE LANGUAGE           RELIGION     MARITAL_STATUS ETHNICITY  \\\n",
       "61029  Government     ENGL  PROTESTANT_QUAKER            MARRIED     WHITE   \n",
       "55490     Private     ENGL           CATHOLIC  UNKNOWN_(DEFAULT)     OTHER   \n",
       "27869    Medicare     ENGL      NOT_SPECIFIED             SINGLE     OTHER   \n",
       "23615     Private     ENGL      NOT_SPECIFIED            MARRIED     WHITE   \n",
       "77211     Private     ENGL      NOT_SPECIFIED             SINGLE     WHITE   \n",
       "\n",
       "      GENDER  ...  Eyeinfectn  Othereyedx  Otitismedia  Dizziness  Othereardx  \\\n",
       "61029      M  ...           0           0            0          0           0   \n",
       "55490      M  ...           0           0            0          0           0   \n",
       "27869      F  ...           0           0            0          0           0   \n",
       "23615      M  ...           0           0            0          0           0   \n",
       "77211      F  ...           0           0            0          0           0   \n",
       "\n",
       "       Othnervdx  Hrtvalvedx  Carditis  HTN  Htncomplicn  \n",
       "61029        0.0           0         0    0            0  \n",
       "55490        0.0           1         0    0            0  \n",
       "27869        0.0           1         0    1            0  \n",
       "23615        0.0           0         0    0            0  \n",
       "77211        0.0           0         0    0            1  \n",
       "\n",
       "[5 rows x 341 columns]"
      ]
     },
     "metadata": {},
     "output_type": "display_data"
    }
   ],
   "source": [
    "print(X.shape)\n",
    "display(X.sample(5))"
   ]
  },
  {
   "cell_type": "code",
   "execution_count": 6,
   "metadata": {},
   "outputs": [
    {
     "name": "stdout",
     "output_type": "stream",
     "text": [
      "(79999,)\n"
     ]
    },
    {
     "data": {
      "text/plain": [
       "2339     0\n",
       "18118    0\n",
       "76293    0\n",
       "32084    0\n",
       "20844    0\n",
       "dtype: int64"
      ]
     },
     "metadata": {},
     "output_type": "display_data"
    },
    {
     "data": {
      "text/plain": [
       "0    77202\n",
       "1     2797\n",
       "dtype: int64"
      ]
     },
     "metadata": {},
     "output_type": "display_data"
    }
   ],
   "source": [
    "print(y.shape)\n",
    "display(y.sample(5))\n",
    "display(y.value_counts())"
   ]
  },
  {
   "cell_type": "markdown",
   "metadata": {},
   "source": [
    "This is the **training set**. This means that have access to the labels and you can use it in anyway you want to prepare your model.\n",
    "\n",
    "Later on, you'll make your model draws predictions from the **testing set** in order to upload them on Codalab and get a score on unseen labels."
   ]
  },
  {
   "cell_type": "code",
   "execution_count": 7,
   "metadata": {},
   "outputs": [],
   "source": [
    "# Load testing set\n",
    "X_test = pd.read_csv(\n",
    "    \"public_data/mimic_synthetic_test.data\",\n",
    "    header=None,\n",
    "    names=features,\n",
    "    sep=\" \",\n",
    ")"
   ]
  },
  {
   "cell_type": "code",
   "execution_count": 8,
   "metadata": {},
   "outputs": [
    {
     "name": "stdout",
     "output_type": "stream",
     "text": [
      "(20001, 341)\n"
     ]
    },
    {
     "data": {
      "text/html": [
       "<div>\n",
       "<style scoped>\n",
       "    .dataframe tbody tr th:only-of-type {\n",
       "        vertical-align: middle;\n",
       "    }\n",
       "\n",
       "    .dataframe tbody tr th {\n",
       "        vertical-align: top;\n",
       "    }\n",
       "\n",
       "    .dataframe thead th {\n",
       "        text-align: right;\n",
       "    }\n",
       "</style>\n",
       "<table border=\"1\" class=\"dataframe\">\n",
       "  <thead>\n",
       "    <tr style=\"text-align: right;\">\n",
       "      <th></th>\n",
       "      <th>SUBJECT_ID</th>\n",
       "      <th>HADM_ID</th>\n",
       "      <th>ADMITTIME</th>\n",
       "      <th>DISCHTIME</th>\n",
       "      <th>INSURANCE</th>\n",
       "      <th>LANGUAGE</th>\n",
       "      <th>RELIGION</th>\n",
       "      <th>MARITAL_STATUS</th>\n",
       "      <th>ETHNICITY</th>\n",
       "      <th>GENDER</th>\n",
       "      <th>...</th>\n",
       "      <th>Eyeinfectn</th>\n",
       "      <th>Othereyedx</th>\n",
       "      <th>Otitismedia</th>\n",
       "      <th>Dizziness</th>\n",
       "      <th>Othereardx</th>\n",
       "      <th>Othnervdx</th>\n",
       "      <th>Hrtvalvedx</th>\n",
       "      <th>Carditis</th>\n",
       "      <th>HTN</th>\n",
       "      <th>Htncomplicn</th>\n",
       "    </tr>\n",
       "  </thead>\n",
       "  <tbody>\n",
       "    <tr>\n",
       "      <th>19078</th>\n",
       "      <td>32155</td>\n",
       "      <td>130340</td>\n",
       "      <td>2199-10-25_07:15:00</td>\n",
       "      <td>2126-12-21_13:36:00</td>\n",
       "      <td>Medicare</td>\n",
       "      <td>ENGL</td>\n",
       "      <td>NOT_SPECIFIED</td>\n",
       "      <td>MARRIED</td>\n",
       "      <td>WHITE</td>\n",
       "      <td>M</td>\n",
       "      <td>...</td>\n",
       "      <td>0</td>\n",
       "      <td>0</td>\n",
       "      <td>0</td>\n",
       "      <td>0</td>\n",
       "      <td>0</td>\n",
       "      <td>0.0</td>\n",
       "      <td>1</td>\n",
       "      <td>0</td>\n",
       "      <td>0</td>\n",
       "      <td>0</td>\n",
       "    </tr>\n",
       "    <tr>\n",
       "      <th>7151</th>\n",
       "      <td>16847</td>\n",
       "      <td>174090</td>\n",
       "      <td>2153-01-15_14:20:00</td>\n",
       "      <td>2163-06-12_17:15:00</td>\n",
       "      <td>Private</td>\n",
       "      <td>RUSS</td>\n",
       "      <td>CATHOLIC</td>\n",
       "      <td>MARRIED</td>\n",
       "      <td>BLACK/HAITIAN</td>\n",
       "      <td>M</td>\n",
       "      <td>...</td>\n",
       "      <td>0</td>\n",
       "      <td>0</td>\n",
       "      <td>0</td>\n",
       "      <td>0</td>\n",
       "      <td>0</td>\n",
       "      <td>0.0</td>\n",
       "      <td>1</td>\n",
       "      <td>0</td>\n",
       "      <td>1</td>\n",
       "      <td>0</td>\n",
       "    </tr>\n",
       "    <tr>\n",
       "      <th>13464</th>\n",
       "      <td>95057</td>\n",
       "      <td>160285</td>\n",
       "      <td>2166-09-23_21:44:00</td>\n",
       "      <td>2150-09-15_14:47:00</td>\n",
       "      <td>Medicare</td>\n",
       "      <td>ENGL</td>\n",
       "      <td>NOT_SPECIFIED</td>\n",
       "      <td>SINGLE</td>\n",
       "      <td>WHITE</td>\n",
       "      <td>M</td>\n",
       "      <td>...</td>\n",
       "      <td>0</td>\n",
       "      <td>0</td>\n",
       "      <td>0</td>\n",
       "      <td>0</td>\n",
       "      <td>0</td>\n",
       "      <td>0.0</td>\n",
       "      <td>0</td>\n",
       "      <td>0</td>\n",
       "      <td>0</td>\n",
       "      <td>0</td>\n",
       "    </tr>\n",
       "    <tr>\n",
       "      <th>4693</th>\n",
       "      <td>68307</td>\n",
       "      <td>140901</td>\n",
       "      <td>2141-10-11_18:26:00</td>\n",
       "      <td>2161-03-13_12:45:00</td>\n",
       "      <td>Private</td>\n",
       "      <td>ENGL</td>\n",
       "      <td>NOT_SPECIFIED</td>\n",
       "      <td>SINGLE</td>\n",
       "      <td>PATIENT_DECLINED_TO_ANSWER</td>\n",
       "      <td>F</td>\n",
       "      <td>...</td>\n",
       "      <td>0</td>\n",
       "      <td>0</td>\n",
       "      <td>0</td>\n",
       "      <td>0</td>\n",
       "      <td>0</td>\n",
       "      <td>1.0</td>\n",
       "      <td>0</td>\n",
       "      <td>0</td>\n",
       "      <td>1</td>\n",
       "      <td>0</td>\n",
       "    </tr>\n",
       "    <tr>\n",
       "      <th>15998</th>\n",
       "      <td>12526</td>\n",
       "      <td>106513</td>\n",
       "      <td>2184-02-12_07:15:00</td>\n",
       "      <td>2195-09-16_13:57:00</td>\n",
       "      <td>Medicaid</td>\n",
       "      <td>ENGL</td>\n",
       "      <td>CATHOLIC</td>\n",
       "      <td>MARRIED</td>\n",
       "      <td>WHITE</td>\n",
       "      <td>M</td>\n",
       "      <td>...</td>\n",
       "      <td>0</td>\n",
       "      <td>0</td>\n",
       "      <td>0</td>\n",
       "      <td>0</td>\n",
       "      <td>0</td>\n",
       "      <td>0.0</td>\n",
       "      <td>0</td>\n",
       "      <td>0</td>\n",
       "      <td>0</td>\n",
       "      <td>0</td>\n",
       "    </tr>\n",
       "  </tbody>\n",
       "</table>\n",
       "<p>5 rows × 341 columns</p>\n",
       "</div>"
      ],
      "text/plain": [
       "       SUBJECT_ID  HADM_ID            ADMITTIME            DISCHTIME  \\\n",
       "19078       32155   130340  2199-10-25_07:15:00  2126-12-21_13:36:00   \n",
       "7151        16847   174090  2153-01-15_14:20:00  2163-06-12_17:15:00   \n",
       "13464       95057   160285  2166-09-23_21:44:00  2150-09-15_14:47:00   \n",
       "4693        68307   140901  2141-10-11_18:26:00  2161-03-13_12:45:00   \n",
       "15998       12526   106513  2184-02-12_07:15:00  2195-09-16_13:57:00   \n",
       "\n",
       "      INSURANCE LANGUAGE       RELIGION MARITAL_STATUS  \\\n",
       "19078  Medicare     ENGL  NOT_SPECIFIED        MARRIED   \n",
       "7151    Private     RUSS       CATHOLIC        MARRIED   \n",
       "13464  Medicare     ENGL  NOT_SPECIFIED         SINGLE   \n",
       "4693    Private     ENGL  NOT_SPECIFIED         SINGLE   \n",
       "15998  Medicaid     ENGL       CATHOLIC        MARRIED   \n",
       "\n",
       "                        ETHNICITY GENDER  ...  Eyeinfectn  Othereyedx  \\\n",
       "19078                       WHITE      M  ...           0           0   \n",
       "7151                BLACK/HAITIAN      M  ...           0           0   \n",
       "13464                       WHITE      M  ...           0           0   \n",
       "4693   PATIENT_DECLINED_TO_ANSWER      F  ...           0           0   \n",
       "15998                       WHITE      M  ...           0           0   \n",
       "\n",
       "       Otitismedia  Dizziness  Othereardx  Othnervdx  Hrtvalvedx  Carditis  \\\n",
       "19078            0          0           0        0.0           1         0   \n",
       "7151             0          0           0        0.0           1         0   \n",
       "13464            0          0           0        0.0           0         0   \n",
       "4693             0          0           0        1.0           0         0   \n",
       "15998            0          0           0        0.0           0         0   \n",
       "\n",
       "       HTN  Htncomplicn  \n",
       "19078    0            0  \n",
       "7151     1            0  \n",
       "13464    0            0  \n",
       "4693     1            0  \n",
       "15998    0            0  \n",
       "\n",
       "[5 rows x 341 columns]"
      ]
     },
     "metadata": {},
     "output_type": "display_data"
    }
   ],
   "source": [
    "print(X_test.shape)\n",
    "# print(X_test.dropna().shape)\n",
    "display(X_test.sample(5))"
   ]
  },
  {
   "cell_type": "markdown",
   "metadata": {},
   "source": [
    "## <a id=\"exploratory\"> II) Exploratory analysis</a>"
   ]
  },
  {
   "cell_type": "markdown",
   "metadata": {},
   "source": [
    "#### Variable types"
   ]
  },
  {
   "cell_type": "code",
   "execution_count": 9,
   "metadata": {},
   "outputs": [
    {
     "name": "stdout",
     "output_type": "stream",
     "text": [
      "Numerical      226\n",
      "Binary         107\n",
      "Categorical      8\n",
      "Name: 0, dtype: int64\n"
     ]
    }
   ],
   "source": [
    "types = pd.read_csv(\n",
    "    \"public_data/mimic_synthetic_feat.type\", header=None\n",
    ").set_index(features)[0]\n",
    "print(types.value_counts())"
   ]
  },
  {
   "cell_type": "markdown",
   "metadata": {},
   "source": [
    "### Code 1: Display the following plots:\n",
    "* Bar plots of some categorical variables (e.g. \"LANGUAGE\", \"MARITAL_STATUS\")\n",
    "\n",
    "* Show the correlation between some variables and the target variable y.\n",
    "\n",
    "* Another plot or any exploratory analysis you can think of"
   ]
  },
  {
   "cell_type": "code",
   "execution_count": 10,
   "metadata": {},
   "outputs": [
    {
     "data": {
      "text/plain": [
       "array(['ADMITTIME', 'DISCHTIME', 'INSURANCE', 'LANGUAGE', 'RELIGION',\n",
       "       'MARITAL_STATUS', 'ETHNICITY', 'ICU'], dtype=object)"
      ]
     },
     "metadata": {},
     "output_type": "display_data"
    }
   ],
   "source": [
    "# TODO: plot1\n",
    "display(types[types == \"Categorical\"].index.values)\n",
    "\n",
    "categorical_features = \"ICU INSURANCE GENDER\".split(\" \")"
   ]
  },
  {
   "cell_type": "code",
   "execution_count": 11,
   "metadata": {},
   "outputs": [
    {
     "data": {
      "text/plain": [
       "<AxesSubplot:>"
      ]
     },
     "execution_count": 11,
     "metadata": {},
     "output_type": "execute_result"
    },
    {
     "data": {
      "image/png": "[encoded data removed]",
      "text/plain": [
       "<Figure size 432x288 with 1 Axes>"
      ]
     },
     "metadata": {
      "needs_background": "light"
     },
     "output_type": "display_data"
    }
   ],
   "source": [
    "X[\"ICU\"].value_counts().plot(kind=\"bar\")"
   ]
  },
  {
   "cell_type": "code",
   "execution_count": 12,
   "metadata": {},
   "outputs": [
    {
     "data": {
      "text/plain": [
       "<AxesSubplot:>"
      ]
     },
     "execution_count": 12,
     "metadata": {},
     "output_type": "execute_result"
    },
    {
     "data": {
      "image/png": "[encoded data removed]",
      "text/plain": [
       "<Figure size 432x288 with 1 Axes>"
      ]
     },
     "metadata": {
      "needs_background": "light"
     },
     "output_type": "display_data"
    }
   ],
   "source": [
    "X[\"INSURANCE\"].value_counts().plot(kind=\"bar\")"
   ]
  },
  {
   "cell_type": "markdown",
   "metadata": {},
   "source": [
    "## Correlation"
   ]
  },
  {
   "cell_type": "code",
   "execution_count": 61,
   "metadata": {},
   "outputs": [],
   "source": [
    "Xcorr = X.corr()"
   ]
  },
  {
   "cell_type": "code",
   "execution_count": 91,
   "metadata": {},
   "outputs": [],
   "source": [
    "# descending sort of correlation and remove variance of a variable with iteslf\n",
    "desc_Xcorr = Xcorr.abs().unstack().sort_values(ascending = False)\n",
    "desc_Xcorr = desc_Xcorr.reset_index()\n",
    "desc_Xcorr = desc_Xcorr[(desc_Xcorr.iloc[:, 0] != desc_Xcorr.iloc[:, 1])]\n"
   ]
  },
  {
   "cell_type": "code",
   "execution_count": 97,
   "metadata": {},
   "outputs": [
    {
     "data": {
      "text/html": [
       "<div>\n",
       "<style scoped>\n",
       "    .dataframe tbody tr th:only-of-type {\n",
       "        vertical-align: middle;\n",
       "    }\n",
       "\n",
       "    .dataframe tbody tr th {\n",
       "        vertical-align: top;\n",
       "    }\n",
       "\n",
       "    .dataframe thead th {\n",
       "        text-align: right;\n",
       "    }\n",
       "</style>\n",
       "<table border=\"1\" class=\"dataframe\">\n",
       "  <thead>\n",
       "    <tr style=\"text-align: right;\">\n",
       "      <th></th>\n",
       "      <th>level_0</th>\n",
       "      <th>level_1</th>\n",
       "      <th>0</th>\n",
       "    </tr>\n",
       "  </thead>\n",
       "  <tbody>\n",
       "    <tr>\n",
       "      <th>159</th>\n",
       "      <td>HR_MIN_DAY1</td>\n",
       "      <td>HR_MEAN_DAY1</td>\n",
       "      <td>0.855669</td>\n",
       "    </tr>\n",
       "    <tr>\n",
       "      <th>160</th>\n",
       "      <td>HR_MEAN_DAY1</td>\n",
       "      <td>HR_MIN_DAY1</td>\n",
       "      <td>0.855669</td>\n",
       "    </tr>\n",
       "    <tr>\n",
       "      <th>161</th>\n",
       "      <td>HR_MEAN_DAY2</td>\n",
       "      <td>HR_MIN_DAY2</td>\n",
       "      <td>0.854973</td>\n",
       "    </tr>\n",
       "    <tr>\n",
       "      <th>162</th>\n",
       "      <td>HR_MIN_DAY2</td>\n",
       "      <td>HR_MEAN_DAY2</td>\n",
       "      <td>0.854973</td>\n",
       "    </tr>\n",
       "    <tr>\n",
       "      <th>163</th>\n",
       "      <td>MEAN_BP_MEAN_DAY1</td>\n",
       "      <td>DIAS_BP_MEAN_DAY1</td>\n",
       "      <td>0.827153</td>\n",
       "    </tr>\n",
       "    <tr>\n",
       "      <th>164</th>\n",
       "      <td>DIAS_BP_MEAN_DAY1</td>\n",
       "      <td>MEAN_BP_MEAN_DAY1</td>\n",
       "      <td>0.827153</td>\n",
       "    </tr>\n",
       "    <tr>\n",
       "      <th>165</th>\n",
       "      <td>HR_MEAN_DAY1</td>\n",
       "      <td>HR_MAX_DAY1</td>\n",
       "      <td>0.818055</td>\n",
       "    </tr>\n",
       "    <tr>\n",
       "      <th>166</th>\n",
       "      <td>HR_MAX_DAY1</td>\n",
       "      <td>HR_MEAN_DAY1</td>\n",
       "      <td>0.818055</td>\n",
       "    </tr>\n",
       "    <tr>\n",
       "      <th>167</th>\n",
       "      <td>TEMP_MAX_DAY2</td>\n",
       "      <td>TEMP_MEAN_DAY2</td>\n",
       "      <td>0.817794</td>\n",
       "    </tr>\n",
       "    <tr>\n",
       "      <th>168</th>\n",
       "      <td>TEMP_MEAN_DAY2</td>\n",
       "      <td>TEMP_MAX_DAY2</td>\n",
       "      <td>0.817794</td>\n",
       "    </tr>\n",
       "  </tbody>\n",
       "</table>\n",
       "</div>"
      ],
      "text/plain": [
       "               level_0            level_1         0\n",
       "159        HR_MIN_DAY1       HR_MEAN_DAY1  0.855669\n",
       "160       HR_MEAN_DAY1        HR_MIN_DAY1  0.855669\n",
       "161       HR_MEAN_DAY2        HR_MIN_DAY2  0.854973\n",
       "162        HR_MIN_DAY2       HR_MEAN_DAY2  0.854973\n",
       "163  MEAN_BP_MEAN_DAY1  DIAS_BP_MEAN_DAY1  0.827153\n",
       "164  DIAS_BP_MEAN_DAY1  MEAN_BP_MEAN_DAY1  0.827153\n",
       "165       HR_MEAN_DAY1        HR_MAX_DAY1  0.818055\n",
       "166        HR_MAX_DAY1       HR_MEAN_DAY1  0.818055\n",
       "167      TEMP_MAX_DAY2     TEMP_MEAN_DAY2  0.817794\n",
       "168     TEMP_MEAN_DAY2      TEMP_MAX_DAY2  0.817794"
      ]
     },
     "execution_count": 97,
     "metadata": {},
     "output_type": "execute_result"
    }
   ],
   "source": [
    "desc_Xcorr[:10]"
   ]
  },
  {
   "cell_type": "markdown",
   "metadata": {},
   "source": [
    "Many numerical variables are strongly correlated.  \n",
    "They seem to be typically the mean, max and min of measurements such as temperature"
   ]
  },
  {
   "cell_type": "code",
   "execution_count": 13,
   "metadata": {},
   "outputs": [],
   "source": [
    "def split_yindex(xdata, ydata):\n",
    "    \"\"\" Split target y into label 0 and label 1\"\"\"\n",
    "    y1_idx = ydata[ydata==1].index\n",
    "    y0_idx = np.setdiff1d(ydata.index, y1_idx)\n",
    "    return y0_idx, y1_idx\n"
   ]
  },
  {
   "cell_type": "code",
   "execution_count": 14,
   "metadata": {},
   "outputs": [],
   "source": [
    "def sample_data(xdata, ydata, yindex=None, yratio=4):\n",
    "    \"\"\" Keep all label 1, sample from  label 0 \"\"\"\n",
    "    if not yindex: yindex = split_yindex(xdata, ydata)    \n",
    "    sample_y0_idx = np.random.choice(yindex[0], size=len(yindex[1]) * yratio)    \n",
    "    sample_idx =  np.concatenate((yindex[1], sample_y0_idx))\n",
    "    return xdata.iloc[sample_idx], ydata.iloc[sample_idx]\n",
    "\n"
   ]
  },
  {
   "cell_type": "code",
   "execution_count": 15,
   "metadata": {},
   "outputs": [
    {
     "name": "stdout",
     "output_type": "stream",
     "text": [
      "(13985, 341) (13985,)\n"
     ]
    },
    {
     "data": {
      "text/plain": [
       "0    11188\n",
       "1     2797\n",
       "dtype: int64"
      ]
     },
     "metadata": {},
     "output_type": "display_data"
    }
   ],
   "source": [
    "xsample, ysample = sample_data(X, y)\n",
    "print(xsample.shape, ysample.shape)\n",
    "display(ysample.value_counts())\n",
    "\n",
    "xtrain, xvalid, ytrain, yvalid = train_test_split(xsample, ysample, test_size=0.2)\n"
   ]
  },
  {
   "cell_type": "code",
   "execution_count": 16,
   "metadata": {},
   "outputs": [],
   "source": [
    "def handle_missing(xdata):\n",
    "    return xdata.fillna(xdata.median())\n"
   ]
  },
  {
   "cell_type": "markdown",
   "metadata": {},
   "source": [
    " "
   ]
  },
  {
   "cell_type": "markdown",
   "metadata": {},
   "source": [
    "## <a id=\"preprocessing\"> III) Preprocessing </a>"
   ]
  },
  {
   "cell_type": "code",
   "execution_count": 18,
   "metadata": {},
   "outputs": [],
   "source": [
    "def encode_categorical(xdata):\n",
    "    xencoded = xdata.copy()\n",
    "    xencoded[\"is_male\"] = (xdata[\"GENDER\"] == \"M\").astype(int)\n",
    "    \n",
    "    onehot_cols = \"ICU INSURANCE\".split(\" \")\n",
    "    xencoded = pd.get_dummies(xencoded, columns=onehot_cols, dummy_na=True)\n",
    "    \n",
    "    return xencoded\n"
   ]
  },
  {
   "cell_type": "code",
   "execution_count": 19,
   "metadata": {},
   "outputs": [
    {
     "name": "stdout",
     "output_type": "stream",
     "text": [
      "['SUBJECT_ID' 'HADM_ID' 'AGE' 'HR_MIN_DAY1' 'HR_MAX_DAY1' 'HR_MEAN_DAY1'\n",
      " 'SYS_BP_MIN_DAY1' 'SYS_BP_MAX_DAY1' 'SYS_BP_MEAN_DAY1' 'DIAS_BP_MIN_DAY1']\n",
      "<class 'numpy.ndarray'>\n"
     ]
    }
   ],
   "source": [
    "# types[types == \"Numerical\"][:20]\n",
    "numerical_features = types[types == \"Numerical\"].index.values\n",
    "print(numerical_features[0:10])\n",
    "print(type(numerical_features))"
   ]
  },
  {
   "cell_type": "code",
   "execution_count": 20,
   "metadata": {},
   "outputs": [
    {
     "name": "stdout",
     "output_type": "stream",
     "text": [
      "['AcuteMI' 'Coronathero' 'Pulmhartdx' 'Conduction' 'Dysrhythmia'\n",
      " 'Cardiaarrst' 'chf;nonhp' 'AcuteCVD' 'Precereoccl' 'LateeffCVD']\n"
     ]
    }
   ],
   "source": [
    "binary_features = types[types == \"Binary\"].index.values\n",
    "binary_features = binary_features[binary_features != \"GENDER\"]\n",
    "print(binary_features[0:10])\n"
   ]
  },
  {
   "cell_type": "code",
   "execution_count": 21,
   "metadata": {},
   "outputs": [],
   "source": [
    "def select_columns(xdata):\n",
    "    exclude_cols = ('ADMITTIME', 'DISCHTIME', 'LANGUAGE', 'RELIGION', 'MARITAL_STATUS', 'ETHNICITY', 'GENDER')\n",
    "    selected_cols = np.setdiff1d(xdata.columns, exclude_cols)\n",
    "    return xdata[selected_cols]\n"
   ]
  },
  {
   "cell_type": "code",
   "execution_count": 22,
   "metadata": {},
   "outputs": [
    {
     "name": "stdout",
     "output_type": "stream",
     "text": [
      "(11188, 345) (2797, 345)\n"
     ]
    }
   ],
   "source": [
    "def preprocess(xraw):\n",
    "    xencoded = encode_categorical(xraw)\n",
    "    x_no_missing = handle_missing(xencoded)\n",
    "    xselected = select_columns(x_no_missing)\n",
    "    return xselected\n",
    "\n",
    "xtrain_preprocess = preprocess(xtrain)\n",
    "xvalid_preprocess = preprocess(xvalid)\n",
    "print(xtrain_preprocess.shape, xvalid_preprocess.shape)\n"
   ]
  },
  {
   "cell_type": "markdown",
   "metadata": {},
   "source": [
    "# PCA"
   ]
  },
  {
   "cell_type": "code",
   "execution_count": 23,
   "metadata": {},
   "outputs": [],
   "source": [
    "pca_model = sklearn.decomposition.PCA()\n",
    "xtrain_pca = pca_model.fit_transform(xtrain_preprocess)"
   ]
  },
  {
   "cell_type": "code",
   "execution_count": 24,
   "metadata": {},
   "outputs": [
    {
     "name": "stdout",
     "output_type": "stream",
     "text": [
      "[5.08568634e-01 4.91419007e-01 5.91638249e-06 1.29430480e-06\n",
      " 1.03793480e-06 8.22600656e-07 6.44168028e-07 4.18047676e-07\n",
      " 3.57460429e-07 3.11022395e-07 2.46084879e-07 1.75326969e-07\n",
      " 1.59860820e-07 1.52168856e-07 1.38290371e-07 9.84950368e-08\n",
      " 7.22316817e-08 6.57872995e-08 5.58549602e-08 5.18321254e-08\n",
      " 4.91289049e-08 4.00335855e-08 3.24670685e-08 2.74223412e-08\n",
      " 2.39070741e-08 2.09134662e-08 1.90508836e-08 1.60461093e-08\n",
      " 1.47261872e-08 1.35171683e-08]\n"
     ]
    }
   ],
   "source": [
    "print(pca_model.explained_variance_ratio_[:30])"
   ]
  },
  {
   "cell_type": "code",
   "execution_count": 25,
   "metadata": {},
   "outputs": [
    {
     "data": {
      "image/png": "[encoded data removed]",
      "text/plain": [
       "<Figure size 432x288 with 2 Axes>"
      ]
     },
     "metadata": {
      "needs_background": "light"
     },
     "output_type": "display_data"
    }
   ],
   "source": [
    "plt.scatter(xtrain_pca[:,0], xtrain_pca[:,1], c=ytrain)\n",
    "plt.colorbar()\n",
    "plt.show()"
   ]
  },
  {
   "cell_type": "markdown",
   "metadata": {},
   "source": [
    "The first 2 principal components hold a large portion of variance.  \n",
    "However, they are not enough to untangle the 2 label classes."
   ]
  },
  {
   "cell_type": "markdown",
   "metadata": {},
   "source": [
    "## <a id=\"processing\"> III) Processing</a>\n"
   ]
  },
  {
   "cell_type": "code",
   "execution_count": 26,
   "metadata": {},
   "outputs": [
    {
     "name": "stdout",
     "output_type": "stream",
     "text": [
      "(11188, 345) (11188,)\n",
      "(2797, 345) (2797,)\n"
     ]
    }
   ],
   "source": [
    "# xtrain_final = xtrain_encoded[selected_columns]\n",
    "xtrain_final = xtrain_preprocess\n",
    "ytrain_final = ytrain\n",
    "\n",
    "# xvalid_final = xvalid_encoded[selected_columns]\n",
    "xvalid_final = xvalid_preprocess\n",
    "yvalid_final = yvalid\n",
    "\n",
    "print(xtrain_final.shape, ytrain_final.shape)\n",
    "print(xvalid_final.shape, yvalid_final.shape)"
   ]
  },
  {
   "cell_type": "markdown",
   "metadata": {},
   "source": [
    "## <a id=\"model\"> IV) Predictive model</a>\n",
    "Train a model and assess its performance."
   ]
  },
  {
   "cell_type": "markdown",
   "metadata": {},
   "source": [
    "### Random Forest Classifier model"
   ]
  },
  {
   "cell_type": "code",
   "execution_count": 27,
   "metadata": {},
   "outputs": [
    {
     "name": "stdout",
     "output_type": "stream",
     "text": [
      "Balanced accuracy score: 0.6645062038927276\n"
     ]
    }
   ],
   "source": [
    "# Baseline: Random Forest\n",
    "clf = RandomForestClassifier(\n",
    "    n_estimators=10, class_weight=\"balanced\",\n",
    "    max_depth=5, \n",
    ")\n",
    "\n",
    "clf.fit(xtrain_final, ytrain_final)  # training\n",
    "\n",
    "ypred = clf.predict(xvalid_final)  # predictions\n",
    "score = balanced_accuracy_score(yvalid_final, ypred)  # scoring\n",
    "print(\"Balanced accuracy score: {}\".format(score))"
   ]
  },
  {
   "cell_type": "code",
   "execution_count": 28,
   "metadata": {},
   "outputs": [
    {
     "data": {
      "text/plain": [
       "<sklearn.metrics._plot.confusion_matrix.ConfusionMatrixDisplay at 0x7f7c8c346730>"
      ]
     },
     "execution_count": 28,
     "metadata": {},
     "output_type": "execute_result"
    },
    {
     "data": {
      "image/png": "[encoded data removed]",
      "text/plain": [
       "<Figure size 432x288 with 2 Axes>"
      ]
     },
     "metadata": {
      "needs_background": "light"
     },
     "output_type": "display_data"
    }
   ],
   "source": [
    "plot_confusion_matrix(clf, xvalid_final, yvalid_final)"
   ]
  },
  {
   "cell_type": "markdown",
   "metadata": {},
   "source": [
    "## Compare result while varying number of principal components"
   ]
  },
  {
   "cell_type": "code",
   "execution_count": 109,
   "metadata": {},
   "outputs": [],
   "source": [
    "n_components = np.arange(start=10, stop=300, step=10)\n",
    "pca_scores = []\n",
    "\n",
    "for n_component in n_components:\n",
    "    pca_clf = RandomForestClassifier(n_estimators=10, class_weight=\"balanced\",\n",
    "        max_depth=5, \n",
    "    )\n",
    "\n",
    "    pca_clf.fit(xtrain_pca[:, :n_component], ytrain_final)  # training\n",
    "\n",
    "    pca_predictions = pca_clf.predict(pca_model.transform(xvalid_final)[:, :n_component])  # predictions\n",
    "    pca_scores.append(balanced_accuracy_score(yvalid_final, pca_predictions))  # scoring\n",
    "    \n"
   ]
  },
  {
   "cell_type": "code",
   "execution_count": 110,
   "metadata": {},
   "outputs": [
    {
     "data": {
      "text/plain": [
       "Text(0, 0.5, 'valid balanced accuracy')"
      ]
     },
     "execution_count": 110,
     "metadata": {},
     "output_type": "execute_result"
    },
    {
     "data": {
      "image/png": "[encoded data removed]",
      "text/plain": [
       "<Figure size 432x288 with 1 Axes>"
      ]
     },
     "metadata": {
      "needs_background": "light"
     },
     "output_type": "display_data"
    }
   ],
   "source": [
    "plt.plot(n_components, pca_scores)\n",
    "plt.xlabel(\"PCA # components\")\n",
    "plt.ylabel(\"valid balanced accuracy\")"
   ]
  },
  {
   "cell_type": "code",
   "execution_count": 111,
   "metadata": {},
   "outputs": [
    {
     "name": "stdout",
     "output_type": "stream",
     "text": [
      "6\n",
      "best n_components:  70  and best pca_scores:  0.6776231447553334\n"
     ]
    }
   ],
   "source": [
    "best_pca_score_index = np.argmax(pca_scores)\n",
    "best_pca_n_components = n_components[best_pca_score_index]\n",
    "print(best_pca_score_index)\n",
    "print('best n_components: ', best_pca_n_components, ' and best pca_scores: ', pca_scores[best_pca_score_index])"
   ]
  },
  {
   "cell_type": "code",
   "execution_count": 101,
   "metadata": {},
   "outputs": [
    {
     "name": "stdout",
     "output_type": "stream",
     "text": [
      "Best PCA Balanced accuracy score: 0.6659289773557104\n"
     ]
    }
   ],
   "source": [
    "# Baseline: Random Forest\n",
    "best_pca_clf = RandomForestClassifier(\n",
    "    n_estimators=10, class_weight=\"balanced\",\n",
    "    max_depth=5, \n",
    ")\n",
    "\n",
    "best_pca_clf.fit(xtrain_pca[:, :best_pca_n_components], ytrain_final)  # training\n",
    "\n",
    "best_pca_predictions = best_pca_clf.predict(pca_model.transform(xvalid_final)[:, :best_pca_n_components])\n",
    "    \n",
    "best_pca_score = balanced_accuracy_score(yvalid_final, best_pca_predictions)  # scoring\n",
    "print(\"Best PCA Balanced accuracy score: {}\".format(best_pca_score))"
   ]
  },
  {
   "cell_type": "markdown",
   "metadata": {},
   "source": [
    "### Code 3: the code above uses a simple \"hold out\" method to get the validation score. Use cross-validation to get a more stable estimation."
   ]
  },
  {
   "cell_type": "code",
   "execution_count": 36,
   "metadata": {},
   "outputs": [
    {
     "name": "stdout",
     "output_type": "stream",
     "text": [
      "(11188, 345) (2797, 345)\n",
      "(13985, 345)\n"
     ]
    }
   ],
   "source": [
    "xtrain_cv = np.concatenate((xtrain_final, xvalid_final), axis = 0)\n",
    "ytrain_cv = np.concatenate((ytrain_final, yvalid_final))\n",
    "\n",
    "print(xtrain_final.shape, xvalid_final.shape)\n",
    "print(xtrain_cv.shape, ytrain_cv.shape)"
   ]
  },
  {
   "cell_type": "code",
   "execution_count": 37,
   "metadata": {},
   "outputs": [
    {
     "data": {
      "text/plain": [
       "['fit_time', 'score_time', 'test_score']"
      ]
     },
     "execution_count": 37,
     "metadata": {},
     "output_type": "execute_result"
    }
   ],
   "source": [
    "from sklearn.model_selection import cross_validate\n",
    "                           \n",
    "cv_results = cross_validate(clf, xtrain_cv, ytrain_cv, cv=5, scoring='balanced_accuracy')\n",
    "sorted(cv_results.keys())"
   ]
  },
  {
   "cell_type": "code",
   "execution_count": 39,
   "metadata": {},
   "outputs": [
    {
     "name": "stdout",
     "output_type": "stream",
     "text": [
      "Cross validation balanced accuracy: \n",
      "[0.6613507  0.6857052  0.65664542 0.68084927 0.66924452]\n",
      "The average score of cross Validation:  0.6707590220968568\n"
     ]
    }
   ],
   "source": [
    "print(\"Cross validation balanced accuracy: \")\n",
    "print(cv_results['test_score'])\n",
    "print(\"The average score of cross validation: \", cv_results['test_score'].mean())"
   ]
  },
  {
   "cell_type": "markdown",
   "metadata": {},
   "source": [
    "### Code 4: Try to improve your score by using at least one of the following methods:\n",
    "\n",
    "* Hyperparameter search\n",
    "* Model selection\n",
    "* Data augmentation"
   ]
  },
  {
   "cell_type": "code",
   "execution_count": 47,
   "metadata": {},
   "outputs": [
    {
     "data": {
      "image/png": "[encoded data removed]",
      "text/plain": [
       "<Figure size 432x288 with 1 Axes>"
      ]
     },
     "metadata": {
      "needs_background": "light"
     },
     "output_type": "display_data"
    }
   ],
   "source": [
    "\n",
    "n_estimators = np.concatenate( (np.arange(1, 10, 1), np.arange(10, 50, 5) ))\n",
    "test_results = []\n",
    "\n",
    "for n in n_estimators:\n",
    "    rforest = RandomForestClassifier(n_estimators = n, max_depth=5)\n",
    "    rforest.fit(xtrain_final, ytrain_final)\n",
    "    ypred = rforest.predict(xvalid_final)\n",
    "    accuracy = balanced_accuracy_score(yvalid_final, ypred)\n",
    "    test_results.append(accuracy)\n",
    "    \n",
    "from matplotlib.legend_handler import HandlerLine2D\n",
    "line1, = plt.plot(n_estimators, test_results, 'r', label=\"Valid balanced_accuracy\")\n",
    "plt.legend(handler_map={line1: HandlerLine2D(numpoints=2)})\n",
    "plt.ylabel('balanced_accuracy_score')\n",
    "plt.xlabel('RF n_estimators')\n",
    "plt.show()"
   ]
  },
  {
   "cell_type": "code",
   "execution_count": 55,
   "metadata": {},
   "outputs": [
    {
     "data": {
      "image/png": "[encoded data removed]",
      "text/plain": [
       "<Figure size 432x288 with 1 Axes>"
      ]
     },
     "metadata": {
      "needs_background": "light"
     },
     "output_type": "display_data"
    }
   ],
   "source": [
    "\n",
    "max_depths = np.concatenate( (np.arange(1, 10, 1), np.arange(10, 100, 5) ))\n",
    "test_results = []\n",
    "\n",
    "for max_depth in max_depths:\n",
    "    rforest = RandomForestClassifier(n_estimators = 5, max_depth=max_depth)\n",
    "    rforest.fit(xtrain_final, ytrain_final)\n",
    "    ypred = rforest.predict(xvalid_final)\n",
    "    accuracy = balanced_accuracy_score(yvalid_final, ypred)\n",
    "    test_results.append(accuracy)\n",
    "    \n",
    "from matplotlib.legend_handler import HandlerLine2D\n",
    "line1, = plt.plot(max_depths, test_results, 'r', label=\"Valid balanced_accuracy\")\n",
    "plt.legend(handler_map={line1: HandlerLine2D(numpoints=2)})\n",
    "plt.ylabel('balanced_accuracy_score')\n",
    "plt.xlabel('max depth')\n",
    "plt.show()"
   ]
  },
  {
   "cell_type": "code",
   "execution_count": 57,
   "metadata": {},
   "outputs": [
    {
     "name": "stdout",
     "output_type": "stream",
     "text": [
      "Fitting 5 folds for each of 10 candidates, totalling 50 fits\n"
     ]
    },
    {
     "name": "stderr",
     "output_type": "stream",
     "text": [
      "[Parallel(n_jobs=-1)]: Using backend LokyBackend with 4 concurrent workers.\n",
      "[Parallel(n_jobs=-1)]: Done  33 tasks      | elapsed:    7.8s\n",
      "[Parallel(n_jobs=-1)]: Done  50 out of  50 | elapsed:   10.8s finished\n"
     ]
    },
    {
     "data": {
      "text/plain": [
       "RandomizedSearchCV(cv=5, estimator=RandomForestClassifier(random_state=42),\n",
       "                   n_jobs=-1,\n",
       "                   param_distributions={'class_weight': [None, 'balanced',\n",
       "                                                         'balanced_subsample'],\n",
       "                                        'max_depth': array([ 1,  2,  3,  4,  5,  6,  7,  8,  9, 10, 15, 20, 25, 30, 35, 40, 45]),\n",
       "                                        'max_features': ['auto', 'sqrt',\n",
       "                                                         'log2'],\n",
       "                                        'min_samples_leaf': [1, 2, 4],\n",
       "                                        'min_samples_split': [2, 5, 10],\n",
       "                                        'n_estimators': array([ 1,  2,  3,  4,  5,  6,  7,  8,  9, 10, 15, 20, 25, 30, 35, 40, 45])},\n",
       "                   random_state=42, scoring='balanced_accuracy', verbose=2)"
      ]
     },
     "execution_count": 57,
     "metadata": {},
     "output_type": "execute_result"
    }
   ],
   "source": [
    "from sklearn.model_selection import RandomizedSearchCV\n",
    "\n",
    "# Number of trees in random forest\n",
    "n_estimators = np.concatenate( (np.arange(1, 10, 1), np.arange(10, 50, 5) ))\n",
    "\n",
    "# Maximum number of levels in tree\n",
    "max_depth = np.concatenate( (np.arange(1, 10, 1), np.arange(10, 50, 5) ))\n",
    "\n",
    "# number of features at every split\n",
    "max_features = ['auto', 'sqrt', 'log2']\n",
    "# Minimum number of samples required to split a node\n",
    "min_samples_split = [2, 5, 10]\n",
    "\n",
    "# Minimum number of samples required at each leaf node\n",
    "min_samples_leaf = [1, 2, 4]\n",
    "class_weight = [None, 'balanced', 'balanced_subsample']\n",
    "\n",
    "# Create the random grid\n",
    "random_grid = {'n_estimators': n_estimators,\n",
    "               'max_features': max_features,\n",
    "               'max_depth': max_depth,\n",
    "               'min_samples_split': min_samples_split,\n",
    "               'min_samples_leaf': min_samples_leaf,\n",
    "               'class_weight': class_weight\n",
    "              }\n",
    "\n",
    "# Use the random grid to search for best hyperparameters\n",
    "# First create the base model to tune\n",
    "rf = RandomForestClassifier(random_state=42,)\n",
    "\n",
    "# Random search of parameters, using 3 fold cross validation, \n",
    "# search across 100 different combinations, and use all available cores\n",
    "\n",
    "rf_random = RandomizedSearchCV(estimator = rf, param_distributions = random_grid, n_iter = 10,\n",
    "                               scoring='balanced_accuracy', cv = 5, verbose=2, random_state=42, n_jobs = -1)\n",
    "\n",
    "# Fit the random search model\n",
    "rf_random.fit(xtrain_cv, ytrain_cv)"
   ]
  },
  {
   "cell_type": "code",
   "execution_count": 58,
   "metadata": {},
   "outputs": [
    {
     "name": "stdout",
     "output_type": "stream",
     "text": [
      "{'n_estimators': 30, 'min_samples_split': 2, 'min_samples_leaf': 4, 'max_features': 'sqrt', 'max_depth': 8, 'class_weight': 'balanced'}\n"
     ]
    }
   ],
   "source": [
    "best_params = rf_random.best_params_\n",
    "print(best_params)"
   ]
  },
  {
   "cell_type": "code",
   "execution_count": 113,
   "metadata": {},
   "outputs": [
    {
     "name": "stdout",
     "output_type": "stream",
     "text": [
      "Balanced accuracy score: 0.6772263747391378\n"
     ]
    }
   ],
   "source": [
    "rf_clf = RandomForestClassifier(**best_params)\n",
    "\n",
    "rf_clf.fit(xtrain_final, ytrain_final)  # training\n",
    "\n",
    "ypred = rf_clf.predict(xvalid_final)  # predictions\n",
    "score = balanced_accuracy_score(yvalid_final, ypred)  # scoring\n",
    "print(\"Balanced accuracy score: {}\".format(score))"
   ]
  },
  {
   "cell_type": "code",
   "execution_count": 112,
   "metadata": {},
   "outputs": [
    {
     "name": "stdout",
     "output_type": "stream",
     "text": [
      "Best PCA Balanced accuracy score: 0.6743467494068734\n"
     ]
    }
   ],
   "source": [
    "best_pca_clf = RandomForestClassifier(**best_params)\n",
    "\n",
    "best_pca_clf.fit(xtrain_pca[:, :best_pca_n_components], ytrain_final)  # training\n",
    "\n",
    "best_pca_predictions = best_pca_clf.predict(pca_model.transform(xvalid_final)[:, :best_pca_n_components])\n",
    "    \n",
    "best_pca_score = balanced_accuracy_score(yvalid_final, best_pca_predictions)  # scoring\n",
    "print(\"Best PCA Balanced accuracy score: {}\".format(best_pca_score))"
   ]
  },
  {
   "cell_type": "markdown",
   "metadata": {},
   "source": [
    "### Question 3: What is up-sampling? Why it may be worth a try for this problem?"
   ]
  },
  {
   "cell_type": "markdown",
   "metadata": {},
   "source": [
    "By oversampling, we duplicate instances of the minority class.  \n",
    "It might be an interesting idea in this case.  \n",
    "In the original dataset, there is only less than 3000 positive samples, and more than 70 000 negative sample.\n",
    "\n",
    "<img src=\"https://miro.medium.com/max/725/0*FeIp1t4uEcW5LmSM.png\">"
   ]
  },
  {
   "cell_type": "code",
   "execution_count": 58,
   "metadata": {},
   "outputs": [
    {
     "name": "stdout",
     "output_type": "stream",
     "text": [
      "Requirement already satisfied: imbalanced-learn in /opt/anaconda3/lib/python3.8/site-packages (0.7.0)\n",
      "Requirement already satisfied: joblib>=0.11 in /opt/anaconda3/lib/python3.8/site-packages (from imbalanced-learn) (0.16.0)\n",
      "Requirement already satisfied: scikit-learn>=0.23 in /opt/anaconda3/lib/python3.8/site-packages (from imbalanced-learn) (0.23.1)\n",
      "Requirement already satisfied: numpy>=1.13.3 in /opt/anaconda3/lib/python3.8/site-packages (from imbalanced-learn) (1.18.5)\n",
      "Requirement already satisfied: scipy>=0.19.1 in /opt/anaconda3/lib/python3.8/site-packages (from imbalanced-learn) (1.5.0)\n",
      "Requirement already satisfied: threadpoolctl>=2.0.0 in /opt/anaconda3/lib/python3.8/site-packages (from scikit-learn>=0.23->imbalanced-learn) (2.1.0)\n"
     ]
    }
   ],
   "source": [
    "# check version number\n",
    "! pip install imbalanced-learn\n",
    "from imblearn.over_sampling import SMOTE"
   ]
  },
  {
   "cell_type": "code",
   "execution_count": 59,
   "metadata": {},
   "outputs": [
    {
     "name": "stdout",
     "output_type": "stream",
     "text": [
      "length of oversampled data is  17866\n",
      "Number of no subscription in oversampled data 8933\n",
      "Number of subscription 8933\n",
      "Proportion of no subscription data in oversampled data is  0.5\n",
      "Proportion of subscription data in oversampled data is  0.5\n"
     ]
    }
   ],
   "source": [
    "#up-sampling training data \n",
    "os_smote = SMOTE(random_state=0)\n",
    "columns = xtrain_final.columns\n",
    "\n",
    "os_data_X, os_data_y = os_smote.fit_sample(xtrain_final, ytrain_final)\n",
    "os_data_X = pd.DataFrame(data=os_data_X,columns=columns )\n",
    "os_data_y= pd.DataFrame(data=os_data_y,columns=['y'])\n",
    "# we can Check the numbers of our data\n",
    "\n",
    "print(\"length of oversampled data is \",len(os_data_X))\n",
    "print(\"Number of no subscription in oversampled data\",len(os_data_y[os_data_y['y']==0]))\n",
    "print(\"Number of subscription\",len(os_data_y[os_data_y['y']==1]))\n",
    "print(\"Proportion of no subscription data in oversampled data is \",len(os_data_y[os_data_y['y']==0])/len(os_data_X))\n",
    "print(\"Proportion of subscription data in oversampled data is \",len(os_data_y[os_data_y['y']==1])/len(os_data_X))"
   ]
  },
  {
   "cell_type": "code",
   "execution_count": 60,
   "metadata": {},
   "outputs": [
    {
     "name": "stdout",
     "output_type": "stream",
     "text": [
      "Balanced accuracy score: 0.6501914564600191\n"
     ]
    }
   ],
   "source": [
    "rf_random_clf = RandomForestClassifier(**best_params)\n",
    "\n",
    "rf_random_clf.fit(os_data_X, os_data_y.values.ravel())  # training\n",
    "\n",
    "ypred = rf_random_clf.predict(xvalid_final)  # predictions\n",
    "score = balanced_accuracy_score(yvalid_final, ypred)  # scoring\n",
    "print(\"Balanced accuracy score: {}\".format(score))"
   ]
  },
  {
   "cell_type": "markdown",
   "metadata": {},
   "source": [
    "## <a id=\"save\"> V) Save Predictions</a>\n",
    "\n",
    "* Use the following code to make predictions and save them as a ZIP file.\n",
    "* Try to upload this ZIP file into the competition (\"Participate > Submit/ View Results > Submit\")\n",
    "* Do your best to be **on top of the leaderboard!**"
   ]
  },
  {
   "cell_type": "code",
   "execution_count": 121,
   "metadata": {},
   "outputs": [],
   "source": [
    "xtest_preprocess = preprocess(X_test)\n",
    "predictions = rf_clf.predict(xtest_preprocess)  # compute predictions (0 and 1)\n"
   ]
  },
  {
   "cell_type": "code",
   "execution_count": 128,
   "metadata": {},
   "outputs": [
    {
     "data": {
      "text/plain": [
       "<AxesSubplot:title={'center':'Test prediction distribution'}>"
      ]
     },
     "execution_count": 128,
     "metadata": {},
     "output_type": "execute_result"
    },
    {
     "data": {
      "image/png": "[encoded data removed]",
      "text/plain": [
       "<Figure size 432x288 with 1 Axes>"
      ]
     },
     "metadata": {
      "needs_background": "light"
     },
     "output_type": "display_data"
    }
   ],
   "source": [
    "pd.Series(predictions).value_counts().plot.bar(title=\"Test prediction distribution\")"
   ]
  },
  {
   "cell_type": "code",
   "execution_count": 77,
   "metadata": {},
   "outputs": [
    {
     "name": "stdout",
     "output_type": "stream",
     "text": [
      "Predictions saved.\n",
      "The submission is ready: ./submissions/submission_Tue_Dec__1_22-53-17_2020.zip\n"
     ]
    }
   ],
   "source": [
    "predictions_file = \"mimic_synthetic_test.csv\"\n",
    "pd.Series(predictions).to_csv(predictions_file, index=False, header=False)\n",
    "print(\"Predictions saved.\")\n",
    "\n",
    "t = time.asctime().replace(\" \", \"_\").replace(\":\", \"-\")\n",
    "output_file = \"./submissions/submission_\" + t + \".zip\"\n",
    "\n",
    "# !zip test_submission.zip mimic_synthetic_test.csv # create a ZIP\n",
    "\n",
    "with ZipFile(output_file, \"w\") as z:\n",
    "    z.write(predictions_file)\n",
    "print(\"The submission is ready: {}\".format(output_file))"
   ]
  },
  {
   "cell_type": "code",
   "execution_count": null,
   "metadata": {},
   "outputs": [],
   "source": []
  },
  {
   "cell_type": "markdown",
   "metadata": {},
   "source": [
    "### Interesting to know!\n",
    "\n",
    "The dataset doesn't contain actual medical data. We are not allowed to share with you such **confidential data** from critical care patients. To avoid that problem, we replaced the data by **artificial data**. \n",
    "\n",
    "In order to have credible data, we have generated them using a **Wasserstein GAN**.\n",
    "\n",
    "For more information, here is a reference: <br />\n",
    "Privacy Preserving Synthetic Health Data <br />\n",
    "Andrew Yale, Saloni Dash, Ritik Dutta, Isabelle Guyon, Adrien Pavao, Kristin Bennett <br />\n",
    "https://hal.inria.fr/hal-02160496/document"
   ]
  }
 ],
 "metadata": {
  "kernelspec": {
   "display_name": "Python 3",
   "language": "python",
   "name": "python3"
  },
  "language_info": {
   "codemirror_mode": {
    "name": "ipython",
    "version": 3
   },
   "file_extension": ".py",
   "mimetype": "text/x-python",
   "name": "python",
   "nbconvert_exporter": "python",
   "pygments_lexer": "ipython3",
   "version": "3.8.5"
  }
 },
 "nbformat": 4,
 "nbformat_minor": 4
}
