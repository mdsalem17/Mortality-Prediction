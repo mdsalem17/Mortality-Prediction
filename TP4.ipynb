{
 "cells": [
  {
   "cell_type": "markdown",
   "metadata": {},
   "source": [
    "<table>\n",
    "<tr>\n",
    "    <td width=10%><img src=\"./img/logo_lri.jpg\"></td>\n",
    "    <td width=30%><img src=\"./img/medi-chal_logo.png\" height=15%></img></td>\n",
    "</tr>\n",
    "\n",
    "</table>"
   ]
  },
  {
   "cell_type": "markdown",
   "metadata": {},
   "source": [
    "<br/><br/><div id=\"top\"></div>\n",
    "\n",
    "<center><a style=\"font-size: 40pt; font-weight: bold\">To be or not to be?</a></center>\n",
    "<br/>\n",
    "<center><a style=\"font-size: 22pt; font-weight: bold\">Binary Classification on Artificial Medical Data</a></center>\n",
    "<br/>\n",
    "\n",
    "---"
   ]
  },
  {
   "cell_type": "markdown",
   "metadata": {},
   "source": [
    "# TP1 Instructions\n",
    "\n",
    "\n",
    "The goal of this TP is to work on a mortality prediction problem and to participate into the \"To be or not to be?\" challenge.\n",
    "\n",
    "A fresh instance of the challenge can be found here: https://competitions.codalab.org/competitions/27605\n",
    "\n",
    "* **Step 1:** Sign up to https://competitions.codalab.org\n",
    "* **Step 2:** Go through the competition's pages and read them carefully in order to understand the problem.\n",
    "* **Step 3:** Download the dataset from \"Participate > Files > Public Data\" page. Put the \"public_data\" folder in the same folder as the folder containing this notebook.\n",
    "* **Step 4:** Go though this notebook. You'll have to read, run, **code your own methods** and **answer quetions**. Use \"code\" cell for coding and \"markdown\" cell to answer questions. \n"
   ]
  },
  {
   "cell_type": "markdown",
   "metadata": {},
   "source": [
    "<b><font size=\"5\">Outline</font></b><br/><br/>\n",
    "&emsp;&emsp;&emsp; I) <a href=\"#data\"> Load data</a><br/>\n",
    "&emsp;&emsp;&emsp; II) <a href=\"#exploratory\"> Exploratory analysis </a><br/>\n",
    "&emsp;&emsp;&emsp; III) <a href=\"#preprocessing\"> Preprocessing </a><br/>\n",
    "&emsp;&emsp;&emsp; IV) <a href=\"#processing\"> Processing </a><br/>\n",
    "&emsp;&emsp;&emsp; V) <a href=\"#model\"> Predictive model </a><br/>\n",
    "&emsp;&emsp;&emsp; VI) <a href=\"#save\"> Save predictions </a><br/>"
   ]
  },
  {
   "cell_type": "markdown",
   "metadata": {},
   "source": [
    "2020 december, 1rst"
   ]
  },
  {
   "cell_type": "code",
   "execution_count": 1,
   "metadata": {},
   "outputs": [],
   "source": [
    "%matplotlib inline\n",
    "%reload_ext autoreload\n",
    "%autoreload 2\n",
    "\n",
    "import time\n",
    "from zipfile import ZipFile\n",
    "\n",
    "import matplotlib.pyplot as plt\n",
    "import numpy as np\n",
    "\n",
    "import sklearn\n",
    "\n",
    "# IMPORTS\n",
    "import pandas as pd\n",
    "import seaborn as sns\n",
    "from sklearn.ensemble import RandomForestClassifier\n",
    "from sklearn.metrics import (\n",
    "    accuracy_score,\n",
    "    balanced_accuracy_score,\n",
    "    roc_auc_score,\n",
    "    plot_confusion_matrix\n",
    ")\n",
    "from sklearn.model_selection import train_test_split\n",
    "from sklearn.preprocessing import OneHotEncoder, OrdinalEncoder\n",
    "\n",
    "from sklearn.svm import LinearSVC\n",
    "\n",
    "import os\n",
    "from pathlib import Path\n",
    "\n",
    "from IPython.display import display\n",
    "from pprint import pprint"
   ]
  },
  {
   "cell_type": "markdown",
   "metadata": {},
   "source": [
    "### Question 1: Briefly explain the task."
   ]
  },
  {
   "cell_type": "markdown",
   "metadata": {},
   "source": [
    "This is a binary classification of tabular data.  \n",
    "From information about patients, we need to predict whether the patients will die during their stay in the hospital.  \n",
    "A target value of 0 means survival, and 1 means death."
   ]
  },
  {
   "cell_type": "markdown",
   "metadata": {},
   "source": [
    "### Question 2: What is the metric used in the challenge?"
   ]
  },
  {
   "cell_type": "markdown",
   "metadata": {},
   "source": [
    "Balanced accuracy: average of accuracy for each class  \n",
    "\n",
    "<table>\n",
    "    <tr>\n",
    "        <td>\n",
    "            <img src=\"https://statisticaloddsandends.files.wordpress.com/2020/01/metrics1.png?w=600&h=434\" width=\"250\">\n",
    "        </td>\n",
    "        <td>\n",
    "            <img src=\"https://statisticaloddsandends.files.wordpress.com/2020/01/metrics2.png?w=768&h=352\" width=\"450\">\n",
    "        </td>\n",
    "    </tr>\n",
    "</table>\n",
    "    \n",
    "$$ \n",
    "\\texttt{Recall = Sensitivity = True Positive Rate} \\\\\n",
    "= \\frac{True Positive}{True Positive + False Negative} = \\frac{True Positive}{All Actual Positive}\n",
    "\\\\\n",
    "$$\n",
    "\n",
    "$$\n",
    "\\texttt{Specificity = True Negative Rate = 1- False Positive Rate} \\\\\n",
    "= \\frac{True Negative}{True Negative + False Positive} = \\frac{True Negative}{All Actual Negative}\n",
    "\\\\\n",
    "$$   \n",
    "\n",
    "$$\n",
    "\\texttt{balanced-accuracy} = \\frac 1 2 (\\texttt{True Positive Rate} + \\texttt{True Negative Rate})\n",
    "= \\frac{1}{2}\\left( \\frac{TP}{TP + FN} + \\frac{TN}{TN + FP}\\right )\n",
    "\\\\\n",
    "$$\n",
    "\n",
    "Reference:  \n",
    "https://scikit-learn.org/stable/modules/model_evaluation.html#balanced-accuracy-score  \n",
    "https://mvpa.blogspot.com/2015/12/balanced-accuracy-what-and-why.html  \n",
    "\n",
    "\n",
    "Example:  \n",
    "https://statisticaloddsandends.wordpress.com/2020/01/23/what-is-balanced-accuracy/  \n"
   ]
  },
  {
   "cell_type": "code",
   "execution_count": 2,
   "metadata": {},
   "outputs": [
    {
     "name": "stdout",
     "output_type": "stream",
     "text": [
      "/Users/md_76s/Desktop/Studies/OPT9 - Data Camp/Class 4/OPT9_TP4\n",
      "['mimic_synthetic_test.data', 'mimic_synthetic_feat.name', 'mimic_synthetic_feat.type', 'mimic_synthetic_test.csv', 'mimic_synthetic_label.name', 'mimic_synthetic_train.solution', 'mimic_synthetic_train.data']\n"
     ]
    }
   ],
   "source": [
    "print(os.getcwd())\n",
    "print(os.listdir(\"public_data\"))"
   ]
  },
  {
   "cell_type": "markdown",
   "metadata": {},
   "source": [
    "## <a id=\"data\"> I) Load data</a>  "
   ]
  },
  {
   "cell_type": "code",
   "execution_count": 3,
   "metadata": {},
   "outputs": [],
   "source": [
    "features = pd.read_csv(\n",
    "    \"public_data/mimic_synthetic_feat.name\", header=None\n",
    ").values.flatten()\n",
    "labels = pd.read_csv(\n",
    "    \"public_data/mimic_synthetic_label.name\", header=None\n",
    ").values.flatten()\n",
    "X = pd.read_csv(\n",
    "    \"public_data/mimic_synthetic_train.data\",\n",
    "    header=None,\n",
    "    names=features,\n",
    "    sep=\" \",\n",
    ")\n",
    "y = pd.Series(\n",
    "    pd.read_csv(\n",
    "        \"public_data/mimic_synthetic_train.solution\",\n",
    "        header=None,\n",
    "        names=labels,\n",
    "        sep=\" \",\n",
    "    ).values.flatten()\n",
    ")"
   ]
  },
  {
   "cell_type": "code",
   "execution_count": 4,
   "metadata": {},
   "outputs": [
    {
     "name": "stdout",
     "output_type": "stream",
     "text": [
      "(79999, 341)\n"
     ]
    },
    {
     "data": {
      "text/html": [
       "<div>\n",
       "<style scoped>\n",
       "    .dataframe tbody tr th:only-of-type {\n",
       "        vertical-align: middle;\n",
       "    }\n",
       "\n",
       "    .dataframe tbody tr th {\n",
       "        vertical-align: top;\n",
       "    }\n",
       "\n",
       "    .dataframe thead th {\n",
       "        text-align: right;\n",
       "    }\n",
       "</style>\n",
       "<table border=\"1\" class=\"dataframe\">\n",
       "  <thead>\n",
       "    <tr style=\"text-align: right;\">\n",
       "      <th></th>\n",
       "      <th>SUBJECT_ID</th>\n",
       "      <th>HADM_ID</th>\n",
       "      <th>ADMITTIME</th>\n",
       "      <th>DISCHTIME</th>\n",
       "      <th>INSURANCE</th>\n",
       "      <th>LANGUAGE</th>\n",
       "      <th>RELIGION</th>\n",
       "      <th>MARITAL_STATUS</th>\n",
       "      <th>ETHNICITY</th>\n",
       "      <th>GENDER</th>\n",
       "      <th>...</th>\n",
       "      <th>Eyeinfectn</th>\n",
       "      <th>Othereyedx</th>\n",
       "      <th>Otitismedia</th>\n",
       "      <th>Dizziness</th>\n",
       "      <th>Othereardx</th>\n",
       "      <th>Othnervdx</th>\n",
       "      <th>Hrtvalvedx</th>\n",
       "      <th>Carditis</th>\n",
       "      <th>HTN</th>\n",
       "      <th>Htncomplicn</th>\n",
       "    </tr>\n",
       "  </thead>\n",
       "  <tbody>\n",
       "    <tr>\n",
       "      <th>36506</th>\n",
       "      <td>21015</td>\n",
       "      <td>137866</td>\n",
       "      <td>2108-11-29_20:38:00</td>\n",
       "      <td>2185-07-02_02:08:00</td>\n",
       "      <td>Private</td>\n",
       "      <td>ENGL</td>\n",
       "      <td>JEWISH</td>\n",
       "      <td>SINGLE</td>\n",
       "      <td>WHITE</td>\n",
       "      <td>F</td>\n",
       "      <td>...</td>\n",
       "      <td>0</td>\n",
       "      <td>0</td>\n",
       "      <td>0</td>\n",
       "      <td>0</td>\n",
       "      <td>0</td>\n",
       "      <td>0.0</td>\n",
       "      <td>0</td>\n",
       "      <td>0</td>\n",
       "      <td>0</td>\n",
       "      <td>1</td>\n",
       "    </tr>\n",
       "    <tr>\n",
       "      <th>8928</th>\n",
       "      <td>87779</td>\n",
       "      <td>166145</td>\n",
       "      <td>2198-04-13_22:39:00</td>\n",
       "      <td>2197-01-19_15:20:00</td>\n",
       "      <td>Medicare</td>\n",
       "      <td>ENGL</td>\n",
       "      <td>BAPTIST</td>\n",
       "      <td>SINGLE</td>\n",
       "      <td>PATIENT_DECLINED_TO_ANSWER</td>\n",
       "      <td>F</td>\n",
       "      <td>...</td>\n",
       "      <td>0</td>\n",
       "      <td>0</td>\n",
       "      <td>0</td>\n",
       "      <td>0</td>\n",
       "      <td>0</td>\n",
       "      <td>0.0</td>\n",
       "      <td>0</td>\n",
       "      <td>0</td>\n",
       "      <td>1</td>\n",
       "      <td>0</td>\n",
       "    </tr>\n",
       "    <tr>\n",
       "      <th>1997</th>\n",
       "      <td>9976</td>\n",
       "      <td>136576</td>\n",
       "      <td>2115-11-04_05:13:00</td>\n",
       "      <td>2144-06-29_16:30:00</td>\n",
       "      <td>Private</td>\n",
       "      <td>ENGL</td>\n",
       "      <td>CATHOLIC</td>\n",
       "      <td>SINGLE</td>\n",
       "      <td>WHITE</td>\n",
       "      <td>M</td>\n",
       "      <td>...</td>\n",
       "      <td>0</td>\n",
       "      <td>0</td>\n",
       "      <td>0</td>\n",
       "      <td>0</td>\n",
       "      <td>0</td>\n",
       "      <td>0.0</td>\n",
       "      <td>0</td>\n",
       "      <td>0</td>\n",
       "      <td>0</td>\n",
       "      <td>0</td>\n",
       "    </tr>\n",
       "    <tr>\n",
       "      <th>73291</th>\n",
       "      <td>11864</td>\n",
       "      <td>138363</td>\n",
       "      <td>2185-09-20_19:52:00</td>\n",
       "      <td>2160-10-17_16:09:00</td>\n",
       "      <td>Medicare</td>\n",
       "      <td>ENGL</td>\n",
       "      <td>CATHOLIC</td>\n",
       "      <td>MARRIED</td>\n",
       "      <td>WHITE</td>\n",
       "      <td>M</td>\n",
       "      <td>...</td>\n",
       "      <td>0</td>\n",
       "      <td>0</td>\n",
       "      <td>0</td>\n",
       "      <td>0</td>\n",
       "      <td>0</td>\n",
       "      <td>0.0</td>\n",
       "      <td>0</td>\n",
       "      <td>0</td>\n",
       "      <td>1</td>\n",
       "      <td>0</td>\n",
       "    </tr>\n",
       "    <tr>\n",
       "      <th>62729</th>\n",
       "      <td>67987</td>\n",
       "      <td>154483</td>\n",
       "      <td>2192-06-27_08:00:00</td>\n",
       "      <td>2129-03-23_12:35:00</td>\n",
       "      <td>Medicare</td>\n",
       "      <td>ENGL</td>\n",
       "      <td>BUDDHIST</td>\n",
       "      <td>SINGLE</td>\n",
       "      <td>WHITE</td>\n",
       "      <td>F</td>\n",
       "      <td>...</td>\n",
       "      <td>0</td>\n",
       "      <td>0</td>\n",
       "      <td>0</td>\n",
       "      <td>0</td>\n",
       "      <td>0</td>\n",
       "      <td>0.0</td>\n",
       "      <td>0</td>\n",
       "      <td>0</td>\n",
       "      <td>1</td>\n",
       "      <td>0</td>\n",
       "    </tr>\n",
       "  </tbody>\n",
       "</table>\n",
       "<p>5 rows × 341 columns</p>\n",
       "</div>"
      ],
      "text/plain": [
       "       SUBJECT_ID  HADM_ID            ADMITTIME            DISCHTIME  \\\n",
       "36506       21015   137866  2108-11-29_20:38:00  2185-07-02_02:08:00   \n",
       "8928        87779   166145  2198-04-13_22:39:00  2197-01-19_15:20:00   \n",
       "1997         9976   136576  2115-11-04_05:13:00  2144-06-29_16:30:00   \n",
       "73291       11864   138363  2185-09-20_19:52:00  2160-10-17_16:09:00   \n",
       "62729       67987   154483  2192-06-27_08:00:00  2129-03-23_12:35:00   \n",
       "\n",
       "      INSURANCE LANGUAGE  RELIGION MARITAL_STATUS                   ETHNICITY  \\\n",
       "36506   Private     ENGL    JEWISH         SINGLE                       WHITE   \n",
       "8928   Medicare     ENGL   BAPTIST         SINGLE  PATIENT_DECLINED_TO_ANSWER   \n",
       "1997    Private     ENGL  CATHOLIC         SINGLE                       WHITE   \n",
       "73291  Medicare     ENGL  CATHOLIC        MARRIED                       WHITE   \n",
       "62729  Medicare     ENGL  BUDDHIST         SINGLE                       WHITE   \n",
       "\n",
       "      GENDER  ...  Eyeinfectn  Othereyedx  Otitismedia  Dizziness  Othereardx  \\\n",
       "36506      F  ...           0           0            0          0           0   \n",
       "8928       F  ...           0           0            0          0           0   \n",
       "1997       M  ...           0           0            0          0           0   \n",
       "73291      M  ...           0           0            0          0           0   \n",
       "62729      F  ...           0           0            0          0           0   \n",
       "\n",
       "       Othnervdx  Hrtvalvedx  Carditis  HTN  Htncomplicn  \n",
       "36506        0.0           0         0    0            1  \n",
       "8928         0.0           0         0    1            0  \n",
       "1997         0.0           0         0    0            0  \n",
       "73291        0.0           0         0    1            0  \n",
       "62729        0.0           0         0    1            0  \n",
       "\n",
       "[5 rows x 341 columns]"
      ]
     },
     "metadata": {},
     "output_type": "display_data"
    }
   ],
   "source": [
    "print(X.shape)\n",
    "display(X.sample(5))"
   ]
  },
  {
   "cell_type": "code",
   "execution_count": 5,
   "metadata": {},
   "outputs": [
    {
     "name": "stdout",
     "output_type": "stream",
     "text": [
      "(79999,)\n"
     ]
    },
    {
     "data": {
      "text/plain": [
       "36892    0\n",
       "59904    0\n",
       "74549    0\n",
       "31628    0\n",
       "41715    0\n",
       "dtype: int64"
      ]
     },
     "metadata": {},
     "output_type": "display_data"
    },
    {
     "data": {
      "text/plain": [
       "0    77202\n",
       "1     2797\n",
       "dtype: int64"
      ]
     },
     "metadata": {},
     "output_type": "display_data"
    }
   ],
   "source": [
    "print(y.shape)\n",
    "display(y.sample(5))\n",
    "display(y.value_counts())"
   ]
  },
  {
   "cell_type": "markdown",
   "metadata": {},
   "source": [
    "This is the **training set**. This means that have access to the labels and you can use it in anyway you want to prepare your model.\n",
    "\n",
    "Later on, you'll make your model draws predictions from the **testing set** in order to upload them on Codalab and get a score on unseen labels."
   ]
  },
  {
   "cell_type": "code",
   "execution_count": 6,
   "metadata": {},
   "outputs": [],
   "source": [
    "# Load testing set\n",
    "X_test = pd.read_csv(\n",
    "    \"public_data/mimic_synthetic_test.data\",\n",
    "    header=None,\n",
    "    names=features,\n",
    "    sep=\" \",\n",
    ")"
   ]
  },
  {
   "cell_type": "code",
   "execution_count": 7,
   "metadata": {},
   "outputs": [
    {
     "name": "stdout",
     "output_type": "stream",
     "text": [
      "(20001, 341)\n"
     ]
    },
    {
     "data": {
      "text/html": [
       "<div>\n",
       "<style scoped>\n",
       "    .dataframe tbody tr th:only-of-type {\n",
       "        vertical-align: middle;\n",
       "    }\n",
       "\n",
       "    .dataframe tbody tr th {\n",
       "        vertical-align: top;\n",
       "    }\n",
       "\n",
       "    .dataframe thead th {\n",
       "        text-align: right;\n",
       "    }\n",
       "</style>\n",
       "<table border=\"1\" class=\"dataframe\">\n",
       "  <thead>\n",
       "    <tr style=\"text-align: right;\">\n",
       "      <th></th>\n",
       "      <th>SUBJECT_ID</th>\n",
       "      <th>HADM_ID</th>\n",
       "      <th>ADMITTIME</th>\n",
       "      <th>DISCHTIME</th>\n",
       "      <th>INSURANCE</th>\n",
       "      <th>LANGUAGE</th>\n",
       "      <th>RELIGION</th>\n",
       "      <th>MARITAL_STATUS</th>\n",
       "      <th>ETHNICITY</th>\n",
       "      <th>GENDER</th>\n",
       "      <th>...</th>\n",
       "      <th>Eyeinfectn</th>\n",
       "      <th>Othereyedx</th>\n",
       "      <th>Otitismedia</th>\n",
       "      <th>Dizziness</th>\n",
       "      <th>Othereardx</th>\n",
       "      <th>Othnervdx</th>\n",
       "      <th>Hrtvalvedx</th>\n",
       "      <th>Carditis</th>\n",
       "      <th>HTN</th>\n",
       "      <th>Htncomplicn</th>\n",
       "    </tr>\n",
       "  </thead>\n",
       "  <tbody>\n",
       "    <tr>\n",
       "      <th>11913</th>\n",
       "      <td>65180</td>\n",
       "      <td>166673</td>\n",
       "      <td>2154-07-08_14:15:00</td>\n",
       "      <td>2180-07-03_13:30:00</td>\n",
       "      <td>Private</td>\n",
       "      <td>ENGL</td>\n",
       "      <td>CATHOLIC</td>\n",
       "      <td>MARRIED</td>\n",
       "      <td>WHITE</td>\n",
       "      <td>M</td>\n",
       "      <td>...</td>\n",
       "      <td>0</td>\n",
       "      <td>0</td>\n",
       "      <td>0</td>\n",
       "      <td>0</td>\n",
       "      <td>0</td>\n",
       "      <td>0.0</td>\n",
       "      <td>0</td>\n",
       "      <td>0</td>\n",
       "      <td>0</td>\n",
       "      <td>0</td>\n",
       "    </tr>\n",
       "    <tr>\n",
       "      <th>18658</th>\n",
       "      <td>21427</td>\n",
       "      <td>185349</td>\n",
       "      <td>2108-10-16_02:27:00</td>\n",
       "      <td>2104-04-30_12:15:00</td>\n",
       "      <td>Medicare</td>\n",
       "      <td>ENGL</td>\n",
       "      <td>CHRISTIAN_SCIENTIST</td>\n",
       "      <td>WIDOWED</td>\n",
       "      <td>WHITE_-_OTHER_EUROPEAN</td>\n",
       "      <td>F</td>\n",
       "      <td>...</td>\n",
       "      <td>0</td>\n",
       "      <td>0</td>\n",
       "      <td>0</td>\n",
       "      <td>0</td>\n",
       "      <td>0</td>\n",
       "      <td>0.0</td>\n",
       "      <td>0</td>\n",
       "      <td>0</td>\n",
       "      <td>1</td>\n",
       "      <td>0</td>\n",
       "    </tr>\n",
       "    <tr>\n",
       "      <th>8698</th>\n",
       "      <td>40788</td>\n",
       "      <td>195101</td>\n",
       "      <td>2183-01-27_16:13:00</td>\n",
       "      <td>2106-07-13_13:49:00</td>\n",
       "      <td>Medicare</td>\n",
       "      <td>ENGL</td>\n",
       "      <td>NOT_SPECIFIED</td>\n",
       "      <td>WIDOWED</td>\n",
       "      <td>WHITE</td>\n",
       "      <td>F</td>\n",
       "      <td>...</td>\n",
       "      <td>0</td>\n",
       "      <td>0</td>\n",
       "      <td>0</td>\n",
       "      <td>0</td>\n",
       "      <td>0</td>\n",
       "      <td>1.0</td>\n",
       "      <td>1</td>\n",
       "      <td>0</td>\n",
       "      <td>1</td>\n",
       "      <td>0</td>\n",
       "    </tr>\n",
       "    <tr>\n",
       "      <th>300</th>\n",
       "      <td>18807</td>\n",
       "      <td>136156</td>\n",
       "      <td>2197-02-21_00:47:00</td>\n",
       "      <td>2154-04-12_19:41:00</td>\n",
       "      <td>Medicare</td>\n",
       "      <td>ENGL</td>\n",
       "      <td>UNOBTAINABLE</td>\n",
       "      <td>MARRIED</td>\n",
       "      <td>WHITE</td>\n",
       "      <td>F</td>\n",
       "      <td>...</td>\n",
       "      <td>0</td>\n",
       "      <td>0</td>\n",
       "      <td>0</td>\n",
       "      <td>0</td>\n",
       "      <td>0</td>\n",
       "      <td>0.0</td>\n",
       "      <td>0</td>\n",
       "      <td>0</td>\n",
       "      <td>0</td>\n",
       "      <td>1</td>\n",
       "    </tr>\n",
       "    <tr>\n",
       "      <th>6602</th>\n",
       "      <td>89402</td>\n",
       "      <td>180916</td>\n",
       "      <td>2109-08-04_17:16:00</td>\n",
       "      <td>2197-09-29_16:44:00</td>\n",
       "      <td>Private</td>\n",
       "      <td>ENGL</td>\n",
       "      <td>CATHOLIC</td>\n",
       "      <td>MARRIED</td>\n",
       "      <td>WHITE</td>\n",
       "      <td>M</td>\n",
       "      <td>...</td>\n",
       "      <td>0</td>\n",
       "      <td>0</td>\n",
       "      <td>0</td>\n",
       "      <td>0</td>\n",
       "      <td>0</td>\n",
       "      <td>0.0</td>\n",
       "      <td>1</td>\n",
       "      <td>0</td>\n",
       "      <td>0</td>\n",
       "      <td>0</td>\n",
       "    </tr>\n",
       "  </tbody>\n",
       "</table>\n",
       "<p>5 rows × 341 columns</p>\n",
       "</div>"
      ],
      "text/plain": [
       "       SUBJECT_ID  HADM_ID            ADMITTIME            DISCHTIME  \\\n",
       "11913       65180   166673  2154-07-08_14:15:00  2180-07-03_13:30:00   \n",
       "18658       21427   185349  2108-10-16_02:27:00  2104-04-30_12:15:00   \n",
       "8698        40788   195101  2183-01-27_16:13:00  2106-07-13_13:49:00   \n",
       "300         18807   136156  2197-02-21_00:47:00  2154-04-12_19:41:00   \n",
       "6602        89402   180916  2109-08-04_17:16:00  2197-09-29_16:44:00   \n",
       "\n",
       "      INSURANCE LANGUAGE             RELIGION MARITAL_STATUS  \\\n",
       "11913   Private     ENGL             CATHOLIC        MARRIED   \n",
       "18658  Medicare     ENGL  CHRISTIAN_SCIENTIST        WIDOWED   \n",
       "8698   Medicare     ENGL        NOT_SPECIFIED        WIDOWED   \n",
       "300    Medicare     ENGL         UNOBTAINABLE        MARRIED   \n",
       "6602    Private     ENGL             CATHOLIC        MARRIED   \n",
       "\n",
       "                    ETHNICITY GENDER  ...  Eyeinfectn  Othereyedx  \\\n",
       "11913                   WHITE      M  ...           0           0   \n",
       "18658  WHITE_-_OTHER_EUROPEAN      F  ...           0           0   \n",
       "8698                    WHITE      F  ...           0           0   \n",
       "300                     WHITE      F  ...           0           0   \n",
       "6602                    WHITE      M  ...           0           0   \n",
       "\n",
       "       Otitismedia  Dizziness  Othereardx  Othnervdx  Hrtvalvedx  Carditis  \\\n",
       "11913            0          0           0        0.0           0         0   \n",
       "18658            0          0           0        0.0           0         0   \n",
       "8698             0          0           0        1.0           1         0   \n",
       "300              0          0           0        0.0           0         0   \n",
       "6602             0          0           0        0.0           1         0   \n",
       "\n",
       "       HTN  Htncomplicn  \n",
       "11913    0            0  \n",
       "18658    1            0  \n",
       "8698     1            0  \n",
       "300      0            1  \n",
       "6602     0            0  \n",
       "\n",
       "[5 rows x 341 columns]"
      ]
     },
     "metadata": {},
     "output_type": "display_data"
    }
   ],
   "source": [
    "print(X_test.shape)\n",
    "# print(X_test.dropna().shape)\n",
    "display(X_test.sample(5))"
   ]
  },
  {
   "cell_type": "markdown",
   "metadata": {},
   "source": [
    "## <a id=\"exploratory\"> II) Exploratory analysis</a>"
   ]
  },
  {
   "cell_type": "markdown",
   "metadata": {},
   "source": [
    "#### Variable types"
   ]
  },
  {
   "cell_type": "code",
   "execution_count": 8,
   "metadata": {},
   "outputs": [
    {
     "name": "stdout",
     "output_type": "stream",
     "text": [
      "Numerical      226\n",
      "Binary         107\n",
      "Categorical      8\n",
      "Name: 0, dtype: int64\n"
     ]
    }
   ],
   "source": [
    "types = pd.read_csv(\n",
    "    \"public_data/mimic_synthetic_feat.type\", header=None\n",
    ").set_index(features)[0]\n",
    "print(types.value_counts())"
   ]
  },
  {
   "cell_type": "markdown",
   "metadata": {},
   "source": [
    "### Code 1: Display the following plots:\n",
    "* Bar plots of some categorical variables (e.g. \"LANGUAGE\", \"MARITAL_STATUS\")\n",
    "\n",
    "* Show the correlation between some variables and the target variable y.\n",
    "\n",
    "* Another plot or any exploratory analysis you can think of"
   ]
  },
  {
   "cell_type": "code",
   "execution_count": 9,
   "metadata": {},
   "outputs": [
    {
     "data": {
      "text/plain": [
       "array(['ADMITTIME', 'DISCHTIME', 'INSURANCE', 'LANGUAGE', 'RELIGION',\n",
       "       'MARITAL_STATUS', 'ETHNICITY', 'ICU'], dtype=object)"
      ]
     },
     "metadata": {},
     "output_type": "display_data"
    }
   ],
   "source": [
    "# TODO: plot1\n",
    "display(types[types == \"Categorical\"].index.values)\n",
    "\n",
    "categorical_features = \"ICU INSURANCE GENDER\".split(\" \")"
   ]
  },
  {
   "cell_type": "code",
   "execution_count": 10,
   "metadata": {},
   "outputs": [
    {
     "data": {
      "text/plain": [
       "<matplotlib.axes._subplots.AxesSubplot at 0x7fe5e6583df0>"
      ]
     },
     "execution_count": 10,
     "metadata": {},
     "output_type": "execute_result"
    },
    {
     "data": {
      "image/png": "[encoded data removed]",
      "text/plain": [
       "<Figure size 432x288 with 1 Axes>"
      ]
     },
     "metadata": {
      "needs_background": "light"
     },
     "output_type": "display_data"
    }
   ],
   "source": [
    "X[\"ICU\"].value_counts().plot(kind=\"bar\")"
   ]
  },
  {
   "cell_type": "code",
   "execution_count": 11,
   "metadata": {},
   "outputs": [
    {
     "data": {
      "text/plain": [
       "<matplotlib.axes._subplots.AxesSubplot at 0x7fe5e48594c0>"
      ]
     },
     "execution_count": 11,
     "metadata": {},
     "output_type": "execute_result"
    },
    {
     "data": {
      "image/png": "[encoded data removed]",
      "text/plain": [
       "<Figure size 432x288 with 1 Axes>"
      ]
     },
     "metadata": {
      "needs_background": "light"
     },
     "output_type": "display_data"
    }
   ],
   "source": [
    "X[\"INSURANCE\"].value_counts().plot(kind=\"bar\")"
   ]
  },
  {
   "cell_type": "code",
   "execution_count": 12,
   "metadata": {},
   "outputs": [
    {
     "name": "stdout",
     "output_type": "stream",
     "text": [
      "77202 2797\n"
     ]
    }
   ],
   "source": [
    "def split_yindex(xdata, ydata):\n",
    "    \"\"\" Split target y into label 0 and label 1\"\"\"\n",
    "    y1_idx = ydata[ydata==1].index\n",
    "    y0_idx = np.setdiff1d(ydata.index, y1_idx)\n",
    "    return y0_idx, y1_idx\n",
    "\n",
    "yindex = split_yindex(X, y)\n",
    "print(len(yindex[0]), len(yindex[1]))"
   ]
  },
  {
   "cell_type": "code",
   "execution_count": 13,
   "metadata": {},
   "outputs": [
    {
     "name": "stdout",
     "output_type": "stream",
     "text": [
      "(13985, 341) (13985,)\n"
     ]
    },
    {
     "data": {
      "text/plain": [
       "0    11188\n",
       "1     2797\n",
       "dtype: int64"
      ]
     },
     "metadata": {},
     "output_type": "display_data"
    }
   ],
   "source": [
    "def sample_data(xdata, ydata, yindex=None, yratio=4):\n",
    "    \"\"\" Keep all label 1, sample from  label 0 \"\"\"\n",
    "    if not yindex: yindex = split_yindex(xdata, ydata)    \n",
    "    sample_y0_idx = np.random.choice(yindex[0], size=len(yindex[1]) * yratio)    \n",
    "    sample_idx =  np.concatenate((yindex[1], sample_y0_idx))\n",
    "    return xdata.iloc[sample_idx], ydata.iloc[sample_idx]\n",
    "\n",
    "xsample, ysample = sample_data(X, y)\n",
    "print(xsample.shape, ysample.shape)\n",
    "display(ysample.value_counts())"
   ]
  },
  {
   "cell_type": "code",
   "execution_count": 14,
   "metadata": {},
   "outputs": [],
   "source": [
    "xtrain, xvalid, ytrain, yvalid = train_test_split(xsample, ysample, test_size=0.2)\n"
   ]
  },
  {
   "cell_type": "code",
   "execution_count": 15,
   "metadata": {},
   "outputs": [
    {
     "name": "stdout",
     "output_type": "stream",
     "text": [
      "(11188, 341) (2797, 341)\n"
     ]
    }
   ],
   "source": [
    "def handle_missing(xdata):\n",
    "    return xdata.fillna(xdata.median())\n",
    "\n",
    "xtrain_no_missing = handle_missing(xtrain)\n",
    "xvalid_no_missing = handle_missing(xvalid)\n",
    "print(xtrain_no_missing.shape, xvalid_no_missing.shape)"
   ]
  },
  {
   "cell_type": "code",
   "execution_count": 16,
   "metadata": {},
   "outputs": [
    {
     "data": {
      "text/plain": [
       "'\\ndef encode_categorical(xdata):\\n#     cat_code_cols = []\\n    cat_cols = \"ICU INSURANCE GENDER\".split(\" \")\\n    xencd = xdata.copy()\\n    for cat_col in cat_cols:\\n        cat_code = cat_col + \"_code\"\\n        xencd[cat_code] = xencd[cat_col].astype(\"category\").cat.codes\\n#         cat_code_cols.append(cat_code)\\n    xencd = xencd.drop(columns=cat_cols)\\n    return xencd\\n\\n# xtrain_encoded, cat_cols = encode_categorical(xtrain_no_missing, categorical_features)\\n# xvalid_encoded, _ = encode_categorical(xvalid_no_missing, categorical_features)\\nxtrain_encoded = encode_categorical(xtrain_no_missing)\\nxvalid_encoded = encode_categorical(xvalid_no_missing)\\nprint(xtrain_encoded.shape)\\ndisplay(xtrain_encoded.sample(5)[\"ICU_code\"])\\n'"
      ]
     },
     "execution_count": 16,
     "metadata": {},
     "output_type": "execute_result"
    }
   ],
   "source": [
    "\"\"\"\n",
    "def encode_categorical(xdata):\n",
    "#     cat_code_cols = []\n",
    "    cat_cols = \"ICU INSURANCE GENDER\".split(\" \")\n",
    "    xencd = xdata.copy()\n",
    "    for cat_col in cat_cols:\n",
    "        cat_code = cat_col + \"_code\"\n",
    "        xencd[cat_code] = xencd[cat_col].astype(\"category\").cat.codes\n",
    "#         cat_code_cols.append(cat_code)\n",
    "    xencd = xencd.drop(columns=cat_cols)\n",
    "    return xencd\n",
    "\n",
    "# xtrain_encoded, cat_cols = encode_categorical(xtrain_no_missing, categorical_features)\n",
    "# xvalid_encoded, _ = encode_categorical(xvalid_no_missing, categorical_features)\n",
    "xtrain_encoded = encode_categorical(xtrain_no_missing)\n",
    "xvalid_encoded = encode_categorical(xvalid_no_missing)\n",
    "print(xtrain_encoded.shape)\n",
    "display(xtrain_encoded.sample(5)[\"ICU_code\"])\n",
    "\"\"\""
   ]
  },
  {
   "cell_type": "code",
   "execution_count": 17,
   "metadata": {},
   "outputs": [
    {
     "data": {
      "text/html": [
       "<div>\n",
       "<style scoped>\n",
       "    .dataframe tbody tr th:only-of-type {\n",
       "        vertical-align: middle;\n",
       "    }\n",
       "\n",
       "    .dataframe tbody tr th {\n",
       "        vertical-align: top;\n",
       "    }\n",
       "\n",
       "    .dataframe thead th {\n",
       "        text-align: right;\n",
       "    }\n",
       "</style>\n",
       "<table border=\"1\" class=\"dataframe\">\n",
       "  <thead>\n",
       "    <tr style=\"text-align: right;\">\n",
       "      <th></th>\n",
       "      <th>SUBJECT_ID</th>\n",
       "      <th>HADM_ID</th>\n",
       "      <th>ADMITTIME</th>\n",
       "      <th>DISCHTIME</th>\n",
       "      <th>LANGUAGE</th>\n",
       "      <th>RELIGION</th>\n",
       "      <th>MARITAL_STATUS</th>\n",
       "      <th>ETHNICITY</th>\n",
       "      <th>GENDER</th>\n",
       "      <th>AGE</th>\n",
       "      <th>...</th>\n",
       "      <th>Hrtvalvedx</th>\n",
       "      <th>Carditis</th>\n",
       "      <th>HTN</th>\n",
       "      <th>Htncomplicn</th>\n",
       "      <th>ICU_CSRU</th>\n",
       "      <th>ICU_MICU</th>\n",
       "      <th>ICU_nan</th>\n",
       "      <th>INSURANCE_Medicare</th>\n",
       "      <th>INSURANCE_Private</th>\n",
       "      <th>INSURANCE_nan</th>\n",
       "    </tr>\n",
       "  </thead>\n",
       "  <tbody>\n",
       "    <tr>\n",
       "      <th>1000</th>\n",
       "      <td>9921</td>\n",
       "      <td>147426</td>\n",
       "      <td>2156-02-27_07:15:00</td>\n",
       "      <td>2198-05-16_18:56:00</td>\n",
       "      <td>ENGL</td>\n",
       "      <td>CATHOLIC</td>\n",
       "      <td>MARRIED</td>\n",
       "      <td>WHITE</td>\n",
       "      <td>M</td>\n",
       "      <td>47</td>\n",
       "      <td>...</td>\n",
       "      <td>0</td>\n",
       "      <td>0</td>\n",
       "      <td>1</td>\n",
       "      <td>0</td>\n",
       "      <td>1</td>\n",
       "      <td>0</td>\n",
       "      <td>0</td>\n",
       "      <td>0</td>\n",
       "      <td>1</td>\n",
       "      <td>0</td>\n",
       "    </tr>\n",
       "    <tr>\n",
       "      <th>18381</th>\n",
       "      <td>11944</td>\n",
       "      <td>178464</td>\n",
       "      <td>2196-04-28_06:00:00</td>\n",
       "      <td>2197-09-22_16:50:00</td>\n",
       "      <td>ENGL</td>\n",
       "      <td>PROTESTANT_QUAKER</td>\n",
       "      <td>MARRIED</td>\n",
       "      <td>WHITE</td>\n",
       "      <td>M</td>\n",
       "      <td>57</td>\n",
       "      <td>...</td>\n",
       "      <td>0</td>\n",
       "      <td>0</td>\n",
       "      <td>1</td>\n",
       "      <td>0</td>\n",
       "      <td>0</td>\n",
       "      <td>1</td>\n",
       "      <td>0</td>\n",
       "      <td>1</td>\n",
       "      <td>0</td>\n",
       "      <td>0</td>\n",
       "    </tr>\n",
       "    <tr>\n",
       "      <th>31558</th>\n",
       "      <td>93571</td>\n",
       "      <td>151079</td>\n",
       "      <td>2168-08-06_15:18:00</td>\n",
       "      <td>2138-06-28_13:13:00</td>\n",
       "      <td>ENGL</td>\n",
       "      <td>CATHOLIC</td>\n",
       "      <td>SINGLE</td>\n",
       "      <td>WHITE</td>\n",
       "      <td>M</td>\n",
       "      <td>83</td>\n",
       "      <td>...</td>\n",
       "      <td>0</td>\n",
       "      <td>0</td>\n",
       "      <td>0</td>\n",
       "      <td>0</td>\n",
       "      <td>0</td>\n",
       "      <td>1</td>\n",
       "      <td>0</td>\n",
       "      <td>0</td>\n",
       "      <td>1</td>\n",
       "      <td>0</td>\n",
       "    </tr>\n",
       "    <tr>\n",
       "      <th>66504</th>\n",
       "      <td>57344</td>\n",
       "      <td>136295</td>\n",
       "      <td>2126-05-04_13:42:00</td>\n",
       "      <td>2167-06-30_16:20:00</td>\n",
       "      <td>ENGL</td>\n",
       "      <td>PROTESTANT_QUAKER</td>\n",
       "      <td>MARRIED</td>\n",
       "      <td>BLACK/AFRICAN_AMERICAN</td>\n",
       "      <td>M</td>\n",
       "      <td>83</td>\n",
       "      <td>...</td>\n",
       "      <td>0</td>\n",
       "      <td>0</td>\n",
       "      <td>0</td>\n",
       "      <td>0</td>\n",
       "      <td>1</td>\n",
       "      <td>0</td>\n",
       "      <td>0</td>\n",
       "      <td>1</td>\n",
       "      <td>0</td>\n",
       "      <td>0</td>\n",
       "    </tr>\n",
       "    <tr>\n",
       "      <th>69737</th>\n",
       "      <td>13013</td>\n",
       "      <td>174335</td>\n",
       "      <td>2152-04-21_05:43:00</td>\n",
       "      <td>2176-07-01_12:40:00</td>\n",
       "      <td>ENGL</td>\n",
       "      <td>CATHOLIC</td>\n",
       "      <td>MARRIED</td>\n",
       "      <td>WHITE</td>\n",
       "      <td>F</td>\n",
       "      <td>50</td>\n",
       "      <td>...</td>\n",
       "      <td>0</td>\n",
       "      <td>0</td>\n",
       "      <td>0</td>\n",
       "      <td>0</td>\n",
       "      <td>0</td>\n",
       "      <td>1</td>\n",
       "      <td>0</td>\n",
       "      <td>1</td>\n",
       "      <td>0</td>\n",
       "      <td>0</td>\n",
       "    </tr>\n",
       "  </tbody>\n",
       "</table>\n",
       "<p>5 rows × 345 columns</p>\n",
       "</div>"
      ],
      "text/plain": [
       "       SUBJECT_ID  HADM_ID            ADMITTIME            DISCHTIME LANGUAGE  \\\n",
       "1000         9921   147426  2156-02-27_07:15:00  2198-05-16_18:56:00     ENGL   \n",
       "18381       11944   178464  2196-04-28_06:00:00  2197-09-22_16:50:00     ENGL   \n",
       "31558       93571   151079  2168-08-06_15:18:00  2138-06-28_13:13:00     ENGL   \n",
       "66504       57344   136295  2126-05-04_13:42:00  2167-06-30_16:20:00     ENGL   \n",
       "69737       13013   174335  2152-04-21_05:43:00  2176-07-01_12:40:00     ENGL   \n",
       "\n",
       "                RELIGION MARITAL_STATUS               ETHNICITY GENDER  AGE  \\\n",
       "1000            CATHOLIC        MARRIED                   WHITE      M   47   \n",
       "18381  PROTESTANT_QUAKER        MARRIED                   WHITE      M   57   \n",
       "31558           CATHOLIC         SINGLE                   WHITE      M   83   \n",
       "66504  PROTESTANT_QUAKER        MARRIED  BLACK/AFRICAN_AMERICAN      M   83   \n",
       "69737           CATHOLIC        MARRIED                   WHITE      F   50   \n",
       "\n",
       "       ...  Hrtvalvedx  Carditis  HTN  Htncomplicn  ICU_CSRU  ICU_MICU  \\\n",
       "1000   ...           0         0    1            0         1         0   \n",
       "18381  ...           0         0    1            0         0         1   \n",
       "31558  ...           0         0    0            0         0         1   \n",
       "66504  ...           0         0    0            0         1         0   \n",
       "69737  ...           0         0    0            0         0         1   \n",
       "\n",
       "       ICU_nan  INSURANCE_Medicare  INSURANCE_Private  INSURANCE_nan  \n",
       "1000         0                   0                  1              0  \n",
       "18381        0                   1                  0              0  \n",
       "31558        0                   0                  1              0  \n",
       "66504        0                   1                  0              0  \n",
       "69737        0                   1                  0              0  \n",
       "\n",
       "[5 rows x 345 columns]"
      ]
     },
     "metadata": {},
     "output_type": "display_data"
    },
    {
     "name": "stdout",
     "output_type": "stream",
     "text": [
      "(5, 341) (5, 345)\n"
     ]
    }
   ],
   "source": [
    "cat_sample = X.sample(5)\n",
    "cat_onehot = pd.get_dummies(cat_sample, columns=[\"ICU\", \"INSURANCE\"], dummy_na=True)\n",
    "display(cat_onehot)\n",
    "print(cat_sample.shape, cat_onehot.shape)"
   ]
  },
  {
   "cell_type": "markdown",
   "metadata": {},
   "source": [
    " "
   ]
  },
  {
   "cell_type": "markdown",
   "metadata": {},
   "source": [
    "## <a id=\"preprocessing\"> III) Preprocessing </a>"
   ]
  },
  {
   "cell_type": "code",
   "execution_count": 18,
   "metadata": {},
   "outputs": [
    {
     "name": "stdout",
     "output_type": "stream",
     "text": [
      "(2797, 341) (2797, 352)\n",
      "2006     1\n",
      "15313    0\n",
      "79321    1\n",
      "12824    0\n",
      "58590    1\n",
      "Name: is_male, dtype: int64\n"
     ]
    }
   ],
   "source": [
    "def encode_categorical(xdata):\n",
    "    xencoded = xdata.copy()\n",
    "    xencoded[\"is_male\"] = (xdata[\"GENDER\"] == \"M\").astype(int)\n",
    "    \n",
    "    onehot_cols = \"ICU INSURANCE\".split(\" \")\n",
    "    xencoded = pd.get_dummies(xencoded, columns=onehot_cols, dummy_na=True)\n",
    "    \n",
    "    return xencoded\n",
    "\n",
    "xvalid_encoded = encode_categorical(xvalid_no_missing)\n",
    "print(xvalid_no_missing.shape, xvalid_encoded.shape)\n",
    "print(xvalid_encoded.sample(5)[\"is_male\"])"
   ]
  },
  {
   "cell_type": "code",
   "execution_count": 19,
   "metadata": {},
   "outputs": [
    {
     "name": "stdout",
     "output_type": "stream",
     "text": [
      "['SUBJECT_ID' 'HADM_ID' 'AGE' 'HR_MIN_DAY1' 'HR_MAX_DAY1' 'HR_MEAN_DAY1'\n",
      " 'SYS_BP_MIN_DAY1' 'SYS_BP_MAX_DAY1' 'SYS_BP_MEAN_DAY1' 'DIAS_BP_MIN_DAY1']\n",
      "<class 'numpy.ndarray'>\n"
     ]
    }
   ],
   "source": [
    "# types[types == \"Numerical\"][:20]\n",
    "numerical_features = types[types == \"Numerical\"].index.values\n",
    "print(numerical_features[0:10])\n",
    "print(type(numerical_features))"
   ]
  },
  {
   "cell_type": "code",
   "execution_count": 20,
   "metadata": {},
   "outputs": [],
   "source": [
    "binary_features = types[types == \"Binary\"].index.values\n",
    "binary_features = binary_features[binary_features != \"GENDER\"]\n",
    "# bin_mutual_info = mutual_info_classif(Xcleaned.iloc[sample_idx][binary_features], ycleaned[sample_idx])"
   ]
  },
  {
   "cell_type": "code",
   "execution_count": 21,
   "metadata": {},
   "outputs": [],
   "source": [
    "\n",
    "# selected_columns = np.concatenate((numerical_features, binary_features, cat_cols))\n",
    "# print(selected_columns.shape)"
   ]
  },
  {
   "cell_type": "code",
   "execution_count": 22,
   "metadata": {},
   "outputs": [
    {
     "name": "stdout",
     "output_type": "stream",
     "text": [
      "(2797, 345)\n"
     ]
    }
   ],
   "source": [
    "def select_columns(xdata):\n",
    "    exclude_cols = ('ADMITTIME', 'DISCHTIME', 'LANGUAGE', 'RELIGION', 'MARITAL_STATUS', 'ETHNICITY', 'GENDER')\n",
    "    selected_cols = np.setdiff1d(xdata.columns, exclude_cols)\n",
    "#     print(len(xdata.columns), len(selected_cols))\n",
    "    return xdata[selected_cols]\n",
    "\n",
    "print(select_columns(xvalid_encoded).shape)    "
   ]
  },
  {
   "cell_type": "code",
   "execution_count": 23,
   "metadata": {},
   "outputs": [
    {
     "name": "stdout",
     "output_type": "stream",
     "text": [
      "(11188, 345) (2797, 345)\n"
     ]
    }
   ],
   "source": [
    "def preprocess(xraw):\n",
    "    xencoded = encode_categorical(xraw)\n",
    "    x_no_missing = handle_missing(xencoded)\n",
    "    xselected = select_columns(x_no_missing)\n",
    "    return xselected\n",
    "\n",
    "xtrain_preprocess = preprocess(xtrain)\n",
    "xvalid_preprocess = preprocess(xvalid)\n",
    "print(xtrain_preprocess.shape, xvalid_preprocess.shape)\n"
   ]
  },
  {
   "cell_type": "code",
   "execution_count": 24,
   "metadata": {},
   "outputs": [],
   "source": [
    "pca_model = sklearn.decomposition.PCA()\n",
    "xtrain_pca = pca_model.fit_transform(xtrain_preprocess)"
   ]
  },
  {
   "cell_type": "code",
   "execution_count": 25,
   "metadata": {},
   "outputs": [
    {
     "name": "stdout",
     "output_type": "stream",
     "text": [
      "[5.11355658e-01 4.88631965e-01 5.95891546e-06 1.26967674e-06\n",
      " 1.06854510e-06 8.09295979e-07 6.37590639e-07 4.10347855e-07\n",
      " 3.58011527e-07 3.05060875e-07 2.46632589e-07 1.71996832e-07\n",
      " 1.59940322e-07 1.53286117e-07 1.36466641e-07 9.93041011e-08\n",
      " 7.49864002e-08 6.48198899e-08 5.72706547e-08 5.26918482e-08\n",
      " 4.89173890e-08 3.96939123e-08 3.21040056e-08 2.76179366e-08\n",
      " 2.41042466e-08 2.10806799e-08 1.87477033e-08 1.61848817e-08\n",
      " 1.45865137e-08 1.34170538e-08]\n"
     ]
    }
   ],
   "source": [
    "print(pca_model.explained_variance_ratio_[:30])"
   ]
  },
  {
   "cell_type": "code",
   "execution_count": 26,
   "metadata": {},
   "outputs": [
    {
     "data": {
      "image/png": "[encoded data removed]",
      "text/plain": [
       "<Figure size 432x288 with 2 Axes>"
      ]
     },
     "metadata": {
      "needs_background": "light"
     },
     "output_type": "display_data"
    }
   ],
   "source": [
    "plt.scatter(xtrain_pca[:,0], xtrain_pca[:,1], c=ytrain)\n",
    "plt.colorbar()\n",
    "plt.show()"
   ]
  },
  {
   "cell_type": "markdown",
   "metadata": {},
   "source": [
    "## <a id=\"processing\"> III) Processing</a>\n",
    "\n",
    "As you may have noticed, various variables are categorical and encoded with strings. Most models won't be able to take them as input.\n",
    "\n",
    "### Code 2: Transform the categorical data into integers using the encoding of your choice.\n",
    "\n",
    "_Hint: The simplest methods is called \"Label Encoding\". It simply consists in replacing each new category you encounter by the integer, starting from 0. It may not be the most efficient method._"
   ]
  },
  {
   "cell_type": "code",
   "execution_count": 27,
   "metadata": {},
   "outputs": [
    {
     "name": "stdout",
     "output_type": "stream",
     "text": [
      "(11188, 345) (11188,)\n",
      "(2797, 345) (2797,)\n"
     ]
    }
   ],
   "source": [
    "# xtrain_final = xtrain_encoded[selected_columns]\n",
    "xtrain_final = xtrain_preprocess\n",
    "ytrain_final = ytrain\n",
    "\n",
    "# xvalid_final = xvalid_encoded[selected_columns]\n",
    "xvalid_final = xvalid_preprocess\n",
    "yvalid_final = yvalid\n",
    "\n",
    "print(xtrain_final.shape, ytrain_final.shape)\n",
    "print(xvalid_final.shape, yvalid_final.shape)"
   ]
  },
  {
   "cell_type": "markdown",
   "metadata": {},
   "source": [
    "## <a id=\"model\"> IV) Predictive model</a>\n",
    "Train a model and assess its performance."
   ]
  },
  {
   "cell_type": "markdown",
   "metadata": {},
   "source": [
    "### Random Forest Classifier model"
   ]
  },
  {
   "cell_type": "code",
   "execution_count": 28,
   "metadata": {},
   "outputs": [
    {
     "name": "stdout",
     "output_type": "stream",
     "text": [
      "Balanced accuracy score: 0.6577744413807775\n"
     ]
    }
   ],
   "source": [
    "# Baseline: Random Forest\n",
    "clf = RandomForestClassifier(random_state = 42,\n",
    "    n_estimators=10, class_weight=\"balanced\",\n",
    "    max_depth=5, \n",
    "#     min_samples_split=10,\n",
    "#     min_samples_leaf=10,\n",
    "#     max_leaf_nodes=20,\n",
    ")\n",
    "\n",
    "\n",
    "clf.fit(xtrain_final, ytrain_final)  # training\n",
    "\n",
    "ypred = clf.predict(xvalid_final)  # predictions\n",
    "score = balanced_accuracy_score(yvalid_final, ypred)  # scoring\n",
    "print(\"Balanced accuracy score: {}\".format(score))"
   ]
  },
  {
   "cell_type": "code",
   "execution_count": 29,
   "metadata": {},
   "outputs": [
    {
     "data": {
      "text/plain": [
       "<sklearn.metrics._plot.confusion_matrix.ConfusionMatrixDisplay at 0x7fe5ea59f940>"
      ]
     },
     "execution_count": 29,
     "metadata": {},
     "output_type": "execute_result"
    },
    {
     "data": {
      "image/png": "[encoded data removed]",
      "text/plain": [
       "<Figure size 432x288 with 2 Axes>"
      ]
     },
     "metadata": {
      "needs_background": "light"
     },
     "output_type": "display_data"
    }
   ],
   "source": [
    "plot_confusion_matrix(clf, xvalid_final, yvalid_final)"
   ]
  },
  {
   "cell_type": "code",
   "execution_count": 30,
   "metadata": {},
   "outputs": [],
   "source": [
    "n_components = np.arange(start=10, stop=300, step=10)\n",
    "pca_scores = []\n",
    "\n",
    "for n_component in n_components:\n",
    "    pca_clf = RandomForestClassifier(random_state=42, \n",
    "        n_estimators=10, class_weight=\"balanced\",\n",
    "        max_depth=5, \n",
    "    )\n",
    "\n",
    "    pca_clf.fit(xtrain_pca[:, :n_component], ytrain_final)  # training\n",
    "\n",
    "    pca_predictions = pca_clf.predict(pca_model.transform(xvalid_final)[:, :n_component])  # predictions\n",
    "    pca_scores.append(balanced_accuracy_score(yvalid_final, pca_predictions))  # scoring\n",
    "    \n"
   ]
  },
  {
   "cell_type": "code",
   "execution_count": 31,
   "metadata": {},
   "outputs": [
    {
     "data": {
      "text/plain": [
       "Text(0, 0.5, 'valid balanced accuracy')"
      ]
     },
     "execution_count": 31,
     "metadata": {},
     "output_type": "execute_result"
    },
    {
     "data": {
      "image/png": "[encoded data removed]",
      "text/plain": [
       "<Figure size 432x288 with 1 Axes>"
      ]
     },
     "metadata": {
      "needs_background": "light"
     },
     "output_type": "display_data"
    }
   ],
   "source": [
    "plt.plot(n_components, pca_scores)\n",
    "plt.xlabel(\"PCA # components\")\n",
    "plt.ylabel(\"valid balanced accuracy\")"
   ]
  },
  {
   "cell_type": "code",
   "execution_count": 32,
   "metadata": {},
   "outputs": [
    {
     "data": {
      "text/plain": [
       "[0,\n",
       " 1,\n",
       " 24,\n",
       " 3,\n",
       " 2,\n",
       " 25,\n",
       " 27,\n",
       " 26,\n",
       " 9,\n",
       " 20,\n",
       " 18,\n",
       " 19,\n",
       " 7,\n",
       " 16,\n",
       " 6,\n",
       " 11,\n",
       " 14,\n",
       " 28,\n",
       " 17,\n",
       " 23,\n",
       " 22,\n",
       " 12,\n",
       " 13,\n",
       " 21,\n",
       " 8,\n",
       " 15,\n",
       " 10,\n",
       " 5,\n",
       " 4]"
      ]
     },
     "execution_count": 32,
     "metadata": {},
     "output_type": "execute_result"
    }
   ],
   "source": [
    "#the list of index ordered by values of pca_scores asc\n",
    "sorted(range(len(pca_scores)), key=lambda k: pca_scores[k])"
   ]
  },
  {
   "cell_type": "code",
   "execution_count": 33,
   "metadata": {},
   "outputs": [
    {
     "name": "stdout",
     "output_type": "stream",
     "text": [
      "n_components:  50  and pca_scores:  0.6825124160332512\n"
     ]
    }
   ],
   "source": [
    "print('n_components: ', n_components[4], ' and pca_scores: ', pca_scores[4])"
   ]
  },
  {
   "cell_type": "code",
   "execution_count": null,
   "metadata": {},
   "outputs": [],
   "source": []
  },
  {
   "cell_type": "markdown",
   "metadata": {},
   "source": [
    "### Code 3: the code above uses a simple \"hold out\" method to get the validation score. Use cross-validation to get a more stable estimation."
   ]
  },
  {
   "cell_type": "code",
   "execution_count": 34,
   "metadata": {},
   "outputs": [],
   "source": [
    "# TODO: cross-validation"
   ]
  },
  {
   "cell_type": "code",
   "execution_count": 35,
   "metadata": {},
   "outputs": [
    {
     "data": {
      "text/plain": [
       "['fit_time', 'score_time', 'test_score']"
      ]
     },
     "execution_count": 35,
     "metadata": {},
     "output_type": "execute_result"
    }
   ],
   "source": [
    "from sklearn.model_selection import cross_validate\n",
    "\n",
    "cv_results = cross_validate(clf, xtrain_final, ytrain_final, cv=10, scoring='balanced_accuracy')\n",
    "sorted(cv_results.keys())"
   ]
  },
  {
   "cell_type": "code",
   "execution_count": 36,
   "metadata": {},
   "outputs": [
    {
     "name": "stdout",
     "output_type": "stream",
     "text": [
      "[0.66122297 0.64692021 0.68577181 0.67114925 0.66933326 0.68772855\n",
      " 0.66527763 0.62660169 0.67902451 0.65283066]\n",
      "The average score of cross Validation:  0.664586053711361\n"
     ]
    }
   ],
   "source": [
    "print(cv_results['test_score'])\n",
    "print(\"The average score of cross Validation: \", cv_results['test_score'].mean())"
   ]
  },
  {
   "cell_type": "markdown",
   "metadata": {},
   "source": [
    "### Code 4: Try to improve your score by using at least one of the following methods:\n",
    "\n",
    "* Hyperparameter search\n",
    "* Model selection\n",
    "* Data augmentation"
   ]
  },
  {
   "cell_type": "code",
   "execution_count": 37,
   "metadata": {},
   "outputs": [
    {
     "data": {
      "image/png": "[encoded data removed]",
      "text/plain": [
       "<Figure size 432x288 with 1 Axes>"
      ]
     },
     "metadata": {
      "needs_background": "light"
     },
     "output_type": "display_data"
    }
   ],
   "source": [
    "n_estimators = [int(x) for x in range(100,1500,200)]\n",
    "test_results = []\n",
    "for n in n_estimators:\n",
    "    rforest = RandomForestClassifier(random_state = 42, n_estimators = n)\n",
    "    rforest.fit(xtrain_final, ytrain_final)\n",
    "    ypred = rforest.predict(xvalid_final)\n",
    "    accuracy = balanced_accuracy_score(yvalid_final, ypred)\n",
    "    test_results.append(accuracy)\n",
    "from matplotlib.legend_handler import HandlerLine2D\n",
    "line1, = plt.plot(n_estimators, test_results, 'r', label=\"Test balanced_accuracy\")\n",
    "plt.legend(handler_map={line1: HandlerLine2D(numpoints=2)})\n",
    "plt.ylabel('balanced_accuracy_score')\n",
    "plt.xlabel('RF n_estimators')\n",
    "plt.show()"
   ]
  },
  {
   "cell_type": "code",
   "execution_count": 38,
   "metadata": {},
   "outputs": [
    {
     "name": "stdout",
     "output_type": "stream",
     "text": [
      "[4, 6, 5, 3, 2, 1, 0]\n",
      "100\n"
     ]
    }
   ],
   "source": [
    "#the list of index ordered by values of test_results asc\n",
    "print(sorted(range(len(test_results)), key=lambda k: test_results[k]))\n",
    "print(n_estimators[0])"
   ]
  },
  {
   "cell_type": "code",
   "execution_count": 39,
   "metadata": {},
   "outputs": [
    {
     "name": "stdout",
     "output_type": "stream",
     "text": [
      "Fitting 3 folds for each of 10 candidates, totalling 30 fits\n"
     ]
    },
    {
     "name": "stderr",
     "output_type": "stream",
     "text": [
      "[Parallel(n_jobs=-1)]: Using backend LokyBackend with 4 concurrent workers.\n",
      "[Parallel(n_jobs=-1)]: Done  30 out of  30 | elapsed:  8.8min finished\n"
     ]
    },
    {
     "data": {
      "text/plain": [
       "RandomizedSearchCV(cv=3, estimator=RandomForestClassifier(random_state=42),\n",
       "                   n_jobs=-1,\n",
       "                   param_distributions={'class_weight': [None, 'balanced',\n",
       "                                                         'balanced_subsample'],\n",
       "                                        'max_depth': [10, 24, 38, 52, 67, 81,\n",
       "                                                      95, 110, None],\n",
       "                                        'max_features': ['auto', 'sqrt',\n",
       "                                                         'log2'],\n",
       "                                        'min_samples_leaf': [1, 2, 4],\n",
       "                                        'min_samples_split': [2, 5, 10],\n",
       "                                        'n_estimators': [100, 300, 500, 700,\n",
       "                                                         900, 1100, 1300]},\n",
       "                   random_state=42, scoring='balanced_accuracy', verbose=2)"
      ]
     },
     "execution_count": 39,
     "metadata": {},
     "output_type": "execute_result"
    }
   ],
   "source": [
    "from sklearn.model_selection import RandomizedSearchCV\n",
    "\n",
    "# Number of trees in random forest\n",
    "n_estimators = [int(x) for x in range(100,1500,200)]\n",
    "# Maximum number of levels in tree\n",
    "max_depth = [int(x) for x in np.linspace(10, 110, num = 8)]\n",
    "max_depth.append(None)\n",
    "# number of features at every split\n",
    "max_features = ['auto', 'sqrt', 'log2']\n",
    "# Minimum number of samples required to split a node\n",
    "min_samples_split = [2, 5, 10]\n",
    "# Minimum number of samples required at each leaf node\n",
    "min_samples_leaf = [1, 2, 4]\n",
    "class_weight = [None, 'balanced', 'balanced_subsample']\n",
    "# Create the random grid\n",
    "random_grid = {'n_estimators': n_estimators,\n",
    "               'max_features': max_features,\n",
    "               'max_depth': max_depth,\n",
    "               'min_samples_split': min_samples_split,\n",
    "               'min_samples_leaf': min_samples_leaf,\n",
    "               'class_weight': class_weight\n",
    "              }\n",
    "# Use the random grid to search for best hyperparameters\n",
    "# First create the base model to tune\n",
    "rf = RandomForestClassifier(random_state=42,)\n",
    "# Random search of parameters, using 3 fold cross validation, \n",
    "# search across 100 different combinations, and use all available cores\n",
    "rf_random = RandomizedSearchCV(estimator = rf, param_distributions = random_grid, n_iter = 10,\n",
    "                               scoring='balanced_accuracy', cv = 3, verbose=2, random_state=42, n_jobs = -1)\n",
    "# Fit the random search model\n",
    "rf_random.fit(xtrain_final, ytrain_final)"
   ]
  },
  {
   "cell_type": "code",
   "execution_count": 40,
   "metadata": {},
   "outputs": [
    {
     "data": {
      "text/plain": [
       "{'n_estimators': 100,\n",
       " 'min_samples_split': 2,\n",
       " 'min_samples_leaf': 4,\n",
       " 'max_features': 'auto',\n",
       " 'max_depth': 10,\n",
       " 'class_weight': 'balanced_subsample'}"
      ]
     },
     "execution_count": 40,
     "metadata": {},
     "output_type": "execute_result"
    }
   ],
   "source": [
    "rf_random.best_params_"
   ]
  },
  {
   "cell_type": "code",
   "execution_count": 75,
   "metadata": {},
   "outputs": [
    {
     "name": "stdout",
     "output_type": "stream",
     "text": [
      "Balanced accuracy score: 0.6651622879865162\n"
     ]
    }
   ],
   "source": [
    "rf_clf = RandomForestClassifier(random_state = 42,\n",
    "    n_estimators = 100, min_samples_split = 2, class_weight= 'balanced_subsample',\n",
    "    min_samples_leaf = 4, max_features = 'auto', max_depth = 10)\n",
    "\n",
    "\n",
    "rf_clf.fit(xtrain_final, ytrain_final)  # training\n",
    "\n",
    "ypred = rf_clf.predict(xvalid_final)  # predictions\n",
    "score = balanced_accuracy_score(yvalid_final, ypred)  # scoring\n",
    "print(\"Balanced accuracy score: {}\".format(score))"
   ]
  },
  {
   "cell_type": "code",
   "execution_count": 42,
   "metadata": {},
   "outputs": [
    {
     "data": {
      "image/png": "[encoded data removed]",
      "text/plain": [
       "<Figure size 432x288 with 1 Axes>"
      ]
     },
     "metadata": {
      "needs_background": "light"
     },
     "output_type": "display_data"
    }
   ],
   "source": [
    "max_depth = [int(x) for x in np.linspace(10, 110, num = 8)]\n",
    "max_depth.append(None)\n",
    "test2_results = []\n",
    "for m in max_depth:\n",
    "    rforest = RandomForestClassifier(random_state = 42, n_estimators = 10, max_depth = m)\n",
    "    rforest.fit(xtrain_final, ytrain_final)\n",
    "    ypred = rforest.predict(xvalid_final)\n",
    "    accuracy = balanced_accuracy_score(yvalid_final, ypred)\n",
    "    test2_results.append(accuracy)\n",
    "from matplotlib.legend_handler import HandlerLine2D\n",
    "line2, = plt.plot(max_depth, test2_results, 'r', label=\"Test balanced_accuracy\")\n",
    "plt.legend(handler_map={line1: HandlerLine2D(numpoints=2)})\n",
    "plt.ylabel('balanced_accuracy_score')\n",
    "plt.xlabel('RF max_depth')\n",
    "plt.show()"
   ]
  },
  {
   "cell_type": "code",
   "execution_count": 46,
   "metadata": {},
   "outputs": [
    {
     "name": "stdout",
     "output_type": "stream",
     "text": [
      "[0, 2, 3, 4, 5, 6, 7, 8, 1]\n"
     ]
    },
    {
     "data": {
      "text/plain": [
       "0.5609048363210904"
      ]
     },
     "execution_count": 46,
     "metadata": {},
     "output_type": "execute_result"
    }
   ],
   "source": [
    "#the list of index ordered by values of test_results asc\n",
    "print(sorted(range(len(test2_results)), key=lambda k: test2_results[k]))\n",
    "test2_results[1]"
   ]
  },
  {
   "cell_type": "code",
   "execution_count": 47,
   "metadata": {},
   "outputs": [
    {
     "data": {
      "image/png": "[encoded data removed]",
      "text/plain": [
       "<Figure size 432x288 with 1 Axes>"
      ]
     },
     "metadata": {
      "needs_background": "light"
     },
     "output_type": "display_data"
    }
   ],
   "source": [
    "max_features = ['auto', 'sqrt', 'log2']\n",
    "test3_results = []\n",
    "for mf in max_features:\n",
    "    rforest = RandomForestClassifier(random_state = 42, n_estimators = 100, max_depth = 24, max_features=mf)\n",
    "    rforest.fit(xtrain_final, ytrain_final)\n",
    "    ypred = rforest.predict(xvalid_final)\n",
    "    accuracy = balanced_accuracy_score(yvalid_final, ypred)\n",
    "    test3_results.append(accuracy)\n",
    "from matplotlib.legend_handler import HandlerLine2D\n",
    "line3, = plt.plot(max_features, test3_results, 'r', label=\"Test balanced_accuracy\")\n",
    "plt.legend(handler_map={line1: HandlerLine2D(numpoints=2)})\n",
    "plt.ylabel('balanced_accuracy_score')\n",
    "plt.xlabel('RF max_depth')\n",
    "plt.show()"
   ]
  },
  {
   "cell_type": "code",
   "execution_count": 48,
   "metadata": {},
   "outputs": [
    {
     "data": {
      "image/png": "[encoded data removed]",
      "text/plain": [
       "<Figure size 432x288 with 1 Axes>"
      ]
     },
     "metadata": {
      "needs_background": "light"
     },
     "output_type": "display_data"
    }
   ],
   "source": [
    "class_weight = [None, 'balanced', 'balanced_subsample']\n",
    "class_weight2 = ['None', 'balanced', 'balanced_subsample']\n",
    "test4_results = []\n",
    "for cw in class_weight:\n",
    "    rforest = RandomForestClassifier(random_state = 42, n_estimators = 100, max_depth = 24,\n",
    "                                     max_features='auto', class_weight=cw)\n",
    "    rforest.fit(xtrain_final, ytrain_final)\n",
    "    ypred = rforest.predict(xvalid_final)\n",
    "    accuracy = balanced_accuracy_score(yvalid_final, ypred)\n",
    "    test4_results.append(accuracy)\n",
    "from matplotlib.legend_handler import HandlerLine2D\n",
    "line3, = plt.plot(class_weight2, test4_results, 'r', label=\"Test balanced_accuracy\")\n",
    "plt.legend(handler_map={line1: HandlerLine2D(numpoints=2)})\n",
    "plt.ylabel('balanced_accuracy_score')\n",
    "plt.xlabel('RF class_weight')\n",
    "plt.show()"
   ]
  },
  {
   "cell_type": "code",
   "execution_count": 49,
   "metadata": {},
   "outputs": [
    {
     "data": {
      "text/plain": [
       "0.5467468765596747"
      ]
     },
     "execution_count": 49,
     "metadata": {},
     "output_type": "execute_result"
    }
   ],
   "source": [
    "test4_results[0]"
   ]
  },
  {
   "cell_type": "code",
   "execution_count": 50,
   "metadata": {},
   "outputs": [
    {
     "name": "stdout",
     "output_type": "stream",
     "text": [
      "Balanced accuracy score: 0.6640458677314046\n"
     ]
    }
   ],
   "source": [
    "_clf = RandomForestClassifier(random_state = 42,\n",
    "    n_estimators = 10, min_samples_split = 10, class_weight=\"balanced\",\n",
    "    min_samples_leaf = 2, max_features = 'sqrt', max_depth = 5)\n",
    "\n",
    "\n",
    "_clf.fit(xtrain_final, ytrain_final)  # training\n",
    "\n",
    "_ypred = _clf.predict(xvalid_final)  # predictions\n",
    "score = balanced_accuracy_score(yvalid_final, _ypred)  # scoring\n",
    "print(\"Balanced accuracy score: {}\".format(score))"
   ]
  },
  {
   "cell_type": "code",
   "execution_count": null,
   "metadata": {},
   "outputs": [],
   "source": []
  },
  {
   "cell_type": "code",
   "execution_count": 51,
   "metadata": {},
   "outputs": [
    {
     "data": {
      "text/plain": [
       "\"from sklearn.model_selection import RandomizedSearchCV\\n\\n# Number of trees in random forest\\nn_estimators = [int(x) for x in range(200,2000,200)]\\nn_estimators.extend([int(x) for x in range(10,2000,250)])\\nsorted(n_estimators)\\n\\n# Number of features to consider at every split\\nmax_features = ['auto', 'sqrt', 'log2']\\n\\n# Maximum number of levels in tree\\nmax_depth = [int(x) for x in np.linspace(10, 110, num = 11)]\\nmax_depth.append(None)\\n\\n# Minimum number of samples required to split a node\\nmin_samples_split = [2, 5, 10]\\n\\n# Minimum number of samples required at each leaf node\\nmin_samples_leaf = [1, 2, 4]\\n\\n# Method of selecting samples for training each tree\\nbootstrap = [True, False]\\n\\n#\\nclass_weight = [None, 'balanced', 'balanced_subsample']\\n\\n# Create the random grid\\nrandom_grid = {'n_estimators': n_estimators,\\n               'max_features': max_features,\\n               'max_depth': max_depth,\\n               'min_samples_split': min_samples_split,\\n               'min_samples_leaf': min_samples_leaf,\\n               'bootstrap': bootstrap,\\n               'class_weight': class_weight}\\n\\n# Use the random grid to search for best hyperparameters\\n# First create the base model to tune\\nrf = RandomForestClassifier(random_state=42,)\\n# Random search of parameters, using 3 fold cross validation, \\n# search across 100 different combinations, and use all available cores\\nrf_random = RandomizedSearchCV(estimator = rf, param_distributions = random_grid, n_iter = 100, cv = 3, verbose=2, random_state=42, n_jobs = -1)\\n# Fit the random search model\\nrf_random.fit(xtrain_final, ytrain_final)\\n\\nrf_random.best_estimator_\\nrf_random.best_params_\\n\""
      ]
     },
     "execution_count": 51,
     "metadata": {},
     "output_type": "execute_result"
    }
   ],
   "source": [
    "\"\"\"from sklearn.model_selection import RandomizedSearchCV\n",
    "\n",
    "# Number of trees in random forest\n",
    "n_estimators = [int(x) for x in range(200,2000,200)]\n",
    "n_estimators.extend([int(x) for x in range(10,2000,250)])\n",
    "sorted(n_estimators)\n",
    "\n",
    "# Number of features to consider at every split\n",
    "max_features = ['auto', 'sqrt', 'log2']\n",
    "\n",
    "# Maximum number of levels in tree\n",
    "max_depth = [int(x) for x in np.linspace(10, 110, num = 11)]\n",
    "max_depth.append(None)\n",
    "\n",
    "# Minimum number of samples required to split a node\n",
    "min_samples_split = [2, 5, 10]\n",
    "\n",
    "# Minimum number of samples required at each leaf node\n",
    "min_samples_leaf = [1, 2, 4]\n",
    "\n",
    "# Method of selecting samples for training each tree\n",
    "bootstrap = [True, False]\n",
    "\n",
    "#\n",
    "class_weight = [None, 'balanced', 'balanced_subsample']\n",
    "\n",
    "# Create the random grid\n",
    "random_grid = {'n_estimators': n_estimators,\n",
    "               'max_features': max_features,\n",
    "               'max_depth': max_depth,\n",
    "               'min_samples_split': min_samples_split,\n",
    "               'min_samples_leaf': min_samples_leaf,\n",
    "               'bootstrap': bootstrap,\n",
    "               'class_weight': class_weight}\n",
    "\n",
    "# Use the random grid to search for best hyperparameters\n",
    "# First create the base model to tune\n",
    "rf = RandomForestClassifier(random_state=42,)\n",
    "# Random search of parameters, using 3 fold cross validation, \n",
    "# search across 100 different combinations, and use all available cores\n",
    "rf_random = RandomizedSearchCV(estimator = rf, param_distributions = random_grid, n_iter = 100, cv = 3, verbose=2, random_state=42, n_jobs = -1)\n",
    "# Fit the random search model\n",
    "rf_random.fit(xtrain_final, ytrain_final)\n",
    "\n",
    "rf_random.best_estimator_\n",
    "rf_random.best_params_\n",
    "\"\"\""
   ]
  },
  {
   "cell_type": "code",
   "execution_count": 52,
   "metadata": {},
   "outputs": [],
   "source": [
    "def evaluate(model, x_test, y_test):\n",
    "    y_pred = model.predict(x_test)\n",
    "    accuracy = balanced_accuracy_score(y_test, y_pred)\n",
    "    print (accuracy)\n",
    "    print(confusion_matrix(y_test,y_pred))\n",
    "    \n",
    "\n",
    "#best_random = rf_random.best_estimator_\n",
    "#evaluate(best_random, xvalid_final, yvalid_final)"
   ]
  },
  {
   "cell_type": "code",
   "execution_count": 53,
   "metadata": {},
   "outputs": [],
   "source": [
    "from sklearn.model_selection import validation_curve\n",
    "n_estimators = [100, 300, 500, 750, 800, 1200]\n",
    "train_scores, test_scores = validation_curve(\n",
    "                                RandomForestClassifier(),\n",
    "                                X = xtrain_final, y = ytrain_final, \n",
    "                                param_name = 'n_estimators', \n",
    "                                param_range = n_estimators, cv = 3,scoring=\"balanced_accuracy\", n_jobs=1)"
   ]
  },
  {
   "cell_type": "code",
   "execution_count": 54,
   "metadata": {},
   "outputs": [
    {
     "name": "stdout",
     "output_type": "stream",
     "text": [
      "[[0.54485688 0.53324826 0.53554758]\n",
      " [0.52990012 0.53809405 0.53189412]\n",
      " [0.53587746 0.52709416 0.53638735]\n",
      " [0.5322306  0.53092094 0.53589041]\n",
      " [0.5317336  0.53176043 0.5365553 ]\n",
      " [0.53023591 0.53042887 0.53289492]]\n"
     ]
    }
   ],
   "source": [
    "#the list of index ordered by values of test_results asc\n",
    "#print(sorted(range(len(test_score)), key=lambda k: test_score[k]))\n",
    "print(test_scores)"
   ]
  },
  {
   "cell_type": "code",
   "execution_count": 57,
   "metadata": {},
   "outputs": [
    {
     "data": {
      "image/png": "[encoded data removed]",
      "text/plain": [
       "<Figure size 432x288 with 1 Axes>"
      ]
     },
     "metadata": {
      "needs_background": "light"
     },
     "output_type": "display_data"
    }
   ],
   "source": [
    "train_scores_mean = np.mean(train_scores, axis=1)\n",
    "train_scores_std = np.std(train_scores, axis=1)\n",
    "test_scores_mean = np.mean(test_scores, axis=1)\n",
    "test_scores_std = np.std(test_scores, axis=1)\n",
    "\n",
    "plt.title(\"Validation Curve with RFC\")\n",
    "plt.xlabel(\"n_estimators\")\n",
    "plt.ylabel(\"Score\")\n",
    "plt.ylim(0.0, 1.1)\n",
    "plt.semilogx(n_estimators, train_scores, label=\"Training score\", color=\"r\")\n",
    "plt.fill_between(n_estimators, train_scores_mean - train_scores_std,\n",
    "                 train_scores_mean + train_scores_std, alpha=0.2, color=\"r\")\n",
    "plt.semilogx(n_estimators, test_scores_mean, label=\"Cross-validation score\",\n",
    "             color=\"g\")\n",
    "plt.fill_between(n_estimators, test_scores_mean - test_scores_std,\n",
    "                 test_scores_mean + test_scores_std, alpha=0.2, color=\"g\")\n",
    "plt.legend(loc=\"best\")\n",
    "plt.show()"
   ]
  },
  {
   "cell_type": "markdown",
   "metadata": {},
   "source": [
    "### Question 3: What is up-sampling? Why it may be worth a try for this problem?"
   ]
  },
  {
   "cell_type": "markdown",
   "metadata": {},
   "source": [
    "TODO: answer"
   ]
  },
  {
   "cell_type": "code",
   "execution_count": 58,
   "metadata": {},
   "outputs": [
    {
     "name": "stdout",
     "output_type": "stream",
     "text": [
      "Requirement already satisfied: imbalanced-learn in /opt/anaconda3/lib/python3.8/site-packages (0.7.0)\n",
      "Requirement already satisfied: joblib>=0.11 in /opt/anaconda3/lib/python3.8/site-packages (from imbalanced-learn) (0.16.0)\n",
      "Requirement already satisfied: scikit-learn>=0.23 in /opt/anaconda3/lib/python3.8/site-packages (from imbalanced-learn) (0.23.1)\n",
      "Requirement already satisfied: numpy>=1.13.3 in /opt/anaconda3/lib/python3.8/site-packages (from imbalanced-learn) (1.18.5)\n",
      "Requirement already satisfied: scipy>=0.19.1 in /opt/anaconda3/lib/python3.8/site-packages (from imbalanced-learn) (1.5.0)\n",
      "Requirement already satisfied: threadpoolctl>=2.0.0 in /opt/anaconda3/lib/python3.8/site-packages (from scikit-learn>=0.23->imbalanced-learn) (2.1.0)\n"
     ]
    }
   ],
   "source": [
    "# check version number\n",
    "! pip install imbalanced-learn\n",
    "from imblearn.over_sampling import SMOTE"
   ]
  },
  {
   "cell_type": "code",
   "execution_count": 59,
   "metadata": {},
   "outputs": [
    {
     "name": "stdout",
     "output_type": "stream",
     "text": [
      "length of oversampled data is  17866\n",
      "Number of no subscription in oversampled data 8933\n",
      "Number of subscription 8933\n",
      "Proportion of no subscription data in oversampled data is  0.5\n",
      "Proportion of subscription data in oversampled data is  0.5\n"
     ]
    }
   ],
   "source": [
    "#up-sampling training data \n",
    "os = SMOTE(random_state=0)\n",
    "columns = xtrain_final.columns\n",
    "os_data_X, os_data_y = os.fit_sample(xtrain_final, ytrain_final)\n",
    "os_data_X = pd.DataFrame(data=os_data_X,columns=columns )\n",
    "os_data_y= pd.DataFrame(data=os_data_y,columns=['y'])\n",
    "# we can Check the numbers of our data\n",
    "print(\"length of oversampled data is \",len(os_data_X))\n",
    "print(\"Number of no subscription in oversampled data\",len(os_data_y[os_data_y['y']==0]))\n",
    "print(\"Number of subscription\",len(os_data_y[os_data_y['y']==1]))\n",
    "print(\"Proportion of no subscription data in oversampled data is \",len(os_data_y[os_data_y['y']==0])/len(os_data_X))\n",
    "print(\"Proportion of subscription data in oversampled data is \",len(os_data_y[os_data_y['y']==1])/len(os_data_X))"
   ]
  },
  {
   "cell_type": "code",
   "execution_count": 60,
   "metadata": {},
   "outputs": [
    {
     "name": "stdout",
     "output_type": "stream",
     "text": [
      "Balanced accuracy score: 0.6501914564600191\n"
     ]
    }
   ],
   "source": [
    "rf_random_clf = RandomForestClassifier(random_state = 42,\n",
    "    n_estimators = 100, min_samples_split = 2, class_weight= 'balanced_subsample',\n",
    "    min_samples_leaf = 4, max_features = 'auto', max_depth = 10)\n",
    "\n",
    "\n",
    "rf_random_clf.fit(os_data_X, os_data_y.values.ravel())  # training\n",
    "\n",
    "ypred = rf_random_clf.predict(xvalid_final)  # predictions\n",
    "score = balanced_accuracy_score(yvalid_final, ypred)  # scoring\n",
    "print(\"Balanced accuracy score: {}\".format(score))"
   ]
  },
  {
   "cell_type": "code",
   "execution_count": 61,
   "metadata": {},
   "outputs": [
    {
     "name": "stdout",
     "output_type": "stream",
     "text": [
      "Balanced accuracy score: 0.6262831264676283\n"
     ]
    }
   ],
   "source": [
    "# Baseline: Random Forest\n",
    "clf = RandomForestClassifier(random_state = 42,\n",
    "    n_estimators=10, class_weight=\"balanced\",\n",
    "    max_depth=5, \n",
    "#     min_samples_split=10,\n",
    "#     min_samples_leaf=10,\n",
    "#     max_leaf_nodes=20,\n",
    ")\n",
    "\n",
    "\n",
    "clf.fit(os_data_X, os_data_y.values.ravel())  # training\n",
    "\n",
    "ypred = clf.predict(xvalid_final)  # predictions\n",
    "score = balanced_accuracy_score(yvalid_final, ypred)  # scoring\n",
    "print(\"Balanced accuracy score: {}\".format(score))"
   ]
  },
  {
   "cell_type": "code",
   "execution_count": 62,
   "metadata": {},
   "outputs": [
    {
     "name": "stdout",
     "output_type": "stream",
     "text": [
      "Fitting 3 folds for each of 10 candidates, totalling 30 fits\n"
     ]
    },
    {
     "name": "stderr",
     "output_type": "stream",
     "text": [
      "[Parallel(n_jobs=-1)]: Using backend LokyBackend with 4 concurrent workers.\n",
      "[Parallel(n_jobs=-1)]: Done  30 out of  30 | elapsed: 15.2min finished\n"
     ]
    },
    {
     "data": {
      "text/plain": [
       "RandomizedSearchCV(cv=3, estimator=RandomForestClassifier(random_state=42),\n",
       "                   n_jobs=-1,\n",
       "                   param_distributions={'class_weight': [None, 'balanced',\n",
       "                                                         'balanced_subsample'],\n",
       "                                        'max_depth': [10, 24, 38, 52, 67, 81,\n",
       "                                                      95, 110, None],\n",
       "                                        'max_features': ['auto', 'sqrt',\n",
       "                                                         'log2'],\n",
       "                                        'min_samples_leaf': [1, 2, 4],\n",
       "                                        'min_samples_split': [2, 5, 10],\n",
       "                                        'n_estimators': [100, 300, 500, 700,\n",
       "                                                         900, 1100, 1300]},\n",
       "                   random_state=42, scoring='balanced_accuracy', verbose=2)"
      ]
     },
     "execution_count": 62,
     "metadata": {},
     "output_type": "execute_result"
    }
   ],
   "source": [
    "#tuning hyperparameters for up-sampled training data\n",
    "\n",
    "from sklearn.model_selection import RandomizedSearchCV\n",
    "\n",
    "# Number of trees in random forest\n",
    "n_estimators = [int(x) for x in range(100,1500,200)]\n",
    "# Maximum number of levels in tree\n",
    "max_depth = [int(x) for x in np.linspace(10, 110, num = 8)]\n",
    "max_depth.append(None)\n",
    "# number of features at every split\n",
    "max_features = ['auto', 'sqrt', 'log2']\n",
    "# Minimum number of samples required to split a node\n",
    "min_samples_split = [2, 5, 10]\n",
    "# Minimum number of samples required at each leaf node\n",
    "min_samples_leaf = [1, 2, 4]\n",
    "class_weight = [None, 'balanced', 'balanced_subsample']\n",
    "# Create the random grid\n",
    "random_grid = {'n_estimators': n_estimators,\n",
    "               'max_features': max_features,\n",
    "               'max_depth': max_depth,\n",
    "               'min_samples_split': min_samples_split,\n",
    "               'min_samples_leaf': min_samples_leaf,\n",
    "               'class_weight': class_weight\n",
    "              }\n",
    "# Use the random grid to search for best hyperparameters\n",
    "# First create the base model to tune\n",
    "uprf = RandomForestClassifier(random_state=42,)\n",
    "# Random search of parameters, using 3 fold cross validation, \n",
    "# search across 100 different combinations, and use all available cores\n",
    "uprf_random = RandomizedSearchCV(estimator = rf, param_distributions = random_grid, n_iter = 10,\n",
    "                               scoring='balanced_accuracy', cv = 3, verbose=2, random_state=42, n_jobs = -1)\n",
    "# Fit the random search model\n",
    "uprf_random.fit(os_data_X, os_data_y.values.ravel())"
   ]
  },
  {
   "cell_type": "code",
   "execution_count": 63,
   "metadata": {},
   "outputs": [
    {
     "data": {
      "text/plain": [
       "{'n_estimators': 1100,\n",
       " 'min_samples_split': 2,\n",
       " 'min_samples_leaf': 1,\n",
       " 'max_features': 'sqrt',\n",
       " 'max_depth': 110,\n",
       " 'class_weight': 'balanced'}"
      ]
     },
     "execution_count": 63,
     "metadata": {},
     "output_type": "execute_result"
    }
   ],
   "source": [
    "uprf_random.best_params_"
   ]
  },
  {
   "cell_type": "code",
   "execution_count": 64,
   "metadata": {},
   "outputs": [
    {
     "name": "stdout",
     "output_type": "stream",
     "text": [
      "Balanced accuracy score: 0.6182620008018263\n"
     ]
    }
   ],
   "source": [
    "# Best random forest classifier after up-sampling\n",
    "up_clf = RandomForestClassifier(random_state = 42,\n",
    "    n_estimators=1100, class_weight=\"balanced\",\n",
    "    min_samples_split = 2, min_samples_leaf = 1,\n",
    "    max_depth=110, max_features = 'sqrt')\n",
    "\n",
    "\n",
    "up_clf.fit(os_data_X, os_data_y.values.ravel())  # training\n",
    "\n",
    "ypred = up_clf.predict(xvalid_final)  # predictions\n",
    "score = balanced_accuracy_score(yvalid_final, ypred)  # scoring\n",
    "print(\"Balanced accuracy score: {}\".format(score))"
   ]
  },
  {
   "cell_type": "markdown",
   "metadata": {},
   "source": [
    "### Decision Tree Classifier model"
   ]
  },
  {
   "cell_type": "code",
   "execution_count": 65,
   "metadata": {},
   "outputs": [
    {
     "name": "stdout",
     "output_type": "stream",
     "text": [
      "Balanced accuracy score: 0.5895112132939511\n"
     ]
    }
   ],
   "source": [
    "from sklearn.tree import DecisionTreeClassifier\n",
    "tree = DecisionTreeClassifier(random_state= 42)\n",
    "tree.fit(xtrain_final, ytrain_final)\n",
    "\n",
    "ypred = tree.predict(xvalid_final)  # predictions\n",
    "score = balanced_accuracy_score(yvalid_final, ypred)  # scoring\n",
    "print(\"Balanced accuracy score: {}\".format(score))"
   ]
  },
  {
   "cell_type": "code",
   "execution_count": 66,
   "metadata": {},
   "outputs": [
    {
     "data": {
      "image/png": "[encoded data removed]",
      "text/plain": [
       "<Figure size 432x288 with 1 Axes>"
      ]
     },
     "metadata": {
      "needs_background": "light"
     },
     "output_type": "display_data"
    }
   ],
   "source": [
    "from sklearn.tree import DecisionTreeClassifier\n",
    "dt = DecisionTreeClassifier(random_state=42)\n",
    "dt.fit(xtrain_final, ytrain_final)\n",
    "y_pred = dt.predict(xvalid_final)\n",
    "\n",
    "max_depths = np.linspace(1, 32, 32, endpoint=True)\n",
    "train_results = []\n",
    "test_results = []\n",
    "for max_depth in max_depths:\n",
    "   dt = DecisionTreeClassifier(random_state = 42, max_depth=max_depth)\n",
    "   dt.fit(xtrain_final, ytrain_final)\n",
    "   train_pred = dt.predict(xtrain_final)\n",
    "   accuracy = balanced_accuracy_score(ytrain_final, train_pred)\n",
    "   train_results.append(accuracy)\n",
    "   y_pred = dt.predict(xvalid_final)\n",
    "   accuracy = balanced_accuracy_score(yvalid_final, y_pred)\n",
    "   # Add auc score to previous test results\n",
    "   test_results.append(accuracy)\n",
    "\n",
    "from matplotlib.legend_handler import HandlerLine2D\n",
    "line1, = plt.plot(max_depths, train_results, 'b', label=\"Train Accuracy\")\n",
    "line2, = plt.plot(max_depths, test_results, 'r', label=\"Test Accuracy\")\n",
    "plt.legend(handler_map={line1: HandlerLine2D(numpoints=2)})\n",
    "plt.ylabel('Accuracy score')\n",
    "plt.xlabel('Tree depth')\n",
    "plt.show()"
   ]
  },
  {
   "cell_type": "code",
   "execution_count": 67,
   "metadata": {},
   "outputs": [
    {
     "data": {
      "image/png": "[encoded data removed]",
      "text/plain": [
       "<Figure size 432x288 with 1 Axes>"
      ]
     },
     "metadata": {
      "needs_background": "light"
     },
     "output_type": "display_data"
    }
   ],
   "source": [
    "min_samples_splits = np.linspace(0.1, 1.0, 10, endpoint=True)\n",
    "train_results = []\n",
    "test_results = []\n",
    "for min_samples_split in min_samples_splits:\n",
    "   dt = DecisionTreeClassifier(random_state = 42, min_samples_split=min_samples_split)\n",
    "   dt.fit(xtrain_final, ytrain_final)\n",
    "   train_pred = dt.predict(xtrain_final)\n",
    "   accuracy = balanced_accuracy_score(ytrain_final, train_pred)\n",
    "   train_results.append(accuracy)\n",
    "   y_pred = dt.predict(xvalid_final)\n",
    "   accuracy = balanced_accuracy_score(yvalid_final, y_pred)\n",
    "   # Add auc score to previous test results\n",
    "   test_results.append(accuracy)\n",
    "\n",
    "from matplotlib.legend_handler import HandlerLine2D\n",
    "line1, = plt.plot(min_samples_splits, train_results, 'b', label=\"Train Accuracy\")\n",
    "line2, = plt.plot(min_samples_splits, test_results, 'r', label=\"Test Accuracy\")\n",
    "plt.legend(handler_map={line1: HandlerLine2D(numpoints=2)})\n",
    "plt.ylabel('Accuracy score')\n",
    "plt.xlabel('Tree min_samples_split')\n",
    "plt.show()"
   ]
  },
  {
   "cell_type": "code",
   "execution_count": 71,
   "metadata": {},
   "outputs": [
    {
     "name": "stdout",
     "output_type": "stream",
     "text": [
      "Balanced accuracy score: 0.6162283895566228\n"
     ]
    }
   ],
   "source": [
    "tree_ = DecisionTreeClassifier(random_state = 42, max_depth=1000, max_features=250)\n",
    "\n",
    "\n",
    "tree_.fit(xtrain_final, ytrain_final)  # training\n",
    "\n",
    "ypred = tree_.predict(xvalid_final)  # predictions\n",
    "score = balanced_accuracy_score(yvalid_final, ypred)  # scoring\n",
    "print(\"Balanced accuracy score: {}\".format(score))"
   ]
  },
  {
   "cell_type": "code",
   "execution_count": null,
   "metadata": {},
   "outputs": [],
   "source": []
  },
  {
   "cell_type": "markdown",
   "metadata": {},
   "source": [
    "## <a id=\"save\"> V) Save Predictions</a>\n",
    "\n",
    "* Use the following code to make predictions and save them as a ZIP file.\n",
    "* Try to upload this ZIP file into the competition (\"Participate > Submit/ View Results > Submit\")\n",
    "* Do your best to be **on top of the leaderboard!**"
   ]
  },
  {
   "cell_type": "code",
   "execution_count": 76,
   "metadata": {},
   "outputs": [],
   "source": [
    "xtest_preprocess = preprocess(X_test)\n",
    "predictions = rf_clf.predict(xtest_preprocess)  # compute predictions (0 and 1)\n"
   ]
  },
  {
   "cell_type": "code",
   "execution_count": 77,
   "metadata": {},
   "outputs": [
    {
     "name": "stdout",
     "output_type": "stream",
     "text": [
      "Predictions saved.\n",
      "The submission is ready: ./submissions/submission_Tue_Dec__1_22-53-17_2020.zip\n"
     ]
    }
   ],
   "source": [
    "predictions_file = \"mimic_synthetic_test.csv\"\n",
    "pd.Series(predictions).to_csv(predictions_file, index=False, header=False)\n",
    "print(\"Predictions saved.\")\n",
    "\n",
    "t = time.asctime().replace(\" \", \"_\").replace(\":\", \"-\")\n",
    "output_file = \"./submissions/submission_\" + t + \".zip\"\n",
    "\n",
    "# !zip test_submission.zip mimic_synthetic_test.csv # create a ZIP\n",
    "\n",
    "with ZipFile(output_file, \"w\") as z:\n",
    "    z.write(predictions_file)\n",
    "print(\"The submission is ready: {}\".format(output_file))"
   ]
  },
  {
   "cell_type": "code",
   "execution_count": null,
   "metadata": {},
   "outputs": [],
   "source": []
  },
  {
   "cell_type": "markdown",
   "metadata": {},
   "source": [
    "### Interesting to know!\n",
    "\n",
    "The dataset doesn't contain actual medical data. We are not allowed to share with you such **confidential data** from critical care patients. To avoid that problem, we replaced the data by **artificial data**. \n",
    "\n",
    "In order to have credible data, we have generated them using a **Wasserstein GAN**.\n",
    "\n",
    "For more information, here is a reference: <br />\n",
    "Privacy Preserving Synthetic Health Data <br />\n",
    "Andrew Yale, Saloni Dash, Ritik Dutta, Isabelle Guyon, Adrien Pavao, Kristin Bennett <br />\n",
    "https://hal.inria.fr/hal-02160496/document"
   ]
  },
  {
   "cell_type": "code",
   "execution_count": null,
   "metadata": {},
   "outputs": [],
   "source": []
  },
  {
   "cell_type": "code",
   "execution_count": null,
   "metadata": {},
   "outputs": [],
   "source": []
  },
  {
   "cell_type": "code",
   "execution_count": null,
   "metadata": {},
   "outputs": [],
   "source": []
  }
 ],
 "metadata": {
  "kernelspec": {
   "display_name": "Python 3",
   "language": "python",
   "name": "python3"
  },
  "language_info": {
   "codemirror_mode": {
    "name": "ipython",
    "version": 3
   },
   "file_extension": ".py",
   "mimetype": "text/x-python",
   "name": "python",
   "nbconvert_exporter": "python",
   "pygments_lexer": "ipython3",
   "version": "3.8.3"
  }
 },
 "nbformat": 4,
 "nbformat_minor": 4
}
