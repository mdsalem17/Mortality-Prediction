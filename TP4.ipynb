{
 "cells": [
  {
   "cell_type": "markdown",
   "metadata": {},
   "source": [
    "<table>\n",
    "<tr>\n",
    "    <td width=10%><img src=\"./img/logo_lri.jpg\"></td>\n",
    "    <td width=30%><img src=\"./img/medi-chal_logo.png\" height=15%></img></td>\n",
    "</tr>\n",
    "\n",
    "</table>"
   ]
  },
  {
   "cell_type": "markdown",
   "metadata": {},
   "source": [
    "<br/><br/><div id=\"top\"></div>\n",
    "\n",
    "<center><a style=\"font-size: 40pt; font-weight: bold\">To be or not to be?</a></center>\n",
    "<br/>\n",
    "<center><a style=\"font-size: 22pt; font-weight: bold\">Binary Classification on Artificial Medical Data</a></center>\n",
    "<br/>\n",
    "\n",
    "---"
   ]
  },
  {
   "cell_type": "markdown",
   "metadata": {},
   "source": [
    "# TP1 Instructions\n",
    "\n",
    "\n",
    "The goal of this TP is to work on a mortality prediction problem and to participate into the \"To be or not to be?\" challenge.\n",
    "\n",
    "A fresh instance of the challenge can be found here: https://competitions.codalab.org/competitions/27605\n",
    "\n",
    "* **Step 1:** Sign up to https://competitions.codalab.org\n",
    "* **Step 2:** Go through the competition's pages and read them carefully in order to understand the problem.\n",
    "* **Step 3:** Download the dataset from \"Participate > Files > Public Data\" page. Put the \"public_data\" folder in the same folder as the folder containing this notebook.\n",
    "* **Step 4:** Go though this notebook. You'll have to read, run, **code your own methods** and **answer quetions**. Use \"code\" cell for coding and \"markdown\" cell to answer questions. \n"
   ]
  },
  {
   "cell_type": "markdown",
   "metadata": {},
   "source": [
    "<b><font size=\"5\">Outline</font></b><br/><br/>\n",
    "&emsp;&emsp;&emsp; I) <a href=\"#data\"> Load data</a><br/>\n",
    "&emsp;&emsp;&emsp; II) <a href=\"#exploratory\"> Exploratory analysis </a><br/>\n",
    "&emsp;&emsp;&emsp; III) <a href=\"#preprocessing\"> Preprocessing </a><br/>\n",
    "&emsp;&emsp;&emsp; IV) <a href=\"#processing\"> Processing </a><br/>\n",
    "&emsp;&emsp;&emsp; V) <a href=\"#model\"> Predictive model </a><br/>\n",
    "&emsp;&emsp;&emsp; VI) <a href=\"#save\"> Save predictions </a><br/>"
   ]
  },
  {
   "cell_type": "markdown",
   "metadata": {},
   "source": [
    "2020 nov 26 am"
   ]
  },
  {
   "cell_type": "code",
   "execution_count": 1,
   "metadata": {},
   "outputs": [],
   "source": [
    "%matplotlib inline\n",
    "%reload_ext autoreload\n",
    "%autoreload 2\n",
    "\n",
    "import time\n",
    "from zipfile import ZipFile\n",
    "\n",
    "import matplotlib.pyplot as plt\n",
    "import numpy as np\n",
    "\n",
    "import sklearn\n",
    "\n",
    "# IMPORTS\n",
    "import pandas as pd\n",
    "import seaborn as sns\n",
    "from sklearn.ensemble import RandomForestClassifier\n",
    "from sklearn.metrics import (\n",
    "    accuracy_score,\n",
    "    balanced_accuracy_score,\n",
    "    roc_auc_score,\n",
    "    plot_confusion_matrix\n",
    ")\n",
    "from sklearn.model_selection import train_test_split\n",
    "from sklearn.preprocessing import OneHotEncoder, OrdinalEncoder\n",
    "\n",
    "from sklearn.svm import LinearSVC\n",
    "\n",
    "import os\n",
    "from pathlib import Path\n",
    "\n",
    "from IPython.display import display\n",
    "from pprint import pprint"
   ]
  },
  {
   "cell_type": "code",
   "execution_count": null,
   "metadata": {},
   "outputs": [],
   "source": []
  },
  {
   "cell_type": "markdown",
   "metadata": {},
   "source": [
    "### Question 1: Briefly explain the task."
   ]
  },
  {
   "cell_type": "markdown",
   "metadata": {},
   "source": [
    "This is a binary classification of tabular data.  \n",
    "From information about patients, we need to predict whether the patients will die during their stay in the hospital.  \n",
    "A target value of 0 means survival, and 1 means death."
   ]
  },
  {
   "cell_type": "markdown",
   "metadata": {},
   "source": [
    "### Question 2: What is the metric used in the challenge?"
   ]
  },
  {
   "cell_type": "markdown",
   "metadata": {},
   "source": [
    "Balanced accuracy: average of accuracy for each class  \n",
    "\n",
    "<table>\n",
    "    <tr>\n",
    "        <td>\n",
    "            <img src=\"https://statisticaloddsandends.files.wordpress.com/2020/01/metrics1.png?w=600&h=434\" width=\"250\">\n",
    "        </td>\n",
    "        <td>\n",
    "            <img src=\"https://statisticaloddsandends.files.wordpress.com/2020/01/metrics2.png?w=768&h=352\" width=\"450\">\n",
    "        </td>\n",
    "    </tr>\n",
    "</table>\n",
    "    \n",
    "$$ \n",
    "\\texttt{Recall = Sensitivity = True Positive Rate} \\\\\n",
    "= \\frac{True Positive}{True Positive + False Negative} = \\frac{True Positive}{All Actual Positive}\n",
    "\\\\\n",
    "$$\n",
    "\n",
    "$$\n",
    "\\texttt{Specificity = True Negative Rate = 1- False Positive Rate} \\\\\n",
    "= \\frac{True Negative}{True Negative + False Positive} = \\frac{True Negative}{All Actual Negative}\n",
    "\\\\\n",
    "$$   \n",
    "\n",
    "$$\n",
    "\\texttt{balanced-accuracy} = \\frac 1 2 (\\texttt{True Positive Rate} + \\texttt{True Negative Rate})\n",
    "= \\frac{1}{2}\\left( \\frac{TP}{TP + FN} + \\frac{TN}{TN + FP}\\right )\n",
    "\\\\\n",
    "$$\n",
    "\n",
    "Reference:  \n",
    "https://scikit-learn.org/stable/modules/model_evaluation.html#balanced-accuracy-score  \n",
    "https://mvpa.blogspot.com/2015/12/balanced-accuracy-what-and-why.html  \n",
    "\n",
    "\n",
    "Example:  \n",
    "https://statisticaloddsandends.wordpress.com/2020/01/23/what-is-balanced-accuracy/  \n"
   ]
  },
  {
   "cell_type": "code",
   "execution_count": 2,
   "metadata": {},
   "outputs": [
    {
     "name": "stdout",
     "output_type": "stream",
     "text": [
      "/Users/md_76s/Desktop/Studies/OPT9 - Data Camp/Class 4/TP4/OPT9_TP4-main\n",
      "['mimic_synthetic_test.data', 'mimic_synthetic_feat.name', 'mimic_synthetic_feat.type', 'mimic_synthetic_label.name', 'mimic_synthetic_train.solution', 'mimic_synthetic_train.data']\n"
     ]
    }
   ],
   "source": [
    "print(os.getcwd())\n",
    "print(os.listdir(\"public_data\"))"
   ]
  },
  {
   "cell_type": "markdown",
   "metadata": {},
   "source": [
    "## <a id=\"data\"> I) Load data</a>  "
   ]
  },
  {
   "cell_type": "code",
   "execution_count": 3,
   "metadata": {},
   "outputs": [],
   "source": [
    "features = pd.read_csv(\n",
    "    \"public_data/mimic_synthetic_feat.name\", header=None\n",
    ").values.flatten()\n",
    "labels = pd.read_csv(\n",
    "    \"public_data/mimic_synthetic_label.name\", header=None\n",
    ").values.flatten()\n",
    "X = pd.read_csv(\n",
    "    \"public_data/mimic_synthetic_train.data\",\n",
    "    header=None,\n",
    "    names=features,\n",
    "    sep=\" \",\n",
    ")\n",
    "y = pd.Series(\n",
    "    pd.read_csv(\n",
    "        \"public_data/mimic_synthetic_train.solution\",\n",
    "        header=None,\n",
    "        names=labels,\n",
    "        sep=\" \",\n",
    "    ).values.flatten()\n",
    ")"
   ]
  },
  {
   "cell_type": "code",
   "execution_count": 4,
   "metadata": {},
   "outputs": [
    {
     "name": "stdout",
     "output_type": "stream",
     "text": [
      "(79999, 341)\n"
     ]
    },
    {
     "data": {
      "text/html": [
       "<div>\n",
       "<style scoped>\n",
       "    .dataframe tbody tr th:only-of-type {\n",
       "        vertical-align: middle;\n",
       "    }\n",
       "\n",
       "    .dataframe tbody tr th {\n",
       "        vertical-align: top;\n",
       "    }\n",
       "\n",
       "    .dataframe thead th {\n",
       "        text-align: right;\n",
       "    }\n",
       "</style>\n",
       "<table border=\"1\" class=\"dataframe\">\n",
       "  <thead>\n",
       "    <tr style=\"text-align: right;\">\n",
       "      <th></th>\n",
       "      <th>SUBJECT_ID</th>\n",
       "      <th>HADM_ID</th>\n",
       "      <th>ADMITTIME</th>\n",
       "      <th>DISCHTIME</th>\n",
       "      <th>INSURANCE</th>\n",
       "      <th>LANGUAGE</th>\n",
       "      <th>RELIGION</th>\n",
       "      <th>MARITAL_STATUS</th>\n",
       "      <th>ETHNICITY</th>\n",
       "      <th>GENDER</th>\n",
       "      <th>...</th>\n",
       "      <th>Eyeinfectn</th>\n",
       "      <th>Othereyedx</th>\n",
       "      <th>Otitismedia</th>\n",
       "      <th>Dizziness</th>\n",
       "      <th>Othereardx</th>\n",
       "      <th>Othnervdx</th>\n",
       "      <th>Hrtvalvedx</th>\n",
       "      <th>Carditis</th>\n",
       "      <th>HTN</th>\n",
       "      <th>Htncomplicn</th>\n",
       "    </tr>\n",
       "  </thead>\n",
       "  <tbody>\n",
       "    <tr>\n",
       "      <th>58274</th>\n",
       "      <td>32787</td>\n",
       "      <td>127463</td>\n",
       "      <td>2118-09-27_17:07:00</td>\n",
       "      <td>2168-07-04_20:05:00</td>\n",
       "      <td>Medicare</td>\n",
       "      <td>ENGL</td>\n",
       "      <td>NOT_SPECIFIED</td>\n",
       "      <td>DIVORCED</td>\n",
       "      <td>UNKNOWN/NOT_SPECIFIED</td>\n",
       "      <td>M</td>\n",
       "      <td>...</td>\n",
       "      <td>0</td>\n",
       "      <td>0</td>\n",
       "      <td>0</td>\n",
       "      <td>0</td>\n",
       "      <td>0</td>\n",
       "      <td>0.0</td>\n",
       "      <td>0</td>\n",
       "      <td>0</td>\n",
       "      <td>0</td>\n",
       "      <td>1</td>\n",
       "    </tr>\n",
       "    <tr>\n",
       "      <th>70498</th>\n",
       "      <td>90739</td>\n",
       "      <td>129902</td>\n",
       "      <td>2152-09-19_18:28:00</td>\n",
       "      <td>2149-07-09_11:44:00</td>\n",
       "      <td>Government</td>\n",
       "      <td>ENGL</td>\n",
       "      <td>CATHOLIC</td>\n",
       "      <td>MARRIED</td>\n",
       "      <td>WHITE</td>\n",
       "      <td>M</td>\n",
       "      <td>...</td>\n",
       "      <td>0</td>\n",
       "      <td>0</td>\n",
       "      <td>0</td>\n",
       "      <td>0</td>\n",
       "      <td>0</td>\n",
       "      <td>1.0</td>\n",
       "      <td>0</td>\n",
       "      <td>0</td>\n",
       "      <td>0</td>\n",
       "      <td>0</td>\n",
       "    </tr>\n",
       "    <tr>\n",
       "      <th>15415</th>\n",
       "      <td>71961</td>\n",
       "      <td>153366</td>\n",
       "      <td>2187-02-07_14:00:00</td>\n",
       "      <td>2156-01-26_15:32:00</td>\n",
       "      <td>Medicare</td>\n",
       "      <td>ENGL</td>\n",
       "      <td>CATHOLIC</td>\n",
       "      <td>WIDOWED</td>\n",
       "      <td>WHITE</td>\n",
       "      <td>F</td>\n",
       "      <td>...</td>\n",
       "      <td>0</td>\n",
       "      <td>0</td>\n",
       "      <td>0</td>\n",
       "      <td>0</td>\n",
       "      <td>0</td>\n",
       "      <td>0.0</td>\n",
       "      <td>0</td>\n",
       "      <td>0</td>\n",
       "      <td>1</td>\n",
       "      <td>0</td>\n",
       "    </tr>\n",
       "    <tr>\n",
       "      <th>74894</th>\n",
       "      <td>11807</td>\n",
       "      <td>120604</td>\n",
       "      <td>2103-12-10_16:47:00</td>\n",
       "      <td>2183-11-13_16:02:00</td>\n",
       "      <td>Medicare</td>\n",
       "      <td>ENGL</td>\n",
       "      <td>JEWISH</td>\n",
       "      <td>WIDOWED</td>\n",
       "      <td>HISPANIC_OR_LATINO</td>\n",
       "      <td>F</td>\n",
       "      <td>...</td>\n",
       "      <td>0</td>\n",
       "      <td>0</td>\n",
       "      <td>0</td>\n",
       "      <td>0</td>\n",
       "      <td>0</td>\n",
       "      <td>0.0</td>\n",
       "      <td>0</td>\n",
       "      <td>0</td>\n",
       "      <td>1</td>\n",
       "      <td>0</td>\n",
       "    </tr>\n",
       "    <tr>\n",
       "      <th>65759</th>\n",
       "      <td>14355</td>\n",
       "      <td>157591</td>\n",
       "      <td>2150-02-27_15:51:00</td>\n",
       "      <td>2112-01-16_14:27:00</td>\n",
       "      <td>Medicare</td>\n",
       "      <td>ENGL</td>\n",
       "      <td>NOT_SPECIFIED</td>\n",
       "      <td>SINGLE</td>\n",
       "      <td>WHITE</td>\n",
       "      <td>F</td>\n",
       "      <td>...</td>\n",
       "      <td>0</td>\n",
       "      <td>0</td>\n",
       "      <td>0</td>\n",
       "      <td>0</td>\n",
       "      <td>0</td>\n",
       "      <td>0.0</td>\n",
       "      <td>1</td>\n",
       "      <td>0</td>\n",
       "      <td>0</td>\n",
       "      <td>0</td>\n",
       "    </tr>\n",
       "  </tbody>\n",
       "</table>\n",
       "<p>5 rows × 341 columns</p>\n",
       "</div>"
      ],
      "text/plain": [
       "       SUBJECT_ID  HADM_ID            ADMITTIME            DISCHTIME  \\\n",
       "58274       32787   127463  2118-09-27_17:07:00  2168-07-04_20:05:00   \n",
       "70498       90739   129902  2152-09-19_18:28:00  2149-07-09_11:44:00   \n",
       "15415       71961   153366  2187-02-07_14:00:00  2156-01-26_15:32:00   \n",
       "74894       11807   120604  2103-12-10_16:47:00  2183-11-13_16:02:00   \n",
       "65759       14355   157591  2150-02-27_15:51:00  2112-01-16_14:27:00   \n",
       "\n",
       "        INSURANCE LANGUAGE       RELIGION MARITAL_STATUS  \\\n",
       "58274    Medicare     ENGL  NOT_SPECIFIED       DIVORCED   \n",
       "70498  Government     ENGL       CATHOLIC        MARRIED   \n",
       "15415    Medicare     ENGL       CATHOLIC        WIDOWED   \n",
       "74894    Medicare     ENGL         JEWISH        WIDOWED   \n",
       "65759    Medicare     ENGL  NOT_SPECIFIED         SINGLE   \n",
       "\n",
       "                   ETHNICITY GENDER  ...  Eyeinfectn  Othereyedx  Otitismedia  \\\n",
       "58274  UNKNOWN/NOT_SPECIFIED      M  ...           0           0            0   \n",
       "70498                  WHITE      M  ...           0           0            0   \n",
       "15415                  WHITE      F  ...           0           0            0   \n",
       "74894     HISPANIC_OR_LATINO      F  ...           0           0            0   \n",
       "65759                  WHITE      F  ...           0           0            0   \n",
       "\n",
       "       Dizziness  Othereardx  Othnervdx  Hrtvalvedx  Carditis  HTN  \\\n",
       "58274          0           0        0.0           0         0    0   \n",
       "70498          0           0        1.0           0         0    0   \n",
       "15415          0           0        0.0           0         0    1   \n",
       "74894          0           0        0.0           0         0    1   \n",
       "65759          0           0        0.0           1         0    0   \n",
       "\n",
       "       Htncomplicn  \n",
       "58274            1  \n",
       "70498            0  \n",
       "15415            0  \n",
       "74894            0  \n",
       "65759            0  \n",
       "\n",
       "[5 rows x 341 columns]"
      ]
     },
     "metadata": {},
     "output_type": "display_data"
    }
   ],
   "source": [
    "print(X.shape)\n",
    "display(X.sample(5))"
   ]
  },
  {
   "cell_type": "code",
   "execution_count": 5,
   "metadata": {},
   "outputs": [
    {
     "name": "stdout",
     "output_type": "stream",
     "text": [
      "(79999,)\n"
     ]
    },
    {
     "data": {
      "text/plain": [
       "45149    0\n",
       "70992    0\n",
       "64413    0\n",
       "26961    0\n",
       "60127    0\n",
       "dtype: int64"
      ]
     },
     "metadata": {},
     "output_type": "display_data"
    },
    {
     "data": {
      "text/plain": [
       "0    77202\n",
       "1     2797\n",
       "dtype: int64"
      ]
     },
     "metadata": {},
     "output_type": "display_data"
    }
   ],
   "source": [
    "print(y.shape)\n",
    "display(y.sample(5))\n",
    "display(y.value_counts())"
   ]
  },
  {
   "cell_type": "markdown",
   "metadata": {},
   "source": [
    "This is the **training set**. This means that have access to the labels and you can use it in anyway you want to prepare your model.\n",
    "\n",
    "Later on, you'll make your model draws predictions from the **testing set** in order to upload them on Codalab and get a score on unseen labels."
   ]
  },
  {
   "cell_type": "code",
   "execution_count": 6,
   "metadata": {},
   "outputs": [],
   "source": [
    "# Load testing set\n",
    "X_test = pd.read_csv(\n",
    "    \"public_data/mimic_synthetic_test.data\",\n",
    "    header=None,\n",
    "    names=features,\n",
    "    sep=\" \",\n",
    ")"
   ]
  },
  {
   "cell_type": "code",
   "execution_count": 7,
   "metadata": {},
   "outputs": [
    {
     "name": "stdout",
     "output_type": "stream",
     "text": [
      "(20001, 341)\n"
     ]
    },
    {
     "data": {
      "text/html": [
       "<div>\n",
       "<style scoped>\n",
       "    .dataframe tbody tr th:only-of-type {\n",
       "        vertical-align: middle;\n",
       "    }\n",
       "\n",
       "    .dataframe tbody tr th {\n",
       "        vertical-align: top;\n",
       "    }\n",
       "\n",
       "    .dataframe thead th {\n",
       "        text-align: right;\n",
       "    }\n",
       "</style>\n",
       "<table border=\"1\" class=\"dataframe\">\n",
       "  <thead>\n",
       "    <tr style=\"text-align: right;\">\n",
       "      <th></th>\n",
       "      <th>SUBJECT_ID</th>\n",
       "      <th>HADM_ID</th>\n",
       "      <th>ADMITTIME</th>\n",
       "      <th>DISCHTIME</th>\n",
       "      <th>INSURANCE</th>\n",
       "      <th>LANGUAGE</th>\n",
       "      <th>RELIGION</th>\n",
       "      <th>MARITAL_STATUS</th>\n",
       "      <th>ETHNICITY</th>\n",
       "      <th>GENDER</th>\n",
       "      <th>...</th>\n",
       "      <th>Eyeinfectn</th>\n",
       "      <th>Othereyedx</th>\n",
       "      <th>Otitismedia</th>\n",
       "      <th>Dizziness</th>\n",
       "      <th>Othereardx</th>\n",
       "      <th>Othnervdx</th>\n",
       "      <th>Hrtvalvedx</th>\n",
       "      <th>Carditis</th>\n",
       "      <th>HTN</th>\n",
       "      <th>Htncomplicn</th>\n",
       "    </tr>\n",
       "  </thead>\n",
       "  <tbody>\n",
       "    <tr>\n",
       "      <th>19590</th>\n",
       "      <td>9249</td>\n",
       "      <td>122430</td>\n",
       "      <td>2109-03-28_23:19:00</td>\n",
       "      <td>2113-03-31_12:40:00</td>\n",
       "      <td>Private</td>\n",
       "      <td>ENGL</td>\n",
       "      <td>CATHOLIC</td>\n",
       "      <td>SINGLE</td>\n",
       "      <td>WHITE</td>\n",
       "      <td>M</td>\n",
       "      <td>...</td>\n",
       "      <td>0</td>\n",
       "      <td>0</td>\n",
       "      <td>0</td>\n",
       "      <td>0</td>\n",
       "      <td>0</td>\n",
       "      <td>1.0</td>\n",
       "      <td>1</td>\n",
       "      <td>0</td>\n",
       "      <td>0</td>\n",
       "      <td>1</td>\n",
       "    </tr>\n",
       "    <tr>\n",
       "      <th>10202</th>\n",
       "      <td>25622</td>\n",
       "      <td>176520</td>\n",
       "      <td>2121-09-09_23:15:00</td>\n",
       "      <td>2108-08-16_16:20:00</td>\n",
       "      <td>Medicare</td>\n",
       "      <td>ENGL</td>\n",
       "      <td>PROTESTANT_QUAKER</td>\n",
       "      <td>DIVORCED</td>\n",
       "      <td>UNKNOWN/NOT_SPECIFIED</td>\n",
       "      <td>F</td>\n",
       "      <td>...</td>\n",
       "      <td>0</td>\n",
       "      <td>0</td>\n",
       "      <td>0</td>\n",
       "      <td>0</td>\n",
       "      <td>0</td>\n",
       "      <td>0.0</td>\n",
       "      <td>1</td>\n",
       "      <td>0</td>\n",
       "      <td>1</td>\n",
       "      <td>0</td>\n",
       "    </tr>\n",
       "    <tr>\n",
       "      <th>842</th>\n",
       "      <td>16228</td>\n",
       "      <td>170381</td>\n",
       "      <td>2104-05-19_07:29:00</td>\n",
       "      <td>2167-08-14_12:18:00</td>\n",
       "      <td>Medicare</td>\n",
       "      <td>ENGL</td>\n",
       "      <td>CATHOLIC</td>\n",
       "      <td>SINGLE</td>\n",
       "      <td>WHITE</td>\n",
       "      <td>F</td>\n",
       "      <td>...</td>\n",
       "      <td>0</td>\n",
       "      <td>0</td>\n",
       "      <td>0</td>\n",
       "      <td>0</td>\n",
       "      <td>0</td>\n",
       "      <td>0.0</td>\n",
       "      <td>0</td>\n",
       "      <td>0</td>\n",
       "      <td>0</td>\n",
       "      <td>0</td>\n",
       "    </tr>\n",
       "    <tr>\n",
       "      <th>2560</th>\n",
       "      <td>6172</td>\n",
       "      <td>156922</td>\n",
       "      <td>2164-09-10_16:24:00</td>\n",
       "      <td>2192-05-14_15:00:00</td>\n",
       "      <td>Medicare</td>\n",
       "      <td>ENGL</td>\n",
       "      <td>CATHOLIC</td>\n",
       "      <td>UNKNOWN_(DEFAULT)</td>\n",
       "      <td>WHITE</td>\n",
       "      <td>F</td>\n",
       "      <td>...</td>\n",
       "      <td>0</td>\n",
       "      <td>0</td>\n",
       "      <td>0</td>\n",
       "      <td>0</td>\n",
       "      <td>0</td>\n",
       "      <td>1.0</td>\n",
       "      <td>0</td>\n",
       "      <td>0</td>\n",
       "      <td>0</td>\n",
       "      <td>1</td>\n",
       "    </tr>\n",
       "    <tr>\n",
       "      <th>19080</th>\n",
       "      <td>8057</td>\n",
       "      <td>142257</td>\n",
       "      <td>2129-11-09_05:21:00</td>\n",
       "      <td>2181-08-13_17:00:00</td>\n",
       "      <td>Private</td>\n",
       "      <td>ENGL</td>\n",
       "      <td>CATHOLIC</td>\n",
       "      <td>MARRIED</td>\n",
       "      <td>WHITE</td>\n",
       "      <td>F</td>\n",
       "      <td>...</td>\n",
       "      <td>0</td>\n",
       "      <td>0</td>\n",
       "      <td>0</td>\n",
       "      <td>0</td>\n",
       "      <td>0</td>\n",
       "      <td>0.0</td>\n",
       "      <td>0</td>\n",
       "      <td>0</td>\n",
       "      <td>0</td>\n",
       "      <td>0</td>\n",
       "    </tr>\n",
       "  </tbody>\n",
       "</table>\n",
       "<p>5 rows × 341 columns</p>\n",
       "</div>"
      ],
      "text/plain": [
       "       SUBJECT_ID  HADM_ID            ADMITTIME            DISCHTIME  \\\n",
       "19590        9249   122430  2109-03-28_23:19:00  2113-03-31_12:40:00   \n",
       "10202       25622   176520  2121-09-09_23:15:00  2108-08-16_16:20:00   \n",
       "842         16228   170381  2104-05-19_07:29:00  2167-08-14_12:18:00   \n",
       "2560         6172   156922  2164-09-10_16:24:00  2192-05-14_15:00:00   \n",
       "19080        8057   142257  2129-11-09_05:21:00  2181-08-13_17:00:00   \n",
       "\n",
       "      INSURANCE LANGUAGE           RELIGION     MARITAL_STATUS  \\\n",
       "19590   Private     ENGL           CATHOLIC             SINGLE   \n",
       "10202  Medicare     ENGL  PROTESTANT_QUAKER           DIVORCED   \n",
       "842    Medicare     ENGL           CATHOLIC             SINGLE   \n",
       "2560   Medicare     ENGL           CATHOLIC  UNKNOWN_(DEFAULT)   \n",
       "19080   Private     ENGL           CATHOLIC            MARRIED   \n",
       "\n",
       "                   ETHNICITY GENDER  ...  Eyeinfectn  Othereyedx  Otitismedia  \\\n",
       "19590                  WHITE      M  ...           0           0            0   \n",
       "10202  UNKNOWN/NOT_SPECIFIED      F  ...           0           0            0   \n",
       "842                    WHITE      F  ...           0           0            0   \n",
       "2560                   WHITE      F  ...           0           0            0   \n",
       "19080                  WHITE      F  ...           0           0            0   \n",
       "\n",
       "       Dizziness  Othereardx  Othnervdx  Hrtvalvedx  Carditis  HTN  \\\n",
       "19590          0           0        1.0           1         0    0   \n",
       "10202          0           0        0.0           1         0    1   \n",
       "842            0           0        0.0           0         0    0   \n",
       "2560           0           0        1.0           0         0    0   \n",
       "19080          0           0        0.0           0         0    0   \n",
       "\n",
       "       Htncomplicn  \n",
       "19590            1  \n",
       "10202            0  \n",
       "842              0  \n",
       "2560             1  \n",
       "19080            0  \n",
       "\n",
       "[5 rows x 341 columns]"
      ]
     },
     "metadata": {},
     "output_type": "display_data"
    }
   ],
   "source": [
    "print(X_test.shape)\n",
    "# print(X_test.dropna().shape)\n",
    "display(X_test.sample(5))"
   ]
  },
  {
   "cell_type": "markdown",
   "metadata": {},
   "source": [
    "## <a id=\"exploratory\"> II) Exploratory analysis</a>"
   ]
  },
  {
   "cell_type": "markdown",
   "metadata": {},
   "source": [
    "#### Variable types"
   ]
  },
  {
   "cell_type": "code",
   "execution_count": 8,
   "metadata": {},
   "outputs": [
    {
     "name": "stdout",
     "output_type": "stream",
     "text": [
      "Numerical      226\n",
      "Binary         107\n",
      "Categorical      8\n",
      "Name: 0, dtype: int64\n"
     ]
    }
   ],
   "source": [
    "types = pd.read_csv(\n",
    "    \"public_data/mimic_synthetic_feat.type\", header=None\n",
    ").set_index(features)[0]\n",
    "print(types.value_counts())"
   ]
  },
  {
   "cell_type": "markdown",
   "metadata": {},
   "source": [
    "### Code 1: Display the following plots:\n",
    "* Bar plots of some categorical variables (e.g. \"LANGUAGE\", \"MARITAL_STATUS\")\n",
    "\n",
    "* Show the correlation between some variables and the target variable y.\n",
    "\n",
    "* Another plot or any exploratory analysis you can think of"
   ]
  },
  {
   "cell_type": "code",
   "execution_count": 9,
   "metadata": {},
   "outputs": [
    {
     "data": {
      "text/plain": [
       "array(['ADMITTIME', 'DISCHTIME', 'INSURANCE', 'LANGUAGE', 'RELIGION',\n",
       "       'MARITAL_STATUS', 'ETHNICITY', 'ICU'], dtype=object)"
      ]
     },
     "metadata": {},
     "output_type": "display_data"
    }
   ],
   "source": [
    "# TODO: plot1\n",
    "display(types[types == \"Categorical\"].index.values)\n",
    "\n",
    "categorical_features = \"ICU INSURANCE GENDER\".split(\" \")"
   ]
  },
  {
   "cell_type": "code",
   "execution_count": 10,
   "metadata": {},
   "outputs": [
    {
     "data": {
      "text/plain": [
       "<matplotlib.axes._subplots.AxesSubplot at 0x7fe779d7fe20>"
      ]
     },
     "execution_count": 10,
     "metadata": {},
     "output_type": "execute_result"
    },
    {
     "data": {
      "image/png": "[encoded data removed]",
      "text/plain": [
       "<Figure size 432x288 with 1 Axes>"
      ]
     },
     "metadata": {
      "needs_background": "light"
     },
     "output_type": "display_data"
    }
   ],
   "source": [
    "X[\"ICU\"].value_counts().plot(kind=\"bar\")"
   ]
  },
  {
   "cell_type": "code",
   "execution_count": 11,
   "metadata": {},
   "outputs": [
    {
     "data": {
      "text/plain": [
       "<matplotlib.axes._subplots.AxesSubplot at 0x7fe7780fe910>"
      ]
     },
     "execution_count": 11,
     "metadata": {},
     "output_type": "execute_result"
    },
    {
     "data": {
      "image/png": "[encoded data removed]",
      "text/plain": [
       "<Figure size 432x288 with 1 Axes>"
      ]
     },
     "metadata": {
      "needs_background": "light"
     },
     "output_type": "display_data"
    }
   ],
   "source": [
    "X[\"INSURANCE\"].value_counts().plot(kind=\"bar\")"
   ]
  },
  {
   "cell_type": "code",
   "execution_count": 12,
   "metadata": {},
   "outputs": [
    {
     "name": "stdout",
     "output_type": "stream",
     "text": [
      "77202 2797\n"
     ]
    }
   ],
   "source": [
    "def split_yindex(xdata, ydata):\n",
    "    \"\"\" Split target y into label 0 and label 1\"\"\"\n",
    "    y1_idx = ydata[ydata==1].index\n",
    "    y0_idx = np.setdiff1d(ydata.index, y1_idx)\n",
    "    return y0_idx, y1_idx\n",
    "\n",
    "yindex = split_yindex(X, y)\n",
    "print(len(yindex[0]), len(yindex[1]))"
   ]
  },
  {
   "cell_type": "code",
   "execution_count": 13,
   "metadata": {},
   "outputs": [
    {
     "name": "stdout",
     "output_type": "stream",
     "text": [
      "(13985, 341) (13985,)\n"
     ]
    },
    {
     "data": {
      "text/plain": [
       "0    11188\n",
       "1     2797\n",
       "dtype: int64"
      ]
     },
     "metadata": {},
     "output_type": "display_data"
    }
   ],
   "source": [
    "def sample_data(xdata, ydata, yindex=None, yratio=4):\n",
    "    \"\"\" Keep all label 1, sample from  label 0 \"\"\"\n",
    "    if not yindex: yindex = split_yindex(xdata, ydata)    \n",
    "    sample_y0_idx = np.random.choice(yindex[0], size=len(yindex[1]) * yratio)    \n",
    "    sample_idx =  np.concatenate((yindex[1], sample_y0_idx))\n",
    "    return xdata.iloc[sample_idx], ydata.iloc[sample_idx]\n",
    "\n",
    "xsample, ysample = sample_data(X, y)\n",
    "print(xsample.shape, ysample.shape)\n",
    "display(ysample.value_counts())"
   ]
  },
  {
   "cell_type": "code",
   "execution_count": 14,
   "metadata": {},
   "outputs": [],
   "source": [
    "xtrain, xvalid, ytrain, yvalid = train_test_split(xsample, ysample, test_size=0.2)\n"
   ]
  },
  {
   "cell_type": "code",
   "execution_count": 15,
   "metadata": {},
   "outputs": [
    {
     "name": "stdout",
     "output_type": "stream",
     "text": [
      "(11188, 341) (2797, 341)\n"
     ]
    }
   ],
   "source": [
    "def handle_missing(xdata):\n",
    "    return xdata.fillna(xdata.median())\n",
    "\n",
    "xtrain_no_missing = handle_missing(xtrain)\n",
    "xvalid_no_missing = handle_missing(xvalid)\n",
    "print(xtrain_no_missing.shape, xvalid_no_missing.shape)"
   ]
  },
  {
   "cell_type": "code",
   "execution_count": 16,
   "metadata": {},
   "outputs": [
    {
     "data": {
      "text/plain": [
       "'\\ndef encode_categorical(xdata):\\n#     cat_code_cols = []\\n    cat_cols = \"ICU INSURANCE GENDER\".split(\" \")\\n    xencd = xdata.copy()\\n    for cat_col in cat_cols:\\n        cat_code = cat_col + \"_code\"\\n        xencd[cat_code] = xencd[cat_col].astype(\"category\").cat.codes\\n#         cat_code_cols.append(cat_code)\\n    xencd = xencd.drop(columns=cat_cols)\\n    return xencd\\n\\n# xtrain_encoded, cat_cols = encode_categorical(xtrain_no_missing, categorical_features)\\n# xvalid_encoded, _ = encode_categorical(xvalid_no_missing, categorical_features)\\nxtrain_encoded = encode_categorical(xtrain_no_missing)\\nxvalid_encoded = encode_categorical(xvalid_no_missing)\\nprint(xtrain_encoded.shape)\\ndisplay(xtrain_encoded.sample(5)[\"ICU_code\"])\\n'"
      ]
     },
     "execution_count": 16,
     "metadata": {},
     "output_type": "execute_result"
    }
   ],
   "source": [
    "\"\"\"\n",
    "def encode_categorical(xdata):\n",
    "#     cat_code_cols = []\n",
    "    cat_cols = \"ICU INSURANCE GENDER\".split(\" \")\n",
    "    xencd = xdata.copy()\n",
    "    for cat_col in cat_cols:\n",
    "        cat_code = cat_col + \"_code\"\n",
    "        xencd[cat_code] = xencd[cat_col].astype(\"category\").cat.codes\n",
    "#         cat_code_cols.append(cat_code)\n",
    "    xencd = xencd.drop(columns=cat_cols)\n",
    "    return xencd\n",
    "\n",
    "# xtrain_encoded, cat_cols = encode_categorical(xtrain_no_missing, categorical_features)\n",
    "# xvalid_encoded, _ = encode_categorical(xvalid_no_missing, categorical_features)\n",
    "xtrain_encoded = encode_categorical(xtrain_no_missing)\n",
    "xvalid_encoded = encode_categorical(xvalid_no_missing)\n",
    "print(xtrain_encoded.shape)\n",
    "display(xtrain_encoded.sample(5)[\"ICU_code\"])\n",
    "\"\"\""
   ]
  },
  {
   "cell_type": "code",
   "execution_count": 17,
   "metadata": {},
   "outputs": [
    {
     "data": {
      "text/html": [
       "<div>\n",
       "<style scoped>\n",
       "    .dataframe tbody tr th:only-of-type {\n",
       "        vertical-align: middle;\n",
       "    }\n",
       "\n",
       "    .dataframe tbody tr th {\n",
       "        vertical-align: top;\n",
       "    }\n",
       "\n",
       "    .dataframe thead th {\n",
       "        text-align: right;\n",
       "    }\n",
       "</style>\n",
       "<table border=\"1\" class=\"dataframe\">\n",
       "  <thead>\n",
       "    <tr style=\"text-align: right;\">\n",
       "      <th></th>\n",
       "      <th>SUBJECT_ID</th>\n",
       "      <th>HADM_ID</th>\n",
       "      <th>ADMITTIME</th>\n",
       "      <th>DISCHTIME</th>\n",
       "      <th>LANGUAGE</th>\n",
       "      <th>RELIGION</th>\n",
       "      <th>MARITAL_STATUS</th>\n",
       "      <th>ETHNICITY</th>\n",
       "      <th>GENDER</th>\n",
       "      <th>AGE</th>\n",
       "      <th>...</th>\n",
       "      <th>Htncomplicn</th>\n",
       "      <th>ICU_CCU</th>\n",
       "      <th>ICU_CSRU</th>\n",
       "      <th>ICU_MICU</th>\n",
       "      <th>ICU_SICU</th>\n",
       "      <th>ICU_TSICU</th>\n",
       "      <th>ICU_nan</th>\n",
       "      <th>INSURANCE_Medicare</th>\n",
       "      <th>INSURANCE_Private</th>\n",
       "      <th>INSURANCE_nan</th>\n",
       "    </tr>\n",
       "  </thead>\n",
       "  <tbody>\n",
       "    <tr>\n",
       "      <th>6815</th>\n",
       "      <td>26542</td>\n",
       "      <td>180230</td>\n",
       "      <td>2167-04-11_22:47:00</td>\n",
       "      <td>2171-12-19_17:30:00</td>\n",
       "      <td>ENGL</td>\n",
       "      <td>OTHER</td>\n",
       "      <td>MARRIED</td>\n",
       "      <td>WHITE</td>\n",
       "      <td>F</td>\n",
       "      <td>66</td>\n",
       "      <td>...</td>\n",
       "      <td>0</td>\n",
       "      <td>0</td>\n",
       "      <td>0</td>\n",
       "      <td>0</td>\n",
       "      <td>1</td>\n",
       "      <td>0</td>\n",
       "      <td>0</td>\n",
       "      <td>0</td>\n",
       "      <td>1</td>\n",
       "      <td>0</td>\n",
       "    </tr>\n",
       "    <tr>\n",
       "      <th>5880</th>\n",
       "      <td>23308</td>\n",
       "      <td>130290</td>\n",
       "      <td>2153-12-18_01:56:00</td>\n",
       "      <td>2155-05-09_16:30:00</td>\n",
       "      <td>ENGL</td>\n",
       "      <td>CATHOLIC</td>\n",
       "      <td>SINGLE</td>\n",
       "      <td>UNABLE_TO_OBTAIN</td>\n",
       "      <td>M</td>\n",
       "      <td>76</td>\n",
       "      <td>...</td>\n",
       "      <td>0</td>\n",
       "      <td>0</td>\n",
       "      <td>0</td>\n",
       "      <td>1</td>\n",
       "      <td>0</td>\n",
       "      <td>0</td>\n",
       "      <td>0</td>\n",
       "      <td>1</td>\n",
       "      <td>0</td>\n",
       "      <td>0</td>\n",
       "    </tr>\n",
       "    <tr>\n",
       "      <th>47019</th>\n",
       "      <td>82806</td>\n",
       "      <td>109760</td>\n",
       "      <td>2177-03-05_15:57:00</td>\n",
       "      <td>2126-03-30_21:00:00</td>\n",
       "      <td>ENGL</td>\n",
       "      <td>CATHOLIC</td>\n",
       "      <td>SINGLE</td>\n",
       "      <td>WHITE</td>\n",
       "      <td>M</td>\n",
       "      <td>90</td>\n",
       "      <td>...</td>\n",
       "      <td>0</td>\n",
       "      <td>0</td>\n",
       "      <td>0</td>\n",
       "      <td>0</td>\n",
       "      <td>0</td>\n",
       "      <td>1</td>\n",
       "      <td>0</td>\n",
       "      <td>1</td>\n",
       "      <td>0</td>\n",
       "      <td>0</td>\n",
       "    </tr>\n",
       "    <tr>\n",
       "      <th>11771</th>\n",
       "      <td>9678</td>\n",
       "      <td>165555</td>\n",
       "      <td>2201-01-29_19:32:00</td>\n",
       "      <td>2169-09-19_15:37:00</td>\n",
       "      <td>ENGL</td>\n",
       "      <td>PROTESTANT_QUAKER</td>\n",
       "      <td>MARRIED</td>\n",
       "      <td>WHITE</td>\n",
       "      <td>M</td>\n",
       "      <td>63</td>\n",
       "      <td>...</td>\n",
       "      <td>0</td>\n",
       "      <td>0</td>\n",
       "      <td>1</td>\n",
       "      <td>0</td>\n",
       "      <td>0</td>\n",
       "      <td>0</td>\n",
       "      <td>0</td>\n",
       "      <td>0</td>\n",
       "      <td>1</td>\n",
       "      <td>0</td>\n",
       "    </tr>\n",
       "    <tr>\n",
       "      <th>39102</th>\n",
       "      <td>29288</td>\n",
       "      <td>121301</td>\n",
       "      <td>2121-11-11_18:03:00</td>\n",
       "      <td>2186-02-06_19:15:00</td>\n",
       "      <td>ENGL</td>\n",
       "      <td>NOT_SPECIFIED</td>\n",
       "      <td>MARRIED</td>\n",
       "      <td>WHITE</td>\n",
       "      <td>M</td>\n",
       "      <td>86</td>\n",
       "      <td>...</td>\n",
       "      <td>0</td>\n",
       "      <td>1</td>\n",
       "      <td>0</td>\n",
       "      <td>0</td>\n",
       "      <td>0</td>\n",
       "      <td>0</td>\n",
       "      <td>0</td>\n",
       "      <td>1</td>\n",
       "      <td>0</td>\n",
       "      <td>0</td>\n",
       "    </tr>\n",
       "  </tbody>\n",
       "</table>\n",
       "<p>5 rows × 348 columns</p>\n",
       "</div>"
      ],
      "text/plain": [
       "       SUBJECT_ID  HADM_ID            ADMITTIME            DISCHTIME LANGUAGE  \\\n",
       "6815        26542   180230  2167-04-11_22:47:00  2171-12-19_17:30:00     ENGL   \n",
       "5880        23308   130290  2153-12-18_01:56:00  2155-05-09_16:30:00     ENGL   \n",
       "47019       82806   109760  2177-03-05_15:57:00  2126-03-30_21:00:00     ENGL   \n",
       "11771        9678   165555  2201-01-29_19:32:00  2169-09-19_15:37:00     ENGL   \n",
       "39102       29288   121301  2121-11-11_18:03:00  2186-02-06_19:15:00     ENGL   \n",
       "\n",
       "                RELIGION MARITAL_STATUS         ETHNICITY GENDER  AGE  ...  \\\n",
       "6815               OTHER        MARRIED             WHITE      F   66  ...   \n",
       "5880            CATHOLIC         SINGLE  UNABLE_TO_OBTAIN      M   76  ...   \n",
       "47019           CATHOLIC         SINGLE             WHITE      M   90  ...   \n",
       "11771  PROTESTANT_QUAKER        MARRIED             WHITE      M   63  ...   \n",
       "39102      NOT_SPECIFIED        MARRIED             WHITE      M   86  ...   \n",
       "\n",
       "       Htncomplicn  ICU_CCU  ICU_CSRU  ICU_MICU  ICU_SICU  ICU_TSICU  ICU_nan  \\\n",
       "6815             0        0         0         0         1          0        0   \n",
       "5880             0        0         0         1         0          0        0   \n",
       "47019            0        0         0         0         0          1        0   \n",
       "11771            0        0         1         0         0          0        0   \n",
       "39102            0        1         0         0         0          0        0   \n",
       "\n",
       "       INSURANCE_Medicare  INSURANCE_Private  INSURANCE_nan  \n",
       "6815                    0                  1              0  \n",
       "5880                    1                  0              0  \n",
       "47019                   1                  0              0  \n",
       "11771                   0                  1              0  \n",
       "39102                   1                  0              0  \n",
       "\n",
       "[5 rows x 348 columns]"
      ]
     },
     "metadata": {},
     "output_type": "display_data"
    },
    {
     "name": "stdout",
     "output_type": "stream",
     "text": [
      "(5, 341) (5, 348)\n"
     ]
    }
   ],
   "source": [
    "cat_sample = X.sample(5)\n",
    "cat_onehot = pd.get_dummies(cat_sample, columns=[\"ICU\", \"INSURANCE\"], dummy_na=True)\n",
    "display(cat_onehot)\n",
    "print(cat_sample.shape, cat_onehot.shape)"
   ]
  },
  {
   "cell_type": "markdown",
   "metadata": {},
   "source": [
    " "
   ]
  },
  {
   "cell_type": "markdown",
   "metadata": {},
   "source": [
    "## <a id=\"preprocessING\"> III) Exploratory analysis</a>"
   ]
  },
  {
   "cell_type": "code",
   "execution_count": 18,
   "metadata": {},
   "outputs": [
    {
     "name": "stdout",
     "output_type": "stream",
     "text": [
      "(2797, 341) (2797, 352)\n",
      "51087    1\n",
      "70316    1\n",
      "21529    1\n",
      "2212     1\n",
      "24668    1\n",
      "Name: is_male, dtype: int64\n"
     ]
    }
   ],
   "source": [
    "def encode_categorical(xdata):\n",
    "    xencoded = xdata.copy()\n",
    "    xencoded[\"is_male\"] = (xdata[\"GENDER\"] == \"M\").astype(int)\n",
    "    \n",
    "    onehot_cols = \"ICU INSURANCE\".split(\" \")\n",
    "    xencoded = pd.get_dummies(xencoded, columns=onehot_cols, dummy_na=True)\n",
    "    \n",
    "    return xencoded\n",
    "\n",
    "xvalid_encoded = encode_categorical(xvalid_no_missing)\n",
    "print(xvalid_no_missing.shape, xvalid_encoded.shape)\n",
    "print(xvalid_encoded.sample(5)[\"is_male\"])"
   ]
  },
  {
   "cell_type": "code",
   "execution_count": 19,
   "metadata": {},
   "outputs": [
    {
     "name": "stdout",
     "output_type": "stream",
     "text": [
      "['SUBJECT_ID' 'HADM_ID' 'AGE' 'HR_MIN_DAY1' 'HR_MAX_DAY1' 'HR_MEAN_DAY1'\n",
      " 'SYS_BP_MIN_DAY1' 'SYS_BP_MAX_DAY1' 'SYS_BP_MEAN_DAY1' 'DIAS_BP_MIN_DAY1']\n",
      "<class 'numpy.ndarray'>\n"
     ]
    }
   ],
   "source": [
    "# types[types == \"Numerical\"][:20]\n",
    "numerical_features = types[types == \"Numerical\"].index.values\n",
    "print(numerical_features[0:10])\n",
    "print(type(numerical_features))"
   ]
  },
  {
   "cell_type": "code",
   "execution_count": 20,
   "metadata": {},
   "outputs": [],
   "source": [
    "binary_features = types[types == \"Binary\"].index.values\n",
    "binary_features = binary_features[binary_features != \"GENDER\"]\n",
    "# bin_mutual_info = mutual_info_classif(Xcleaned.iloc[sample_idx][binary_features], ycleaned[sample_idx])"
   ]
  },
  {
   "cell_type": "code",
   "execution_count": 21,
   "metadata": {},
   "outputs": [],
   "source": [
    "\n",
    "# selected_columns = np.concatenate((numerical_features, binary_features, cat_cols))\n",
    "# print(selected_columns.shape)"
   ]
  },
  {
   "cell_type": "code",
   "execution_count": 22,
   "metadata": {},
   "outputs": [
    {
     "name": "stdout",
     "output_type": "stream",
     "text": [
      "(2797, 345)\n"
     ]
    }
   ],
   "source": [
    "def select_columns(xdata):\n",
    "    exclude_cols = ('ADMITTIME', 'DISCHTIME', 'LANGUAGE', 'RELIGION', 'MARITAL_STATUS', 'ETHNICITY', 'GENDER')\n",
    "    selected_cols = np.setdiff1d(xdata.columns, exclude_cols)\n",
    "#     print(len(xdata.columns), len(selected_cols))\n",
    "    return xdata[selected_cols]\n",
    "\n",
    "print(select_columns(xvalid_encoded).shape)    "
   ]
  },
  {
   "cell_type": "code",
   "execution_count": 23,
   "metadata": {},
   "outputs": [
    {
     "name": "stdout",
     "output_type": "stream",
     "text": [
      "(11188, 345) (2797, 345)\n"
     ]
    }
   ],
   "source": [
    "def preprocess(xraw):\n",
    "    xencoded = encode_categorical(xraw)\n",
    "    x_no_missing = handle_missing(xencoded)\n",
    "    xselected = select_columns(x_no_missing)\n",
    "    return xselected\n",
    "\n",
    "xtrain_preprocess = preprocess(xtrain)\n",
    "xvalid_preprocess = preprocess(xvalid)\n",
    "print(xtrain_preprocess.shape, xvalid_preprocess.shape)\n"
   ]
  },
  {
   "cell_type": "code",
   "execution_count": 24,
   "metadata": {},
   "outputs": [],
   "source": [
    "pca_model = sklearn.decomposition.PCA()\n",
    "xtrain_pca = pca_model.fit_transform(xtrain_preprocess)"
   ]
  },
  {
   "cell_type": "code",
   "execution_count": 25,
   "metadata": {},
   "outputs": [
    {
     "name": "stdout",
     "output_type": "stream",
     "text": [
      "[5.05695883e-01 4.94291941e-01 5.81817425e-06 1.27354748e-06\n",
      " 1.07312238e-06 8.00775346e-07 6.11252647e-07 4.11152036e-07\n",
      " 3.50000682e-07 3.06700766e-07 2.49189239e-07 1.68731741e-07\n",
      " 1.51483595e-07 1.48662366e-07 1.34340724e-07 9.71868627e-08\n",
      " 7.19193457e-08 6.28911172e-08 5.58142701e-08 5.21035772e-08\n",
      " 4.80383333e-08 3.85668520e-08 3.32859093e-08 2.74181964e-08\n",
      " 2.38752322e-08 2.02684076e-08 1.86820315e-08 1.62579007e-08\n",
      " 1.43280352e-08 1.31667331e-08]\n"
     ]
    }
   ],
   "source": [
    "print(pca_model.explained_variance_ratio_[:30])"
   ]
  },
  {
   "cell_type": "code",
   "execution_count": 26,
   "metadata": {},
   "outputs": [
    {
     "data": {
      "image/png": "[encoded data removed]",
      "text/plain": [
       "<Figure size 432x288 with 2 Axes>"
      ]
     },
     "metadata": {
      "needs_background": "light"
     },
     "output_type": "display_data"
    }
   ],
   "source": [
    "plt.scatter(xtrain_pca[:,0], xtrain_pca[:,1], c=ytrain)\n",
    "plt.colorbar()\n",
    "plt.show()"
   ]
  },
  {
   "cell_type": "markdown",
   "metadata": {},
   "source": [
    "## <a id=\"processing\"> III) Processing</a>\n",
    "\n",
    "As you may have noticed, various variables are categorical and encoded with strings. Most models won't be able to take them as input.\n",
    "\n",
    "### Code 2: Transform the categorical data into integers using the encoding of your choice.\n",
    "\n",
    "_Hint: The simplest methods is called \"Label Encoding\". It simply consists in replacing each new category you encounter by the integer, starting from 0. It may not be the most efficient method._"
   ]
  },
  {
   "cell_type": "code",
   "execution_count": 27,
   "metadata": {},
   "outputs": [
    {
     "name": "stdout",
     "output_type": "stream",
     "text": [
      "(11188, 345) (11188,)\n",
      "(2797, 345) (2797,)\n"
     ]
    }
   ],
   "source": [
    "# xtrain_final = xtrain_encoded[selected_columns]\n",
    "xtrain_final = xtrain_preprocess\n",
    "ytrain_final = ytrain\n",
    "\n",
    "# xvalid_final = xvalid_encoded[selected_columns]\n",
    "xvalid_final = xvalid_preprocess\n",
    "yvalid_final = yvalid\n",
    "\n",
    "print(xtrain_final.shape, ytrain_final.shape)\n",
    "print(xvalid_final.shape, yvalid_final.shape)"
   ]
  },
  {
   "cell_type": "markdown",
   "metadata": {},
   "source": [
    "## <a id=\"model\"> IV) Predictive model</a>\n",
    "\n",
    "Train a model and assess its performance."
   ]
  },
  {
   "cell_type": "code",
   "execution_count": 28,
   "metadata": {},
   "outputs": [
    {
     "name": "stdout",
     "output_type": "stream",
     "text": [
      "Balanced accuracy score: 0.6645931775875932\n"
     ]
    }
   ],
   "source": [
    "# Baseline: Random Forest\n",
    "clf = RandomForestClassifier(\n",
    "    n_estimators=10, class_weight=\"balanced\",\n",
    "    max_depth=5, \n",
    "#     min_samples_split=10,\n",
    "#     min_samples_leaf=10,\n",
    "#     max_leaf_nodes=20,\n",
    ")\n",
    "\n",
    "\n",
    "clf.fit(xtrain_final, ytrain_final)  # training\n",
    "\n",
    "ypred = clf.predict(xvalid_final)  # predictions\n",
    "score = balanced_accuracy_score(yvalid_final, ypred)  # scoring\n",
    "print(\"Balanced accuracy score: {}\".format(score))"
   ]
  },
  {
   "cell_type": "code",
   "execution_count": 29,
   "metadata": {},
   "outputs": [
    {
     "data": {
      "text/plain": [
       "<sklearn.metrics._plot.confusion_matrix.ConfusionMatrixDisplay at 0x7fe77bfa1850>"
      ]
     },
     "execution_count": 29,
     "metadata": {},
     "output_type": "execute_result"
    },
    {
     "data": {
      "image/png": "[encoded data removed]",
      "text/plain": [
       "<Figure size 432x288 with 2 Axes>"
      ]
     },
     "metadata": {
      "needs_background": "light"
     },
     "output_type": "display_data"
    }
   ],
   "source": [
    "plot_confusion_matrix(clf, xvalid_final, yvalid_final)"
   ]
  },
  {
   "cell_type": "code",
   "execution_count": 30,
   "metadata": {},
   "outputs": [],
   "source": [
    "n_components = np.arange(start=10, stop=300, step=10)\n",
    "pca_scores = []\n",
    "\n",
    "for n_component in n_components:\n",
    "    pca_clf = RandomForestClassifier(\n",
    "        n_estimators=10, class_weight=\"balanced\",\n",
    "        max_depth=5, \n",
    "    )\n",
    "\n",
    "    pca_clf.fit(xtrain_pca[:, :n_component], ytrain_final)  # training\n",
    "\n",
    "    pca_predictions = pca_clf.predict(pca_model.transform(xvalid_final)[:, :n_component])  # predictions\n",
    "    pca_scores.append(balanced_accuracy_score(yvalid_final, pca_predictions))  # scoring\n",
    "    \n"
   ]
  },
  {
   "cell_type": "code",
   "execution_count": 31,
   "metadata": {},
   "outputs": [
    {
     "data": {
      "text/plain": [
       "Text(0, 0.5, 'valid balanced accuracy')"
      ]
     },
     "execution_count": 31,
     "metadata": {},
     "output_type": "execute_result"
    },
    {
     "data": {
      "image/png": "[encoded data removed]",
      "text/plain": [
       "<Figure size 432x288 with 1 Axes>"
      ]
     },
     "metadata": {
      "needs_background": "light"
     },
     "output_type": "display_data"
    }
   ],
   "source": [
    "plt.plot(n_components, pca_scores)\n",
    "plt.xlabel(\"PCA # components\")\n",
    "plt.ylabel(\"valid balanced accuracy\")"
   ]
  },
  {
   "cell_type": "markdown",
   "metadata": {},
   "source": [
    "### Code 3: the code above uses a simple \"hold out\" method to get the validation score. Use cross-validation to get a more stable estimation."
   ]
  },
  {
   "cell_type": "code",
   "execution_count": 32,
   "metadata": {},
   "outputs": [],
   "source": [
    "# TODO: cross-validation"
   ]
  },
  {
   "cell_type": "code",
   "execution_count": 46,
   "metadata": {},
   "outputs": [
    {
     "data": {
      "text/plain": [
       "['fit_time', 'score_time', 'test_score']"
      ]
     },
     "execution_count": 46,
     "metadata": {},
     "output_type": "execute_result"
    }
   ],
   "source": [
    "from sklearn.model_selection import cross_validate\n",
    "\n",
    "cv_results = cross_validate(clf, xtrain_final, ytrain_final, cv=10, scoring='balanced_accuracy')\n",
    "sorted(cv_results.keys())"
   ]
  },
  {
   "cell_type": "code",
   "execution_count": 47,
   "metadata": {},
   "outputs": [
    {
     "name": "stdout",
     "output_type": "stream",
     "text": [
      "[0.66728434 0.69391214 0.68329096 0.6430223  0.65474105 0.64853259\n",
      " 0.67157221 0.64855261 0.66653596 0.67249839]\n",
      "The average score of cross Validation:  0.664994255086287\n"
     ]
    }
   ],
   "source": [
    "print(cv_results['test_score'])\n",
    "print(\"The average score of cross Validation: \", cv_results['test_score'].mean())"
   ]
  },
  {
   "cell_type": "markdown",
   "metadata": {},
   "source": [
    "### Code 4: Try to improve your score by using at least one of the following methods:\n",
    "\n",
    "* Hyperparameter search\n",
    "* Model selection\n",
    "* Data augmentation"
   ]
  },
  {
   "cell_type": "code",
   "execution_count": 49,
   "metadata": {},
   "outputs": [],
   "source": [
    "# TODO:\n",
    "# Hyperparameter search\n",
    "# Model selection\n",
    "# Data augmentation"
   ]
  },
  {
   "cell_type": "code",
   "execution_count": 50,
   "metadata": {},
   "outputs": [
    {
     "name": "stdout",
     "output_type": "stream",
     "text": [
      "Fitting 3 folds for each of 50 candidates, totalling 150 fits\n"
     ]
    },
    {
     "name": "stderr",
     "output_type": "stream",
     "text": [
      "[Parallel(n_jobs=-1)]: Using backend LokyBackend with 4 concurrent workers.\n",
      "[Parallel(n_jobs=-1)]: Done  33 tasks      | elapsed:  3.2min\n",
      "[Parallel(n_jobs=-1)]: Done 150 out of 150 | elapsed: 16.1min finished\n"
     ]
    },
    {
     "name": "stdout",
     "output_type": "stream",
     "text": [
      "{'n_estimators': 670, 'max_features': 'sqrt', 'max_depth': 1}\n"
     ]
    }
   ],
   "source": [
    "from sklearn.model_selection import RandomizedSearchCV\n",
    "# number of trees in random forest\n",
    "n_estimators = [int(x) for x in np.linspace(start = 10, stop = 1000, num = 10)]\n",
    "# number of features at every split\n",
    "max_features = ['auto', 'sqrt', 'log2']\n",
    "\n",
    "# max depth\n",
    "max_depth = [int(x) for x in np.linspace(1, 250, num = 10)]\n",
    "max_depth.append(None)\n",
    "# create random grid\n",
    "random_grid = {\n",
    " 'n_estimators': n_estimators,\n",
    " 'max_features': max_features,\n",
    " 'max_depth': max_depth\n",
    " }\n",
    "# Random search of parameters\n",
    "rfc_random = RandomizedSearchCV(estimator = clf, param_distributions = random_grid, n_iter = 50, scoring = 'balanced_accuracy', cv = 3, verbose=2, random_state=42, n_jobs = -1)\n",
    "# Fit the model\n",
    "rfc_random.fit(xtrain_final, ytrain_final)\n",
    "# print results\n",
    "print(rfc_random.best_params_)"
   ]
  },
  {
   "cell_type": "code",
   "execution_count": 53,
   "metadata": {},
   "outputs": [
    {
     "name": "stdout",
     "output_type": "stream",
     "text": [
      "Balanced accuracy score: 0.6645931775875932\n"
     ]
    }
   ],
   "source": [
    "best_clf = RandomForestClassifier(\n",
    "    n_estimators=670, class_weight=\"balanced\",\n",
    "    max_features = 'sqrt',\n",
    "#     min_samples_split=10,\n",
    "#     min_samples_leaf=10,\n",
    "#     max_leaf_nodes=20,\n",
    ")\n",
    "\n",
    "\n",
    "best_clf.fit(xtrain_final, ytrain_final)  # training\n",
    "\n",
    "best_ypred = best_clf.predict(xvalid_final)  # predictions\n",
    "score = balanced_accuracy_score(yvalid_final, ypred)  # scoring\n",
    "print(\"Balanced accuracy score: {}\".format(score))"
   ]
  },
  {
   "cell_type": "code",
   "execution_count": 55,
   "metadata": {},
   "outputs": [
    {
     "data": {
      "text/plain": [
       "'from sklearn.model_selection import GridSearchCV\\n\\nn_estimators = [100, 300, 500, 800, 1200]\\nmax_depth = [5, 8, 15, 25, 30]\\nmin_samples_split = [2, 5, 10, 15, 100]\\nmin_samples_leaf = [1, 2, 5, 10] \\n\\nhyperF = dict(n_estimators = n_estimators, max_depth = max_depth,  \\n              min_samples_split = min_samples_split, \\n             min_samples_leaf = min_samples_leaf)\\n\\ngridF = GridSearchCV(clf, hyperF, cv = 3, verbose = 1, \\n                      n_jobs = -1)\\nbestF = gridF.fit(xtrain_final, ytrain_final)'"
      ]
     },
     "execution_count": 55,
     "metadata": {},
     "output_type": "execute_result"
    }
   ],
   "source": [
    "\"\"\"from sklearn.model_selection import GridSearchCV\n",
    "\n",
    "n_estimators = [100, 300, 500, 800, 1200]\n",
    "max_depth = [5, 8, 15, 25, 30]\n",
    "min_samples_split = [2, 5, 10, 15, 100]\n",
    "min_samples_leaf = [1, 2, 5, 10] \n",
    "\n",
    "hyperF = dict(n_estimators = n_estimators, max_depth = max_depth,  \n",
    "              min_samples_split = min_samples_split, \n",
    "             min_samples_leaf = min_samples_leaf)\n",
    "\n",
    "gridF = GridSearchCV(clf, hyperF, cv = 3, verbose = 1, \n",
    "                      n_jobs = -1)\n",
    "bestF = gridF.fit(xtrain_final, ytrain_final)\"\"\""
   ]
  },
  {
   "cell_type": "markdown",
   "metadata": {},
   "source": [
    "### Question 3: What is up-sampling? Why it may be worth a try for this problem?"
   ]
  },
  {
   "cell_type": "markdown",
   "metadata": {},
   "source": [
    "TODO: answer"
   ]
  },
  {
   "cell_type": "markdown",
   "metadata": {},
   "source": [
    "## <a id=\"save\"> V) Save Predictions</a>\n",
    "\n",
    "* Use the following code to make predictions and save them as a ZIP file.\n",
    "* Try to upload this ZIP file into the competition (\"Participate > Submit/ View Results > Submit\")\n",
    "* Do your best to be **on top of the leaderboard!**"
   ]
  },
  {
   "cell_type": "code",
   "execution_count": 56,
   "metadata": {},
   "outputs": [],
   "source": [
    "xtest_preprocess = preprocess(X_test)\n",
    "predictions = clf.predict(xtest_preprocess)  # compute predictions (0 and 1)\n"
   ]
  },
  {
   "cell_type": "code",
   "execution_count": 58,
   "metadata": {},
   "outputs": [
    {
     "name": "stdout",
     "output_type": "stream",
     "text": [
      "Predictions saved.\n",
      "The submission is ready: ./submissions/submission_Mon_Nov_30_17-36-11_2020.zip\n"
     ]
    }
   ],
   "source": [
    "predictions_file = \"mimic_synthetic_test.csv\"\n",
    "pd.Series(predictions).to_csv(predictions_file, index=False, header=False)\n",
    "print(\"Predictions saved.\")\n",
    "\n",
    "t = time.asctime().replace(\" \", \"_\").replace(\":\", \"-\")\n",
    "output_file = \"./submissions/submission_\" + t + \".zip\"\n",
    "\n",
    "# !zip test_submission.zip mimic_synthetic_test.csv # create a ZIP\n",
    "\n",
    "with ZipFile(output_file, \"w\") as z:\n",
    "    z.write(predictions_file)\n",
    "print(\"The submission is ready: {}\".format(output_file))"
   ]
  },
  {
   "cell_type": "code",
   "execution_count": null,
   "metadata": {},
   "outputs": [],
   "source": []
  },
  {
   "cell_type": "markdown",
   "metadata": {},
   "source": [
    "### Interesting to know!\n",
    "\n",
    "The dataset doesn't contain actual medical data. We are not allowed to share with you such **confidential data** from critical care patients. To avoid that problem, we replaced the data by **artificial data**. \n",
    "\n",
    "In order to have credible data, we have generated them using a **Wasserstein GAN**.\n",
    "\n",
    "For more information, here is a reference: <br />\n",
    "Privacy Preserving Synthetic Health Data <br />\n",
    "Andrew Yale, Saloni Dash, Ritik Dutta, Isabelle Guyon, Adrien Pavao, Kristin Bennett <br />\n",
    "https://hal.inria.fr/hal-02160496/document"
   ]
  },
  {
   "cell_type": "code",
   "execution_count": null,
   "metadata": {},
   "outputs": [],
   "source": []
  }
 ],
 "metadata": {
  "kernelspec": {
   "display_name": "Python 3",
   "language": "python",
   "name": "python3"
  },
  "language_info": {
   "codemirror_mode": {
    "name": "ipython",
    "version": 3
   },
   "file_extension": ".py",
   "mimetype": "text/x-python",
   "name": "python",
   "nbconvert_exporter": "python",
   "pygments_lexer": "ipython3",
   "version": "3.8.3"
  }
 },
 "nbformat": 4,
 "nbformat_minor": 4
}
